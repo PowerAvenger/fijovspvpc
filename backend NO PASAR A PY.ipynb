{
 "cells": [
  {
   "cell_type": "code",
   "execution_count": 347,
   "metadata": {},
   "outputs": [],
   "source": [
    "import streamlit as st\n",
    "import requests\n",
    "import pandas as pd\n",
    "import plotly.express as px\n",
    "import datetime\n",
    "from datetime import datetime\n",
    "\n",
    "\n"
   ]
  },
  {
   "cell_type": "code",
   "execution_count": 348,
   "metadata": {},
   "outputs": [],
   "source": [
    "def download_esios_id(id,fecha_ini,fecha_fin,agrupacion):\n",
    "                       \n",
    "                       cab = dict()\n",
    "                       cab ['x-api-key']= st.secrets['ESIOS_API_KEY']\n",
    "                       url_id = 'https://api.esios.ree.es/indicators'\n",
    "                       url=f'{url_id}/{id}?geo_ids[]=8741&time_agg=average&start_date={fecha_ini}T00:00:00&end_date={fecha_fin}T23:59:59&time_trunc={agrupacion}'\n",
    "                       print(url)\n",
    "                       datos_raw = requests.get(url, headers=cab).json()\n",
    "                       #print(datos)\n",
    "\n",
    "                       return datos_raw\n",
    "                       "
   ]
  },
  {
   "cell_type": "code",
   "execution_count": null,
   "metadata": {},
   "outputs": [],
   "source": [
    "@st.cache_data(ttl=300)\n",
    "def obtener_datos_horarios():\n",
    "\n",
    "    #obtenemos la fecha de hoy\n",
    "    fecha_hoy=datetime.today().date()\n",
    "    #leemos el csv de históricos\n",
    "    df_historicos=pd.read_csv('pvpc_data.csv',sep=';',index_col=0)\n",
    "    #obtenemos el último registro\n",
    "    ultimo_registro=df_historicos['datetime'].iloc[-1]\n",
    "    #lo pasamos a datetime\n",
    "    ultimo_registro_fecha=pd.to_datetime(ultimo_registro).date()\n",
    "    #descargar datos de REE nuevos si necesario\n",
    "    if fecha_hoy >= ultimo_registro_fecha:\n",
    "        \n",
    "        fecha_ini=ultimo_registro_fecha\n",
    "        fecha_fin=fecha_hoy\n",
    "        id='10391'\n",
    "        agrupacion='hour'\n",
    "        datos_origen =download_esios_id(id,fecha_ini,fecha_fin,agrupacion)\n",
    "    #tabla limpia de datos REE\n",
    "    df_datos_raw=pd.DataFrame(datos_origen['indicator']['values'])\n",
    "    #concatemos registros para actualizar csv eliminando duplicados\n",
    "    df_datos_horarios_raw=pd.concat([df_historicos,df_datos_raw]).drop_duplicates(subset=['datetime'])\n",
    "    df_datos_horarios_raw.to_csv('pvpc_data.csv',sep=';')\n",
    "\n",
    "    df_datos_horarios_pvpc = (df_datos_horarios_raw\n",
    "      .assign(datetime=lambda vh_: pd #formateamos campo fecha, desde un str con diferencia horaria a un naive\n",
    "            .to_datetime(vh_['datetime'],utc=True)  # con la fecha local\n",
    "            .dt\n",
    "            .tz_convert('Europe/Madrid')\n",
    "            .dt\n",
    "            .tz_localize(None)\n",
    "            ) \n",
    "      .loc[:,['datetime','value']]\n",
    "      )\n",
    "    df_datos_horarios_pvpc['fecha']=df_datos_horarios_pvpc['datetime'].dt.date\n",
    "    df_datos_horarios_pvpc['hora']=df_datos_horarios_pvpc['datetime'].dt.hour\n",
    "    df_datos_horarios_pvpc['dia']=df_datos_horarios_pvpc['datetime'].dt.day\n",
    "    df_datos_horarios_pvpc['mes']=df_datos_horarios_pvpc['datetime'].dt.month\n",
    "    df_datos_horarios_pvpc['año']=df_datos_horarios_pvpc['datetime'].dt.year\n",
    "    df_datos_horarios_pvpc.set_index('datetime', inplace=True)\n",
    "    df_datos_horarios_pvpc['hora'] += 1\n",
    "    df_datos_horarios_pvpc=df_datos_horarios_pvpc.reset_index()\n",
    "    df_datos_horarios_pvpc['fecha']=pd.to_datetime(df_datos_horarios_pvpc['fecha'])\n",
    "    \n",
    "    ultimo_registro= df_datos_horarios_pvpc['fecha'].max()\n",
    "    primer_registro=df_datos_horarios_pvpc['fecha'].min()\n",
    "    dias_registrados=(ultimo_registro-primer_registro).days \n",
    "    valor_minimo_horario=df_datos_horarios_pvpc['value'].min()\n",
    "    valor_maximo_diario=df_datos_horarios_pvpc['value'].max()\n",
    "    valor_minimo_horario,valor_maximo_diario\n",
    "\n",
    "    #PERFILES HORARIOS\n",
    "    df_perfil_20=pd.read_csv('perfiles_2024_20.csv',sep=';',index_col=0)\n",
    "\n",
    "    #usar solo cuando abrimos el excel grande de PowerQuery\n",
    "    #df_perfiles_origen=pd.read_excel('perfiles_iniciales_de_consumo.xlsx')\n",
    "    #df_perfiles_origen\n",
    "    #creamos un dataframe solo con perfil 20\n",
    "    #df_perfil_td20_2024=df_perfiles_origen.iloc[:,:-3]\n",
    "    #filtramos por 2024\n",
    "    #df_perfil_td20_2024=df_perfil_td20_2024[df_perfil_td20_2024['año']==2024]\n",
    "    #renombramos\n",
    "    #df_perfil_td20_2024.rename(columns={'P2.0TD,0m,d,h':'perfil_20'},inplace=True)\n",
    "    #guardamos en csv\n",
    "    #df_perfil_td20_2024.to_csv('perfiles_2024_20.csv',sep=';')\n",
    "\n",
    "    df_perfil_20=df_perfil_20.rename(columns={'Hora':'hora'})\n",
    "    df_perfil_20=df_perfil_20.drop(['Mes','Día','año'],axis=1)\n",
    "    df_perfil_20['hora']=df_perfil_20['hora'].astype(int)\n",
    "    df_perfil_20['fecha']=pd.to_datetime(df_perfil_20['fecha'])\n",
    "\n",
    "    #PERIODOS\n",
    "    #hacerlo para añadir periodos del excel original de PowerQuery\n",
    "    df_periodos=pd.read_excel('conversor periodos liquicomun.xlsx', index_col=0)\n",
    "    df_periodos_2024_3p=df_periodos[df_periodos['año']==2024]\n",
    "    df_periodos_2024_3p=df_periodos_2024_3p.drop(['dh_6p'], axis=1).reset_index()\n",
    "    df_periodos_2024_3p['hora'] += 1\n",
    "    df_periodos_2024_3p=df_periodos_2024_3p.drop(['mes','dia','año'], axis=1)\n",
    "    df_periodos_2024_3p['fecha']=pd.to_datetime(df_periodos_2024_3p['fecha'])\n",
    "    df_periodos_2024_3p['hora']=df_periodos_2024_3p['hora'].astype(int)\n",
    "    \n",
    "    df_datos_horarios_combo=df_datos_horarios_pvpc.merge(df_periodos_2024_3p,on=['fecha','hora'], how='left')\n",
    "    df_datos_horarios_combo=df_datos_horarios_combo.merge(df_perfil_20,on=['fecha','hora'], how='left')\n",
    "    df_datos_horarios_combo=df_datos_horarios_combo.rename(columns={'value':'pvpc'})\n",
    "    df_datos_horarios_combo['pvpc_perfilado']=df_datos_horarios_combo['pvpc']*df_datos_horarios_combo['perfil_20']\n",
    "    pvpc_medio=df_datos_horarios_combo['pvpc'].mean()\n",
    "    num_horas=df_datos_horarios_combo['perfil_20'].count()\n",
    "    suma_perfil=df_datos_horarios_combo['perfil_20'].sum()\n",
    "    suma_pvpc_medio_perf=df_datos_horarios_combo['pvpc_perfilado'].sum()\n",
    "    pvpc_medio_perf=suma_pvpc_medio_perf/suma_perfil\n",
    "\n",
    "    return ultimo_registro,dias_registrados,df_datos_horarios_combo\n",
    "\n",
    "\n",
    "def obtener_tabla_filtrada(df_datos_horarios_combo, fecha_ini, fecha_fin, consumo):\n",
    "    #filtrado por fechas streamlit. datos horarios\n",
    "    #fecha_ini='2024-08-01'\n",
    "    #fecha_fin='2024-08-31'\n",
    "    df_datos_horarios_combo_filtrado=df_datos_horarios_combo[(df_datos_horarios_combo['fecha'] >= fecha_ini) & (df_datos_horarios_combo['fecha']<=fecha_fin)]\n",
    "    df_datos_horarios_combo_filtrado_consumo=df_datos_horarios_combo_filtrado.copy()\n",
    "    suma_perfil=df_datos_horarios_combo_filtrado['perfil_20'].sum()\n",
    "\n",
    "    #variable de consumo streamlit\n",
    "    #consumo=300\n",
    "\n",
    "    #calculamos el consumo perfilado\n",
    "    df_datos_horarios_combo_filtrado_consumo['perfil_20']=df_datos_horarios_combo_filtrado['perfil_20']*consumo/suma_perfil\n",
    "    df_datos_horarios_combo_filtrado_consumo['pvpc_perfilado']=df_datos_horarios_combo_filtrado_consumo['pvpc']*df_datos_horarios_combo_filtrado_consumo['perfil_20']/1000\n",
    "    df_datos_horarios_combo_filtrado_consumo=df_datos_horarios_combo_filtrado_consumo.rename(columns={'perfil_20':'consumo','pvpc_perfilado':'coste'})\n",
    "    df_datos_horarios_combo_filtrado_consumo['precio']=df_datos_horarios_combo_filtrado_consumo['coste']/df_datos_horarios_combo_filtrado_consumo['consumo']\n",
    "\n",
    "    suma_consumo=df_datos_horarios_combo_filtrado_consumo['consumo'].sum()\n",
    "    #coste total del pvpc perfilado en el rango filtrado\n",
    "    suma_pvpc_perfilado=df_datos_horarios_combo_filtrado_consumo['coste'].sum()\n",
    "    media_precio_perfilado=suma_pvpc_perfilado/suma_consumo\n",
    "\n",
    "    pt_horario_filtrado=pd.pivot_table(\n",
    "        df_datos_horarios_combo_filtrado_consumo,\n",
    "        index='hora',\n",
    "        #columns='dh_3p',\n",
    "        values=['consumo','coste','precio'],\n",
    "        aggfunc='mean'\n",
    "    )\n",
    "    pt_horario_filtrado.reset_index(inplace=True)\n",
    "    \n",
    "    umbral_verde=0.1\n",
    "    umbral_rojo=0.15\n",
    "\n",
    "    pt_horario_filtrado['color'] = pt_horario_filtrado['precio'].apply(\n",
    "        lambda x: 'barato' if x <= umbral_verde else ('medio' if umbral_verde < x <= umbral_rojo else 'caro')\n",
    "    )\n",
    "\n",
    "    return pt_horario_filtrado, media_precio_perfilado\n"
   ]
  },
  {
   "cell_type": "code",
   "execution_count": 450,
   "metadata": {},
   "outputs": [
    {
     "data": {
      "application/vnd.plotly.v1+json": {
       "config": {
        "plotlyServerURL": "https://plot.ly"
       },
       "data": [
        {
         "hovertemplate": "hora=%{x}<br>kWh=%{y}<extra></extra>",
         "legendgroup": "",
         "line": {
          "color": "#000001",
          "dash": "solid"
         },
         "marker": {
          "symbol": "circle"
         },
         "mode": "lines",
         "name": "",
         "orientation": "v",
         "showlegend": false,
         "type": "scatter",
         "x": [
          1,
          2,
          3,
          4,
          5,
          6,
          7,
          8,
          9,
          10,
          11,
          12,
          13,
          14,
          15,
          16,
          17,
          18,
          19,
          20,
          21,
          22,
          23,
          24
         ],
         "xaxis": "x",
         "y": [
          0.4039714453698153,
          0.3547365556133752,
          0.3191358012896182,
          0.29744385973118953,
          0.2844674887155077,
          0.27904251878266845,
          0.28311078700673625,
          0.28576779279927117,
          0.3117511292350638,
          0.35877412393429226,
          0.39637661093705673,
          0.41923964684235815,
          0.44385802774526734,
          0.48291669071553195,
          0.5054385055400905,
          0.48712036303635414,
          0.4707465790789347,
          0.46393879680711403,
          0.457096017957734,
          0.4494987791288854,
          0.45632009614788693,
          0.5087938768523427,
          0.5043725165299241,
          0.4535013450416911
         ],
         "yaxis": "y"
        }
       ],
       "layout": {
        "legend": {
         "tracegroupgap": 0
        },
        "template": {
         "data": {
          "candlestick": [
           {
            "decreasing": {
             "line": {
              "color": "#000033"
             }
            },
            "increasing": {
             "line": {
              "color": "#000032"
             }
            },
            "type": "candlestick"
           }
          ],
          "contour": [
           {
            "colorscale": [
             [
              0,
              "#000011"
             ],
             [
              0.1111111111111111,
              "#000012"
             ],
             [
              0.2222222222222222,
              "#000013"
             ],
             [
              0.3333333333333333,
              "#000014"
             ],
             [
              0.4444444444444444,
              "#000015"
             ],
             [
              0.5555555555555556,
              "#000016"
             ],
             [
              0.6666666666666666,
              "#000017"
             ],
             [
              0.7777777777777778,
              "#000018"
             ],
             [
              0.8888888888888888,
              "#000019"
             ],
             [
              1,
              "#000020"
             ]
            ],
            "type": "contour"
           }
          ],
          "contourcarpet": [
           {
            "colorscale": [
             [
              0,
              "#000011"
             ],
             [
              0.1111111111111111,
              "#000012"
             ],
             [
              0.2222222222222222,
              "#000013"
             ],
             [
              0.3333333333333333,
              "#000014"
             ],
             [
              0.4444444444444444,
              "#000015"
             ],
             [
              0.5555555555555556,
              "#000016"
             ],
             [
              0.6666666666666666,
              "#000017"
             ],
             [
              0.7777777777777778,
              "#000018"
             ],
             [
              0.8888888888888888,
              "#000019"
             ],
             [
              1,
              "#000020"
             ]
            ],
            "type": "contourcarpet"
           }
          ],
          "heatmap": [
           {
            "colorscale": [
             [
              0,
              "#000011"
             ],
             [
              0.1111111111111111,
              "#000012"
             ],
             [
              0.2222222222222222,
              "#000013"
             ],
             [
              0.3333333333333333,
              "#000014"
             ],
             [
              0.4444444444444444,
              "#000015"
             ],
             [
              0.5555555555555556,
              "#000016"
             ],
             [
              0.6666666666666666,
              "#000017"
             ],
             [
              0.7777777777777778,
              "#000018"
             ],
             [
              0.8888888888888888,
              "#000019"
             ],
             [
              1,
              "#000020"
             ]
            ],
            "type": "heatmap"
           }
          ],
          "histogram2d": [
           {
            "colorscale": [
             [
              0,
              "#000011"
             ],
             [
              0.1111111111111111,
              "#000012"
             ],
             [
              0.2222222222222222,
              "#000013"
             ],
             [
              0.3333333333333333,
              "#000014"
             ],
             [
              0.4444444444444444,
              "#000015"
             ],
             [
              0.5555555555555556,
              "#000016"
             ],
             [
              0.6666666666666666,
              "#000017"
             ],
             [
              0.7777777777777778,
              "#000018"
             ],
             [
              0.8888888888888888,
              "#000019"
             ],
             [
              1,
              "#000020"
             ]
            ],
            "type": "histogram2d"
           }
          ],
          "icicle": [
           {
            "textfont": {
             "color": "white"
            },
            "type": "icicle"
           }
          ],
          "sankey": [
           {
            "textfont": {
             "color": "#000036"
            },
            "type": "sankey"
           }
          ],
          "scatter": [
           {
            "marker": {
             "line": {
              "width": 0
             }
            },
            "type": "scatter"
           }
          ],
          "table": [
           {
            "cells": {
             "fill": {
              "color": "#000038"
             },
             "font": {
              "color": "#000037"
             },
             "line": {
              "color": "#000039"
             }
            },
            "header": {
             "fill": {
              "color": "#000040"
             },
             "font": {
              "color": "#000036"
             },
             "line": {
              "color": "#000039"
             }
            },
            "type": "table"
           }
          ],
          "waterfall": [
           {
            "connector": {
             "line": {
              "color": "#000036",
              "width": 2
             }
            },
            "decreasing": {
             "marker": {
              "color": "#000033"
             }
            },
            "increasing": {
             "marker": {
              "color": "#000032"
             }
            },
            "totals": {
             "marker": {
              "color": "#000034"
             }
            },
            "type": "waterfall"
           }
          ]
         },
         "layout": {
          "coloraxis": {
           "colorscale": [
            [
             0,
             "#000011"
            ],
            [
             0.1111111111111111,
             "#000012"
            ],
            [
             0.2222222222222222,
             "#000013"
            ],
            [
             0.3333333333333333,
             "#000014"
            ],
            [
             0.4444444444444444,
             "#000015"
            ],
            [
             0.5555555555555556,
             "#000016"
            ],
            [
             0.6666666666666666,
             "#000017"
            ],
            [
             0.7777777777777778,
             "#000018"
            ],
            [
             0.8888888888888888,
             "#000019"
            ],
            [
             1,
             "#000020"
            ]
           ]
          },
          "colorscale": {
           "diverging": [
            [
             0,
             "#000021"
            ],
            [
             0.1,
             "#000022"
            ],
            [
             0.2,
             "#000023"
            ],
            [
             0.3,
             "#000024"
            ],
            [
             0.4,
             "#000025"
            ],
            [
             0.5,
             "#000026"
            ],
            [
             0.6,
             "#000027"
            ],
            [
             0.7,
             "#000028"
            ],
            [
             0.8,
             "#000029"
            ],
            [
             0.9,
             "#000030"
            ],
            [
             1,
             "#000031"
            ]
           ],
           "sequential": [
            [
             0,
             "#000011"
            ],
            [
             0.1111111111111111,
             "#000012"
            ],
            [
             0.2222222222222222,
             "#000013"
            ],
            [
             0.3333333333333333,
             "#000014"
            ],
            [
             0.4444444444444444,
             "#000015"
            ],
            [
             0.5555555555555556,
             "#000016"
            ],
            [
             0.6666666666666666,
             "#000017"
            ],
            [
             0.7777777777777778,
             "#000018"
            ],
            [
             0.8888888888888888,
             "#000019"
            ],
            [
             1,
             "#000020"
            ]
           ],
           "sequentialminus": [
            [
             0,
             "#000011"
            ],
            [
             0.1111111111111111,
             "#000012"
            ],
            [
             0.2222222222222222,
             "#000013"
            ],
            [
             0.3333333333333333,
             "#000014"
            ],
            [
             0.4444444444444444,
             "#000015"
            ],
            [
             0.5555555555555556,
             "#000016"
            ],
            [
             0.6666666666666666,
             "#000017"
            ],
            [
             0.7777777777777778,
             "#000018"
            ],
            [
             0.8888888888888888,
             "#000019"
            ],
            [
             1,
             "#000020"
            ]
           ]
          },
          "colorway": [
           "#000001",
           "#000002",
           "#000003",
           "#000004",
           "#000005",
           "#000006",
           "#000007",
           "#000008",
           "#000009",
           "#000010"
          ]
         }
        },
        "title": {
         "text": "Curva de consumo perfilada (kWh)"
        },
        "xaxis": {
         "anchor": "y",
         "domain": [
          0,
          1
         ],
         "tickmode": "linear",
         "title": {
          "text": "hora"
         }
        },
        "yaxis": {
         "anchor": "x",
         "domain": [
          0,
          1
         ],
         "title": {
          "text": "kWh"
         }
        }
       }
      }
     },
     "metadata": {},
     "output_type": "display_data"
    }
   ],
   "source": [
    "def grafico_horario_consumo(pt_horario_filtrado):\n",
    "    graf_horario_consumo=px.line(pt_horario_filtrado, \n",
    "                                x='hora',y='consumo',\n",
    "                                title='Curva de consumo perfilada (kWh)',\n",
    "                                labels={'consumo':'kWh'},\n",
    "                                #color='color',\n",
    "                                #color_discrete_map={'green': 'green', 'orange': 'orange', 'red': 'red'}\n",
    "                                )\n",
    "\n",
    "    graf_horario_consumo.update_layout(\n",
    "        xaxis=dict(tickmode='linear')\n",
    "    )\n",
    "\n",
    "    return grafico_horario_consumo\n"
   ]
  },
  {
   "cell_type": "code",
   "execution_count": 452,
   "metadata": {},
   "outputs": [
    {
     "data": {
      "application/vnd.plotly.v1+json": {
       "config": {
        "plotlyServerURL": "https://plot.ly"
       },
       "data": [
        {
         "hovertemplate": "hora=%{x}<br>(€)=%{y}<extra></extra>",
         "legendgroup": "",
         "line": {
          "color": "#000001",
          "dash": "solid"
         },
         "marker": {
          "symbol": "circle"
         },
         "mode": "lines",
         "name": "",
         "orientation": "v",
         "showlegend": false,
         "type": "scatter",
         "x": [
          1,
          2,
          3,
          4,
          5,
          6,
          7,
          8,
          9,
          10,
          11,
          12,
          13,
          14,
          15,
          16,
          17,
          18,
          19,
          20,
          21,
          22,
          23,
          24
         ],
         "xaxis": "x",
         "y": [
          0.05978494239437313,
          0.050486842910670106,
          0.044070522543477944,
          0.04143587455215265,
          0.038673623033401626,
          0.03805937373863492,
          0.03994985646964427,
          0.042166392197207435,
          0.04973237111056717,
          0.04920409455065672,
          0.05898934331759652,
          0.056768193731779076,
          0.05901962235201561,
          0.0646092844102195,
          0.050493826167998,
          0.04815173486720558,
          0.047092246199404726,
          0.04961365772110008,
          0.07310368432051564,
          0.08378371165889961,
          0.09498771830760598,
          0.11594956377684298,
          0.0922942558622941,
          0.0782266670341663
         ],
         "yaxis": "y"
        }
       ],
       "layout": {
        "legend": {
         "tracegroupgap": 0
        },
        "template": {
         "data": {
          "candlestick": [
           {
            "decreasing": {
             "line": {
              "color": "#000033"
             }
            },
            "increasing": {
             "line": {
              "color": "#000032"
             }
            },
            "type": "candlestick"
           }
          ],
          "contour": [
           {
            "colorscale": [
             [
              0,
              "#000011"
             ],
             [
              0.1111111111111111,
              "#000012"
             ],
             [
              0.2222222222222222,
              "#000013"
             ],
             [
              0.3333333333333333,
              "#000014"
             ],
             [
              0.4444444444444444,
              "#000015"
             ],
             [
              0.5555555555555556,
              "#000016"
             ],
             [
              0.6666666666666666,
              "#000017"
             ],
             [
              0.7777777777777778,
              "#000018"
             ],
             [
              0.8888888888888888,
              "#000019"
             ],
             [
              1,
              "#000020"
             ]
            ],
            "type": "contour"
           }
          ],
          "contourcarpet": [
           {
            "colorscale": [
             [
              0,
              "#000011"
             ],
             [
              0.1111111111111111,
              "#000012"
             ],
             [
              0.2222222222222222,
              "#000013"
             ],
             [
              0.3333333333333333,
              "#000014"
             ],
             [
              0.4444444444444444,
              "#000015"
             ],
             [
              0.5555555555555556,
              "#000016"
             ],
             [
              0.6666666666666666,
              "#000017"
             ],
             [
              0.7777777777777778,
              "#000018"
             ],
             [
              0.8888888888888888,
              "#000019"
             ],
             [
              1,
              "#000020"
             ]
            ],
            "type": "contourcarpet"
           }
          ],
          "heatmap": [
           {
            "colorscale": [
             [
              0,
              "#000011"
             ],
             [
              0.1111111111111111,
              "#000012"
             ],
             [
              0.2222222222222222,
              "#000013"
             ],
             [
              0.3333333333333333,
              "#000014"
             ],
             [
              0.4444444444444444,
              "#000015"
             ],
             [
              0.5555555555555556,
              "#000016"
             ],
             [
              0.6666666666666666,
              "#000017"
             ],
             [
              0.7777777777777778,
              "#000018"
             ],
             [
              0.8888888888888888,
              "#000019"
             ],
             [
              1,
              "#000020"
             ]
            ],
            "type": "heatmap"
           }
          ],
          "histogram2d": [
           {
            "colorscale": [
             [
              0,
              "#000011"
             ],
             [
              0.1111111111111111,
              "#000012"
             ],
             [
              0.2222222222222222,
              "#000013"
             ],
             [
              0.3333333333333333,
              "#000014"
             ],
             [
              0.4444444444444444,
              "#000015"
             ],
             [
              0.5555555555555556,
              "#000016"
             ],
             [
              0.6666666666666666,
              "#000017"
             ],
             [
              0.7777777777777778,
              "#000018"
             ],
             [
              0.8888888888888888,
              "#000019"
             ],
             [
              1,
              "#000020"
             ]
            ],
            "type": "histogram2d"
           }
          ],
          "icicle": [
           {
            "textfont": {
             "color": "white"
            },
            "type": "icicle"
           }
          ],
          "sankey": [
           {
            "textfont": {
             "color": "#000036"
            },
            "type": "sankey"
           }
          ],
          "scatter": [
           {
            "marker": {
             "line": {
              "width": 0
             }
            },
            "type": "scatter"
           }
          ],
          "table": [
           {
            "cells": {
             "fill": {
              "color": "#000038"
             },
             "font": {
              "color": "#000037"
             },
             "line": {
              "color": "#000039"
             }
            },
            "header": {
             "fill": {
              "color": "#000040"
             },
             "font": {
              "color": "#000036"
             },
             "line": {
              "color": "#000039"
             }
            },
            "type": "table"
           }
          ],
          "waterfall": [
           {
            "connector": {
             "line": {
              "color": "#000036",
              "width": 2
             }
            },
            "decreasing": {
             "marker": {
              "color": "#000033"
             }
            },
            "increasing": {
             "marker": {
              "color": "#000032"
             }
            },
            "totals": {
             "marker": {
              "color": "#000034"
             }
            },
            "type": "waterfall"
           }
          ]
         },
         "layout": {
          "coloraxis": {
           "colorscale": [
            [
             0,
             "#000011"
            ],
            [
             0.1111111111111111,
             "#000012"
            ],
            [
             0.2222222222222222,
             "#000013"
            ],
            [
             0.3333333333333333,
             "#000014"
            ],
            [
             0.4444444444444444,
             "#000015"
            ],
            [
             0.5555555555555556,
             "#000016"
            ],
            [
             0.6666666666666666,
             "#000017"
            ],
            [
             0.7777777777777778,
             "#000018"
            ],
            [
             0.8888888888888888,
             "#000019"
            ],
            [
             1,
             "#000020"
            ]
           ]
          },
          "colorscale": {
           "diverging": [
            [
             0,
             "#000021"
            ],
            [
             0.1,
             "#000022"
            ],
            [
             0.2,
             "#000023"
            ],
            [
             0.3,
             "#000024"
            ],
            [
             0.4,
             "#000025"
            ],
            [
             0.5,
             "#000026"
            ],
            [
             0.6,
             "#000027"
            ],
            [
             0.7,
             "#000028"
            ],
            [
             0.8,
             "#000029"
            ],
            [
             0.9,
             "#000030"
            ],
            [
             1,
             "#000031"
            ]
           ],
           "sequential": [
            [
             0,
             "#000011"
            ],
            [
             0.1111111111111111,
             "#000012"
            ],
            [
             0.2222222222222222,
             "#000013"
            ],
            [
             0.3333333333333333,
             "#000014"
            ],
            [
             0.4444444444444444,
             "#000015"
            ],
            [
             0.5555555555555556,
             "#000016"
            ],
            [
             0.6666666666666666,
             "#000017"
            ],
            [
             0.7777777777777778,
             "#000018"
            ],
            [
             0.8888888888888888,
             "#000019"
            ],
            [
             1,
             "#000020"
            ]
           ],
           "sequentialminus": [
            [
             0,
             "#000011"
            ],
            [
             0.1111111111111111,
             "#000012"
            ],
            [
             0.2222222222222222,
             "#000013"
            ],
            [
             0.3333333333333333,
             "#000014"
            ],
            [
             0.4444444444444444,
             "#000015"
            ],
            [
             0.5555555555555556,
             "#000016"
            ],
            [
             0.6666666666666666,
             "#000017"
            ],
            [
             0.7777777777777778,
             "#000018"
            ],
            [
             0.8888888888888888,
             "#000019"
            ],
            [
             1,
             "#000020"
            ]
           ]
          },
          "colorway": [
           "#000001",
           "#000002",
           "#000003",
           "#000004",
           "#000005",
           "#000006",
           "#000007",
           "#000008",
           "#000009",
           "#000010"
          ]
         }
        },
        "title": {
         "text": "Coste del PVPC perfilado (€)"
        },
        "xaxis": {
         "anchor": "y",
         "domain": [
          0,
          1
         ],
         "tickmode": "linear",
         "title": {
          "text": "hora"
         }
        },
        "yaxis": {
         "anchor": "x",
         "domain": [
          0,
          1
         ],
         "title": {
          "text": "(€)"
         }
        }
       }
      }
     },
     "metadata": {},
     "output_type": "display_data"
    }
   ],
   "source": [
    "def grafico_horario_coste(pt_horario_filtrado):\n",
    "    graf_horario_coste=px.line(pt_horario_filtrado,\n",
    "                            x='hora',y='coste',\n",
    "                            title='Coste del PVPC perfilado (€)',\n",
    "                            labels={'coste':'(€)'}\n",
    "                            )\n",
    "    graf_horario_coste.update_layout(\n",
    "        xaxis=dict(tickmode='linear')\n",
    "    )\n",
    "\n",
    "    return grafico_horario_coste"
   ]
  },
  {
   "cell_type": "code",
   "execution_count": 453,
   "metadata": {},
   "outputs": [
    {
     "data": {
      "application/vnd.plotly.v1+json": {
       "config": {
        "plotlyServerURL": "https://plot.ly"
       },
       "data": [
        {
         "alignmentgroup": "True",
         "hovertemplate": "precio=medio<br>hora=%{x}<br>€/kWh=%{y}<extra></extra>",
         "legendgroup": "medio",
         "marker": {
          "color": "orange",
          "pattern": {
           "shape": ""
          }
         },
         "name": "medio",
         "offsetgroup": "medio",
         "orientation": "v",
         "showlegend": true,
         "textposition": "auto",
         "type": "bar",
         "x": [
          1,
          2,
          3,
          4,
          5,
          6,
          7,
          8,
          10,
          11,
          12,
          13,
          14,
          18
         ],
         "xaxis": "x",
         "y": [
          0.14797129032258063,
          0.14226451612903224,
          0.13805612903225808,
          0.13927741935483873,
          0.13594451612903227,
          0.13638032258064514,
          0.14104967741935484,
          0.14722806451612905,
          0.13618354838709676,
          0.14806032258064517,
          0.13535193548387095,
          0.13283774193548387,
          0.1334209677419355,
          0.10620967741935484
         ],
         "yaxis": "y"
        },
        {
         "alignmentgroup": "True",
         "hovertemplate": "precio=caro<br>hora=%{x}<br>€/kWh=%{y}<extra></extra>",
         "legendgroup": "caro",
         "marker": {
          "color": "red",
          "pattern": {
           "shape": ""
          }
         },
         "name": "caro",
         "offsetgroup": "caro",
         "orientation": "v",
         "showlegend": true,
         "textposition": "auto",
         "type": "bar",
         "x": [
          9,
          19,
          20,
          21,
          22,
          23,
          24
         ],
         "xaxis": "x",
         "y": [
          0.15865290322580644,
          0.159098064516129,
          0.18591774193548385,
          0.20780129032258066,
          0.2274990322580645,
          0.18288354838709678,
          0.1724516129032258
         ],
         "yaxis": "y"
        },
        {
         "alignmentgroup": "True",
         "hovertemplate": "precio=barato<br>hora=%{x}<br>€/kWh=%{y}<extra></extra>",
         "legendgroup": "barato",
         "marker": {
          "color": "green",
          "pattern": {
           "shape": ""
          }
         },
         "name": "barato",
         "offsetgroup": "barato",
         "orientation": "v",
         "showlegend": true,
         "textposition": "auto",
         "type": "bar",
         "x": [
          15,
          16,
          17
         ],
         "xaxis": "x",
         "y": [
          0.09957548387096775,
          0.09835645161290323,
          0.09940774193548388
         ],
         "yaxis": "y"
        }
       ],
       "layout": {
        "barmode": "relative",
        "legend": {
         "title": {
          "text": "precio"
         },
         "tracegroupgap": 0
        },
        "template": {
         "data": {
          "candlestick": [
           {
            "decreasing": {
             "line": {
              "color": "#000033"
             }
            },
            "increasing": {
             "line": {
              "color": "#000032"
             }
            },
            "type": "candlestick"
           }
          ],
          "contour": [
           {
            "colorscale": [
             [
              0,
              "#000011"
             ],
             [
              0.1111111111111111,
              "#000012"
             ],
             [
              0.2222222222222222,
              "#000013"
             ],
             [
              0.3333333333333333,
              "#000014"
             ],
             [
              0.4444444444444444,
              "#000015"
             ],
             [
              0.5555555555555556,
              "#000016"
             ],
             [
              0.6666666666666666,
              "#000017"
             ],
             [
              0.7777777777777778,
              "#000018"
             ],
             [
              0.8888888888888888,
              "#000019"
             ],
             [
              1,
              "#000020"
             ]
            ],
            "type": "contour"
           }
          ],
          "contourcarpet": [
           {
            "colorscale": [
             [
              0,
              "#000011"
             ],
             [
              0.1111111111111111,
              "#000012"
             ],
             [
              0.2222222222222222,
              "#000013"
             ],
             [
              0.3333333333333333,
              "#000014"
             ],
             [
              0.4444444444444444,
              "#000015"
             ],
             [
              0.5555555555555556,
              "#000016"
             ],
             [
              0.6666666666666666,
              "#000017"
             ],
             [
              0.7777777777777778,
              "#000018"
             ],
             [
              0.8888888888888888,
              "#000019"
             ],
             [
              1,
              "#000020"
             ]
            ],
            "type": "contourcarpet"
           }
          ],
          "heatmap": [
           {
            "colorscale": [
             [
              0,
              "#000011"
             ],
             [
              0.1111111111111111,
              "#000012"
             ],
             [
              0.2222222222222222,
              "#000013"
             ],
             [
              0.3333333333333333,
              "#000014"
             ],
             [
              0.4444444444444444,
              "#000015"
             ],
             [
              0.5555555555555556,
              "#000016"
             ],
             [
              0.6666666666666666,
              "#000017"
             ],
             [
              0.7777777777777778,
              "#000018"
             ],
             [
              0.8888888888888888,
              "#000019"
             ],
             [
              1,
              "#000020"
             ]
            ],
            "type": "heatmap"
           }
          ],
          "histogram2d": [
           {
            "colorscale": [
             [
              0,
              "#000011"
             ],
             [
              0.1111111111111111,
              "#000012"
             ],
             [
              0.2222222222222222,
              "#000013"
             ],
             [
              0.3333333333333333,
              "#000014"
             ],
             [
              0.4444444444444444,
              "#000015"
             ],
             [
              0.5555555555555556,
              "#000016"
             ],
             [
              0.6666666666666666,
              "#000017"
             ],
             [
              0.7777777777777778,
              "#000018"
             ],
             [
              0.8888888888888888,
              "#000019"
             ],
             [
              1,
              "#000020"
             ]
            ],
            "type": "histogram2d"
           }
          ],
          "icicle": [
           {
            "textfont": {
             "color": "white"
            },
            "type": "icicle"
           }
          ],
          "sankey": [
           {
            "textfont": {
             "color": "#000036"
            },
            "type": "sankey"
           }
          ],
          "scatter": [
           {
            "marker": {
             "line": {
              "width": 0
             }
            },
            "type": "scatter"
           }
          ],
          "table": [
           {
            "cells": {
             "fill": {
              "color": "#000038"
             },
             "font": {
              "color": "#000037"
             },
             "line": {
              "color": "#000039"
             }
            },
            "header": {
             "fill": {
              "color": "#000040"
             },
             "font": {
              "color": "#000036"
             },
             "line": {
              "color": "#000039"
             }
            },
            "type": "table"
           }
          ],
          "waterfall": [
           {
            "connector": {
             "line": {
              "color": "#000036",
              "width": 2
             }
            },
            "decreasing": {
             "marker": {
              "color": "#000033"
             }
            },
            "increasing": {
             "marker": {
              "color": "#000032"
             }
            },
            "totals": {
             "marker": {
              "color": "#000034"
             }
            },
            "type": "waterfall"
           }
          ]
         },
         "layout": {
          "coloraxis": {
           "colorscale": [
            [
             0,
             "#000011"
            ],
            [
             0.1111111111111111,
             "#000012"
            ],
            [
             0.2222222222222222,
             "#000013"
            ],
            [
             0.3333333333333333,
             "#000014"
            ],
            [
             0.4444444444444444,
             "#000015"
            ],
            [
             0.5555555555555556,
             "#000016"
            ],
            [
             0.6666666666666666,
             "#000017"
            ],
            [
             0.7777777777777778,
             "#000018"
            ],
            [
             0.8888888888888888,
             "#000019"
            ],
            [
             1,
             "#000020"
            ]
           ]
          },
          "colorscale": {
           "diverging": [
            [
             0,
             "#000021"
            ],
            [
             0.1,
             "#000022"
            ],
            [
             0.2,
             "#000023"
            ],
            [
             0.3,
             "#000024"
            ],
            [
             0.4,
             "#000025"
            ],
            [
             0.5,
             "#000026"
            ],
            [
             0.6,
             "#000027"
            ],
            [
             0.7,
             "#000028"
            ],
            [
             0.8,
             "#000029"
            ],
            [
             0.9,
             "#000030"
            ],
            [
             1,
             "#000031"
            ]
           ],
           "sequential": [
            [
             0,
             "#000011"
            ],
            [
             0.1111111111111111,
             "#000012"
            ],
            [
             0.2222222222222222,
             "#000013"
            ],
            [
             0.3333333333333333,
             "#000014"
            ],
            [
             0.4444444444444444,
             "#000015"
            ],
            [
             0.5555555555555556,
             "#000016"
            ],
            [
             0.6666666666666666,
             "#000017"
            ],
            [
             0.7777777777777778,
             "#000018"
            ],
            [
             0.8888888888888888,
             "#000019"
            ],
            [
             1,
             "#000020"
            ]
           ],
           "sequentialminus": [
            [
             0,
             "#000011"
            ],
            [
             0.1111111111111111,
             "#000012"
            ],
            [
             0.2222222222222222,
             "#000013"
            ],
            [
             0.3333333333333333,
             "#000014"
            ],
            [
             0.4444444444444444,
             "#000015"
            ],
            [
             0.5555555555555556,
             "#000016"
            ],
            [
             0.6666666666666666,
             "#000017"
            ],
            [
             0.7777777777777778,
             "#000018"
            ],
            [
             0.8888888888888888,
             "#000019"
            ],
            [
             1,
             "#000020"
            ]
           ]
          },
          "colorway": [
           "#000001",
           "#000002",
           "#000003",
           "#000004",
           "#000005",
           "#000006",
           "#000007",
           "#000008",
           "#000009",
           "#000010"
          ]
         }
        },
        "title": {
         "text": "Curva de precios medios (€/kWh)"
        },
        "xaxis": {
         "anchor": "y",
         "domain": [
          0,
          1
         ],
         "tickmode": "linear",
         "title": {
          "text": "hora"
         }
        },
        "yaxis": {
         "anchor": "x",
         "domain": [
          0,
          1
         ],
         "title": {
          "text": "€/kWh"
         }
        }
       }
      }
     },
     "metadata": {},
     "output_type": "display_data"
    }
   ],
   "source": [
    "def grafico_horario_precio(pt_horario_filtrado):\n",
    "    graf_horario_precio=px.bar(pt_horario_filtrado, \n",
    "                                x='hora',y='precio',\n",
    "                                title='Curva de precios medios (€/kWh)',\n",
    "                                labels={'precio':'€/kWh','color':'precio'},\n",
    "                                color='color',\n",
    "                                color_discrete_map={'barato': 'green', 'medio': 'orange', 'caro': 'red'}\n",
    "                                \n",
    "                                )\n",
    "\n",
    "    graf_horario_precio.update_layout(\n",
    "        xaxis=dict(tickmode='linear')\n",
    "    )\n",
    "\n",
    "    return grafico_horario_precio"
   ]
  },
  {
   "cell_type": "code",
   "execution_count": 454,
   "metadata": {},
   "outputs": [],
   "source": [
    "def obtener_datos_por_periodo(df_datos_horarios_combo_filtrado_consumo):\n",
    "    pt_periodos_filtrado=pd.pivot_table(\n",
    "        df_datos_horarios_combo_filtrado_consumo,\n",
    "        index='dh_3p',\n",
    "        #columns='dh_3p',\n",
    "        values=['consumo','coste','precio'],\n",
    "        aggfunc={\n",
    "            'consumo':'sum',\n",
    "            'coste':'sum',\n",
    "            'precio':'mean'\n",
    "        }\n",
    "    )\n",
    "\n",
    "    totales_periodo=pt_periodos_filtrado[['consumo','coste']].sum()\n",
    "\n",
    "    pt_periodos_filtrado_porc=pt_periodos_filtrado[['consumo','coste']].div(totales)*100\n",
    "    pt_periodos_filtrado_porc=pt_periodos_filtrado_porc.round(2)\n",
    "    pt_periodos_filtrado_porc.reset_index(inplace=True)\n",
    "\n",
    "\n",
    "    return pt_periodos_filtrado, pt_periodos_filtrado_porc, totales_periodo"
   ]
  },
  {
   "cell_type": "code",
   "execution_count": 469,
   "metadata": {},
   "outputs": [
    {
     "data": {
      "application/vnd.plotly.v1+json": {
       "config": {
        "plotlyServerURL": "https://plot.ly"
       },
       "data": [
        {
         "customdata": [
          [
           "P1"
          ],
          [
           "P2"
          ],
          [
           "P3"
          ]
         ],
         "direction": "clockwise",
         "domain": {
          "x": [
           0,
           1
          ],
          "y": [
           0,
           1
          ]
         },
         "hole": 0.3,
         "hovertemplate": "periodo=%{customdata[0]}<br>consumo (kWh)=%{value}<extra></extra>",
         "labels": [
          "P1",
          "P2",
          "P3"
         ],
         "legendgroup": "",
         "marker": {
          "colors": [
           "red",
           "orange",
           "green"
          ]
         },
         "name": "",
         "showlegend": true,
         "sort": false,
         "textinfo": "label+percent",
         "textposition": "inside",
         "type": "pie",
         "values": [
          25.43,
          25.13,
          49.44
         ]
        }
       ],
       "layout": {
        "legend": {
         "title": {
          "text": "Periodo"
         },
         "tracegroupgap": 0
        },
        "showlegend": true,
        "template": {
         "data": {
          "candlestick": [
           {
            "decreasing": {
             "line": {
              "color": "#000033"
             }
            },
            "increasing": {
             "line": {
              "color": "#000032"
             }
            },
            "type": "candlestick"
           }
          ],
          "contour": [
           {
            "colorscale": [
             [
              0,
              "#000011"
             ],
             [
              0.1111111111111111,
              "#000012"
             ],
             [
              0.2222222222222222,
              "#000013"
             ],
             [
              0.3333333333333333,
              "#000014"
             ],
             [
              0.4444444444444444,
              "#000015"
             ],
             [
              0.5555555555555556,
              "#000016"
             ],
             [
              0.6666666666666666,
              "#000017"
             ],
             [
              0.7777777777777778,
              "#000018"
             ],
             [
              0.8888888888888888,
              "#000019"
             ],
             [
              1,
              "#000020"
             ]
            ],
            "type": "contour"
           }
          ],
          "contourcarpet": [
           {
            "colorscale": [
             [
              0,
              "#000011"
             ],
             [
              0.1111111111111111,
              "#000012"
             ],
             [
              0.2222222222222222,
              "#000013"
             ],
             [
              0.3333333333333333,
              "#000014"
             ],
             [
              0.4444444444444444,
              "#000015"
             ],
             [
              0.5555555555555556,
              "#000016"
             ],
             [
              0.6666666666666666,
              "#000017"
             ],
             [
              0.7777777777777778,
              "#000018"
             ],
             [
              0.8888888888888888,
              "#000019"
             ],
             [
              1,
              "#000020"
             ]
            ],
            "type": "contourcarpet"
           }
          ],
          "heatmap": [
           {
            "colorscale": [
             [
              0,
              "#000011"
             ],
             [
              0.1111111111111111,
              "#000012"
             ],
             [
              0.2222222222222222,
              "#000013"
             ],
             [
              0.3333333333333333,
              "#000014"
             ],
             [
              0.4444444444444444,
              "#000015"
             ],
             [
              0.5555555555555556,
              "#000016"
             ],
             [
              0.6666666666666666,
              "#000017"
             ],
             [
              0.7777777777777778,
              "#000018"
             ],
             [
              0.8888888888888888,
              "#000019"
             ],
             [
              1,
              "#000020"
             ]
            ],
            "type": "heatmap"
           }
          ],
          "histogram2d": [
           {
            "colorscale": [
             [
              0,
              "#000011"
             ],
             [
              0.1111111111111111,
              "#000012"
             ],
             [
              0.2222222222222222,
              "#000013"
             ],
             [
              0.3333333333333333,
              "#000014"
             ],
             [
              0.4444444444444444,
              "#000015"
             ],
             [
              0.5555555555555556,
              "#000016"
             ],
             [
              0.6666666666666666,
              "#000017"
             ],
             [
              0.7777777777777778,
              "#000018"
             ],
             [
              0.8888888888888888,
              "#000019"
             ],
             [
              1,
              "#000020"
             ]
            ],
            "type": "histogram2d"
           }
          ],
          "icicle": [
           {
            "textfont": {
             "color": "white"
            },
            "type": "icicle"
           }
          ],
          "sankey": [
           {
            "textfont": {
             "color": "#000036"
            },
            "type": "sankey"
           }
          ],
          "scatter": [
           {
            "marker": {
             "line": {
              "width": 0
             }
            },
            "type": "scatter"
           }
          ],
          "table": [
           {
            "cells": {
             "fill": {
              "color": "#000038"
             },
             "font": {
              "color": "#000037"
             },
             "line": {
              "color": "#000039"
             }
            },
            "header": {
             "fill": {
              "color": "#000040"
             },
             "font": {
              "color": "#000036"
             },
             "line": {
              "color": "#000039"
             }
            },
            "type": "table"
           }
          ],
          "waterfall": [
           {
            "connector": {
             "line": {
              "color": "#000036",
              "width": 2
             }
            },
            "decreasing": {
             "marker": {
              "color": "#000033"
             }
            },
            "increasing": {
             "marker": {
              "color": "#000032"
             }
            },
            "totals": {
             "marker": {
              "color": "#000034"
             }
            },
            "type": "waterfall"
           }
          ]
         },
         "layout": {
          "coloraxis": {
           "colorscale": [
            [
             0,
             "#000011"
            ],
            [
             0.1111111111111111,
             "#000012"
            ],
            [
             0.2222222222222222,
             "#000013"
            ],
            [
             0.3333333333333333,
             "#000014"
            ],
            [
             0.4444444444444444,
             "#000015"
            ],
            [
             0.5555555555555556,
             "#000016"
            ],
            [
             0.6666666666666666,
             "#000017"
            ],
            [
             0.7777777777777778,
             "#000018"
            ],
            [
             0.8888888888888888,
             "#000019"
            ],
            [
             1,
             "#000020"
            ]
           ]
          },
          "colorscale": {
           "diverging": [
            [
             0,
             "#000021"
            ],
            [
             0.1,
             "#000022"
            ],
            [
             0.2,
             "#000023"
            ],
            [
             0.3,
             "#000024"
            ],
            [
             0.4,
             "#000025"
            ],
            [
             0.5,
             "#000026"
            ],
            [
             0.6,
             "#000027"
            ],
            [
             0.7,
             "#000028"
            ],
            [
             0.8,
             "#000029"
            ],
            [
             0.9,
             "#000030"
            ],
            [
             1,
             "#000031"
            ]
           ],
           "sequential": [
            [
             0,
             "#000011"
            ],
            [
             0.1111111111111111,
             "#000012"
            ],
            [
             0.2222222222222222,
             "#000013"
            ],
            [
             0.3333333333333333,
             "#000014"
            ],
            [
             0.4444444444444444,
             "#000015"
            ],
            [
             0.5555555555555556,
             "#000016"
            ],
            [
             0.6666666666666666,
             "#000017"
            ],
            [
             0.7777777777777778,
             "#000018"
            ],
            [
             0.8888888888888888,
             "#000019"
            ],
            [
             1,
             "#000020"
            ]
           ],
           "sequentialminus": [
            [
             0,
             "#000011"
            ],
            [
             0.1111111111111111,
             "#000012"
            ],
            [
             0.2222222222222222,
             "#000013"
            ],
            [
             0.3333333333333333,
             "#000014"
            ],
            [
             0.4444444444444444,
             "#000015"
            ],
            [
             0.5555555555555556,
             "#000016"
            ],
            [
             0.6666666666666666,
             "#000017"
            ],
            [
             0.7777777777777778,
             "#000018"
            ],
            [
             0.8888888888888888,
             "#000019"
            ],
            [
             1,
             "#000020"
            ]
           ]
          },
          "colorway": [
           "#000001",
           "#000002",
           "#000003",
           "#000004",
           "#000005",
           "#000006",
           "#000007",
           "#000008",
           "#000009",
           "#000010"
          ]
         }
        },
        "title": {
         "text": "Consumo por periodos (%)"
        }
       }
      }
     },
     "metadata": {},
     "output_type": "display_data"
    }
   ],
   "source": [
    "def graf_consumos_queso(pt_periodos_filtrado_porc):\n",
    "\n",
    "    graf_consumos_queso = px.pie(\n",
    "        pt_periodos_filtrado_porc, \n",
    "        names='dh_3p',\n",
    "        values='consumo',  # Valores para el área principal\n",
    "        color='dh_3p',  # Diferenciar por colores\n",
    "        color_discrete_map={'P1': 'red', 'P2': 'orange', 'P3': 'green'},  # Colores personalizados\n",
    "        title=\"Consumo por periodos (%)\",\n",
    "        hole=.3,\n",
    "        labels={'dh_3p':'periodo','consumo':'consumo (kWh)'},\n",
    "        category_orders={'dh_3p': ['P1', 'P2', 'P3']}\n",
    "        #hover_data=['dh_3p']\n",
    "    )\n",
    "\n",
    "    graf_consumos_queso.update_traces(\n",
    "        textposition='inside',\n",
    "        textinfo='label+percent'\n",
    "    )\n",
    "    graf_consumos_queso.update_layout(\n",
    "        legend_title_text='Periodo',  # Cambiar el título de la leyenda\n",
    "        showlegend=True  # Asegurar que la leyenda esté visible\n",
    "    )\n",
    "\n",
    "    return graf_consumos_queso"
   ]
  },
  {
   "cell_type": "code",
   "execution_count": 470,
   "metadata": {},
   "outputs": [
    {
     "data": {
      "application/vnd.plotly.v1+json": {
       "config": {
        "plotlyServerURL": "https://plot.ly"
       },
       "data": [
        {
         "customdata": [
          [
           "P1"
          ],
          [
           "P2"
          ],
          [
           "P3"
          ]
         ],
         "direction": "clockwise",
         "domain": {
          "x": [
           0,
           1
          ],
          "y": [
           0,
           1
          ]
         },
         "hole": 0.3,
         "hovertemplate": "periodo=%{customdata[0]}<br>coste (kWh)=%{value}<extra></extra>",
         "labels": [
          "P1",
          "P2",
          "P3"
         ],
         "legendgroup": "",
         "marker": {
          "colors": [
           "red",
           "orange",
           "green"
          ]
         },
         "name": "",
         "showlegend": true,
         "sort": false,
         "textinfo": "label+percent",
         "textposition": "inside",
         "type": "pie",
         "values": [
          35.22,
          25.65,
          39.13
         ]
        }
       ],
       "layout": {
        "legend": {
         "title": {
          "text": "Periodo"
         },
         "tracegroupgap": 0
        },
        "showlegend": true,
        "template": {
         "data": {
          "candlestick": [
           {
            "decreasing": {
             "line": {
              "color": "#000033"
             }
            },
            "increasing": {
             "line": {
              "color": "#000032"
             }
            },
            "type": "candlestick"
           }
          ],
          "contour": [
           {
            "colorscale": [
             [
              0,
              "#000011"
             ],
             [
              0.1111111111111111,
              "#000012"
             ],
             [
              0.2222222222222222,
              "#000013"
             ],
             [
              0.3333333333333333,
              "#000014"
             ],
             [
              0.4444444444444444,
              "#000015"
             ],
             [
              0.5555555555555556,
              "#000016"
             ],
             [
              0.6666666666666666,
              "#000017"
             ],
             [
              0.7777777777777778,
              "#000018"
             ],
             [
              0.8888888888888888,
              "#000019"
             ],
             [
              1,
              "#000020"
             ]
            ],
            "type": "contour"
           }
          ],
          "contourcarpet": [
           {
            "colorscale": [
             [
              0,
              "#000011"
             ],
             [
              0.1111111111111111,
              "#000012"
             ],
             [
              0.2222222222222222,
              "#000013"
             ],
             [
              0.3333333333333333,
              "#000014"
             ],
             [
              0.4444444444444444,
              "#000015"
             ],
             [
              0.5555555555555556,
              "#000016"
             ],
             [
              0.6666666666666666,
              "#000017"
             ],
             [
              0.7777777777777778,
              "#000018"
             ],
             [
              0.8888888888888888,
              "#000019"
             ],
             [
              1,
              "#000020"
             ]
            ],
            "type": "contourcarpet"
           }
          ],
          "heatmap": [
           {
            "colorscale": [
             [
              0,
              "#000011"
             ],
             [
              0.1111111111111111,
              "#000012"
             ],
             [
              0.2222222222222222,
              "#000013"
             ],
             [
              0.3333333333333333,
              "#000014"
             ],
             [
              0.4444444444444444,
              "#000015"
             ],
             [
              0.5555555555555556,
              "#000016"
             ],
             [
              0.6666666666666666,
              "#000017"
             ],
             [
              0.7777777777777778,
              "#000018"
             ],
             [
              0.8888888888888888,
              "#000019"
             ],
             [
              1,
              "#000020"
             ]
            ],
            "type": "heatmap"
           }
          ],
          "histogram2d": [
           {
            "colorscale": [
             [
              0,
              "#000011"
             ],
             [
              0.1111111111111111,
              "#000012"
             ],
             [
              0.2222222222222222,
              "#000013"
             ],
             [
              0.3333333333333333,
              "#000014"
             ],
             [
              0.4444444444444444,
              "#000015"
             ],
             [
              0.5555555555555556,
              "#000016"
             ],
             [
              0.6666666666666666,
              "#000017"
             ],
             [
              0.7777777777777778,
              "#000018"
             ],
             [
              0.8888888888888888,
              "#000019"
             ],
             [
              1,
              "#000020"
             ]
            ],
            "type": "histogram2d"
           }
          ],
          "icicle": [
           {
            "textfont": {
             "color": "white"
            },
            "type": "icicle"
           }
          ],
          "sankey": [
           {
            "textfont": {
             "color": "#000036"
            },
            "type": "sankey"
           }
          ],
          "scatter": [
           {
            "marker": {
             "line": {
              "width": 0
             }
            },
            "type": "scatter"
           }
          ],
          "table": [
           {
            "cells": {
             "fill": {
              "color": "#000038"
             },
             "font": {
              "color": "#000037"
             },
             "line": {
              "color": "#000039"
             }
            },
            "header": {
             "fill": {
              "color": "#000040"
             },
             "font": {
              "color": "#000036"
             },
             "line": {
              "color": "#000039"
             }
            },
            "type": "table"
           }
          ],
          "waterfall": [
           {
            "connector": {
             "line": {
              "color": "#000036",
              "width": 2
             }
            },
            "decreasing": {
             "marker": {
              "color": "#000033"
             }
            },
            "increasing": {
             "marker": {
              "color": "#000032"
             }
            },
            "totals": {
             "marker": {
              "color": "#000034"
             }
            },
            "type": "waterfall"
           }
          ]
         },
         "layout": {
          "coloraxis": {
           "colorscale": [
            [
             0,
             "#000011"
            ],
            [
             0.1111111111111111,
             "#000012"
            ],
            [
             0.2222222222222222,
             "#000013"
            ],
            [
             0.3333333333333333,
             "#000014"
            ],
            [
             0.4444444444444444,
             "#000015"
            ],
            [
             0.5555555555555556,
             "#000016"
            ],
            [
             0.6666666666666666,
             "#000017"
            ],
            [
             0.7777777777777778,
             "#000018"
            ],
            [
             0.8888888888888888,
             "#000019"
            ],
            [
             1,
             "#000020"
            ]
           ]
          },
          "colorscale": {
           "diverging": [
            [
             0,
             "#000021"
            ],
            [
             0.1,
             "#000022"
            ],
            [
             0.2,
             "#000023"
            ],
            [
             0.3,
             "#000024"
            ],
            [
             0.4,
             "#000025"
            ],
            [
             0.5,
             "#000026"
            ],
            [
             0.6,
             "#000027"
            ],
            [
             0.7,
             "#000028"
            ],
            [
             0.8,
             "#000029"
            ],
            [
             0.9,
             "#000030"
            ],
            [
             1,
             "#000031"
            ]
           ],
           "sequential": [
            [
             0,
             "#000011"
            ],
            [
             0.1111111111111111,
             "#000012"
            ],
            [
             0.2222222222222222,
             "#000013"
            ],
            [
             0.3333333333333333,
             "#000014"
            ],
            [
             0.4444444444444444,
             "#000015"
            ],
            [
             0.5555555555555556,
             "#000016"
            ],
            [
             0.6666666666666666,
             "#000017"
            ],
            [
             0.7777777777777778,
             "#000018"
            ],
            [
             0.8888888888888888,
             "#000019"
            ],
            [
             1,
             "#000020"
            ]
           ],
           "sequentialminus": [
            [
             0,
             "#000011"
            ],
            [
             0.1111111111111111,
             "#000012"
            ],
            [
             0.2222222222222222,
             "#000013"
            ],
            [
             0.3333333333333333,
             "#000014"
            ],
            [
             0.4444444444444444,
             "#000015"
            ],
            [
             0.5555555555555556,
             "#000016"
            ],
            [
             0.6666666666666666,
             "#000017"
            ],
            [
             0.7777777777777778,
             "#000018"
            ],
            [
             0.8888888888888888,
             "#000019"
            ],
            [
             1,
             "#000020"
            ]
           ]
          },
          "colorway": [
           "#000001",
           "#000002",
           "#000003",
           "#000004",
           "#000005",
           "#000006",
           "#000007",
           "#000008",
           "#000009",
           "#000010"
          ]
         }
        },
        "title": {
         "text": "Coste por periodos (%)"
        }
       }
      }
     },
     "metadata": {},
     "output_type": "display_data"
    }
   ],
   "source": [
    "def graf_costes_queso(pt_periodos_filtrado_porc):\n",
    "    graf_costes_queso = px.pie(\n",
    "        pt_periodos_filtrado_porc, \n",
    "        names='dh_3p',\n",
    "        values='coste',  # Valores para el área principal\n",
    "        color='dh_3p',  # Diferenciar por colores\n",
    "        color_discrete_map={'P1': 'red', 'P2': 'orange', 'P3': 'green'},  # Colores personalizados\n",
    "        title=\"Coste por periodos (%)\",\n",
    "        hole=.3,\n",
    "        labels={'dh_3p':'periodo','coste':'coste (kWh)'},\n",
    "        category_orders={'dh_3p': ['P1', 'P2', 'P3']}\n",
    "        #hover_data=['dh_3p']\n",
    "    )\n",
    "\n",
    "    graf_costes_queso.update_traces(\n",
    "        textposition='inside',\n",
    "        textinfo='label+percent'\n",
    "    )\n",
    "    graf_costes_queso.update_layout(\n",
    "        legend_title_text='Periodo',  # Cambiar el título de la leyenda\n",
    "        showlegend=True  # Asegurar que la leyenda esté visible\n",
    "    )\n",
    "\n",
    "    return graf_costes_queso"
   ]
  }
 ],
 "metadata": {
  "kernelspec": {
   "display_name": "base",
   "language": "python",
   "name": "python3"
  },
  "language_info": {
   "codemirror_mode": {
    "name": "ipython",
    "version": 3
   },
   "file_extension": ".py",
   "mimetype": "text/x-python",
   "name": "python",
   "nbconvert_exporter": "python",
   "pygments_lexer": "ipython3",
   "version": "3.11.4"
  }
 },
 "nbformat": 4,
 "nbformat_minor": 2
}
