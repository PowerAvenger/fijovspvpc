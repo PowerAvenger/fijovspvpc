{
 "cells": [
  {
   "cell_type": "code",
   "execution_count": 3,
   "metadata": {},
   "outputs": [],
   "source": [
    "import streamlit as st\n",
    "import requests\n",
    "import pandas as pd\n",
    "import plotly.express as px\n",
    "import datetime\n",
    "from datetime import datetime\n",
    "\n",
    "\n"
   ]
  },
  {
   "cell_type": "code",
   "execution_count": 4,
   "metadata": {},
   "outputs": [],
   "source": [
    "API_KEY=st.secrets['ESIOS_API_KEY']"
   ]
  },
  {
   "cell_type": "code",
   "execution_count": 5,
   "metadata": {},
   "outputs": [],
   "source": [
    "def download_esios_id(id,fecha_ini,fecha_fin,agrupacion):\n",
    "                       token = API_KEY\n",
    "                       \n",
    "                       cab = dict()\n",
    "                       cab ['x-api-key']= token\n",
    "                       url_id = 'https://api.esios.ree.es/indicators'\n",
    "                       url=f'{url_id}/{id}?geo_ids[]=8741&time_agg=average&start_date={fecha_ini}T00:00:00&end_date={fecha_fin}T23:59:59&time_trunc={agrupacion}'\n",
    "                       print(url)\n",
    "                       response = requests.get(url, headers=cab).json()\n",
    "                       print(response)\n",
    "\n",
    "                       return response\n",
    "                       "
   ]
  },
  {
   "cell_type": "code",
   "execution_count": 6,
   "metadata": {},
   "outputs": [],
   "source": [
    "id='10391'\n",
    "fecha_ini='2024-01-01'\n",
    "fecha_fin='2024-12-31'\n",
    "agrupacion='day'\n"
   ]
  },
  {
   "cell_type": "code",
   "execution_count": 7,
   "metadata": {},
   "outputs": [
    {
     "name": "stdout",
     "output_type": "stream",
     "text": [
      "https://api.esios.ree.es/indicators/10391?geo_ids[]=8741&time_agg=average&start_date=2024-01-01T00:00:00&end_date=2024-12-31T23:59:59&time_trunc=day\n",
      "{'indicator': {'name': 'Término de facturación de energía activa del PVPC 2.0TD suma componentes', 'short_name': '2.0TD suma componentes', 'id': 10391, 'composited': True, 'step_type': 'linear', 'disaggregated': True, 'magnitud': [{'name': 'Precio', 'id': 23}], 'tiempo': [{'name': 'Hora', 'id': 4}], 'geos': [{'geo_id': 8741, 'geo_name': 'Península'}], 'values_updated_at': '2024-01-09T16:30:02.000+01:00', 'values': [{'value': 90.572083, 'datetime': '2024-01-01T00:00:00.000+01:00', 'datetime_utc': '2023-12-31T23:00:00Z', 'tz_time': '2023-12-31T23:00:00.000Z', 'geo_id': 8741, 'geo_name': 'Península'}, {'value': 120.48, 'datetime': '2024-01-02T00:00:00.000+01:00', 'datetime_utc': '2024-01-01T23:00:00Z', 'tz_time': '2024-01-01T23:00:00.000Z', 'geo_id': 8741, 'geo_name': 'Península'}, {'value': 130.6025, 'datetime': '2024-01-03T00:00:00.000+01:00', 'datetime_utc': '2024-01-02T23:00:00Z', 'tz_time': '2024-01-02T23:00:00.000Z', 'geo_id': 8741, 'geo_name': 'Península'}, {'value': 165.82875, 'datetime': '2024-01-04T00:00:00.000+01:00', 'datetime_utc': '2024-01-03T23:00:00Z', 'tz_time': '2024-01-03T23:00:00.000Z', 'geo_id': 8741, 'geo_name': 'Península'}, {'value': 143.9575, 'datetime': '2024-01-05T00:00:00.000+01:00', 'datetime_utc': '2024-01-04T23:00:00Z', 'tz_time': '2024-01-04T23:00:00.000Z', 'geo_id': 8741, 'geo_name': 'Península'}, {'value': 88.500833, 'datetime': '2024-01-06T00:00:00.000+01:00', 'datetime_utc': '2024-01-05T23:00:00Z', 'tz_time': '2024-01-05T23:00:00.000Z', 'geo_id': 8741, 'geo_name': 'Península'}, {'value': 120.919167, 'datetime': '2024-01-07T00:00:00.000+01:00', 'datetime_utc': '2024-01-06T23:00:00Z', 'tz_time': '2024-01-06T23:00:00.000Z', 'geo_id': 8741, 'geo_name': 'Península'}, {'value': 178.196667, 'datetime': '2024-01-08T00:00:00.000+01:00', 'datetime_utc': '2024-01-07T23:00:00Z', 'tz_time': '2024-01-07T23:00:00.000Z', 'geo_id': 8741, 'geo_name': 'Península'}, {'value': 183.964167, 'datetime': '2024-01-09T00:00:00.000+01:00', 'datetime_utc': '2024-01-08T23:00:00Z', 'tz_time': '2024-01-08T23:00:00.000Z', 'geo_id': 8741, 'geo_name': 'Península'}, {'value': 169.8975, 'datetime': '2024-01-10T00:00:00.000+01:00', 'datetime_utc': '2024-01-09T23:00:00Z', 'tz_time': '2024-01-09T23:00:00.000Z', 'geo_id': 8741, 'geo_name': 'Península'}, {'value': 167.151667, 'datetime': '2024-01-11T00:00:00.000+01:00', 'datetime_utc': '2024-01-10T23:00:00Z', 'tz_time': '2024-01-10T23:00:00.000Z', 'geo_id': 8741, 'geo_name': 'Península'}, {'value': 167.062917, 'datetime': '2024-01-12T00:00:00.000+01:00', 'datetime_utc': '2024-01-11T23:00:00Z', 'tz_time': '2024-01-11T23:00:00.000Z', 'geo_id': 8741, 'geo_name': 'Península'}, {'value': 129.28, 'datetime': '2024-01-13T00:00:00.000+01:00', 'datetime_utc': '2024-01-12T23:00:00Z', 'tz_time': '2024-01-12T23:00:00.000Z', 'geo_id': 8741, 'geo_name': 'Península'}, {'value': 119.779583, 'datetime': '2024-01-14T00:00:00.000+01:00', 'datetime_utc': '2024-01-13T23:00:00Z', 'tz_time': '2024-01-13T23:00:00.000Z', 'geo_id': 8741, 'geo_name': 'Península'}, {'value': 162.664583, 'datetime': '2024-01-15T00:00:00.000+01:00', 'datetime_utc': '2024-01-14T23:00:00Z', 'tz_time': '2024-01-14T23:00:00.000Z', 'geo_id': 8741, 'geo_name': 'Península'}, {'value': 162.35625, 'datetime': '2024-01-16T00:00:00.000+01:00', 'datetime_utc': '2024-01-15T23:00:00Z', 'tz_time': '2024-01-15T23:00:00.000Z', 'geo_id': 8741, 'geo_name': 'Península'}, {'value': 102.068333, 'datetime': '2024-01-17T00:00:00.000+01:00', 'datetime_utc': '2024-01-16T23:00:00Z', 'tz_time': '2024-01-16T23:00:00.000Z', 'geo_id': 8741, 'geo_name': 'Península'}, {'value': 123.261667, 'datetime': '2024-01-18T00:00:00.000+01:00', 'datetime_utc': '2024-01-17T23:00:00Z', 'tz_time': '2024-01-17T23:00:00.000Z', 'geo_id': 8741, 'geo_name': 'Península'}, {'value': 145.768333, 'datetime': '2024-01-19T00:00:00.000+01:00', 'datetime_utc': '2024-01-18T23:00:00Z', 'tz_time': '2024-01-18T23:00:00.000Z', 'geo_id': 8741, 'geo_name': 'Península'}, {'value': 124.71625, 'datetime': '2024-01-20T00:00:00.000+01:00', 'datetime_utc': '2024-01-19T23:00:00Z', 'tz_time': '2024-01-19T23:00:00.000Z', 'geo_id': 8741, 'geo_name': 'Península'}, {'value': 108.119583, 'datetime': '2024-01-21T00:00:00.000+01:00', 'datetime_utc': '2024-01-20T23:00:00Z', 'tz_time': '2024-01-20T23:00:00.000Z', 'geo_id': 8741, 'geo_name': 'Península'}, {'value': 143.644583, 'datetime': '2024-01-22T00:00:00.000+01:00', 'datetime_utc': '2024-01-21T23:00:00Z', 'tz_time': '2024-01-21T23:00:00.000Z', 'geo_id': 8741, 'geo_name': 'Península'}, {'value': 151.076667, 'datetime': '2024-01-23T00:00:00.000+01:00', 'datetime_utc': '2024-01-22T23:00:00Z', 'tz_time': '2024-01-22T23:00:00.000Z', 'geo_id': 8741, 'geo_name': 'Península'}, {'value': 154.770417, 'datetime': '2024-01-24T00:00:00.000+01:00', 'datetime_utc': '2024-01-23T23:00:00Z', 'tz_time': '2024-01-23T23:00:00.000Z', 'geo_id': 8741, 'geo_name': 'Península'}, {'value': 149.8175, 'datetime': '2024-01-25T00:00:00.000+01:00', 'datetime_utc': '2024-01-24T23:00:00Z', 'tz_time': '2024-01-24T23:00:00.000Z', 'geo_id': 8741, 'geo_name': 'Península'}, {'value': 147.64, 'datetime': '2024-01-26T00:00:00.000+01:00', 'datetime_utc': '2024-01-25T23:00:00Z', 'tz_time': '2024-01-25T23:00:00.000Z', 'geo_id': 8741, 'geo_name': 'Península'}, {'value': 110.635417, 'datetime': '2024-01-27T00:00:00.000+01:00', 'datetime_utc': '2024-01-26T23:00:00Z', 'tz_time': '2024-01-26T23:00:00.000Z', 'geo_id': 8741, 'geo_name': 'Península'}, {'value': 98.438333, 'datetime': '2024-01-28T00:00:00.000+01:00', 'datetime_utc': '2024-01-27T23:00:00Z', 'tz_time': '2024-01-27T23:00:00.000Z', 'geo_id': 8741, 'geo_name': 'Península'}, {'value': 152.7425, 'datetime': '2024-01-29T00:00:00.000+01:00', 'datetime_utc': '2024-01-28T23:00:00Z', 'tz_time': '2024-01-28T23:00:00.000Z', 'geo_id': 8741, 'geo_name': 'Península'}, {'value': 154.605417, 'datetime': '2024-01-30T00:00:00.000+01:00', 'datetime_utc': '2024-01-29T23:00:00Z', 'tz_time': '2024-01-29T23:00:00.000Z', 'geo_id': 8741, 'geo_name': 'Península'}, {'value': 156.104167, 'datetime': '2024-01-31T00:00:00.000+01:00', 'datetime_utc': '2024-01-30T23:00:00Z', 'tz_time': '2024-01-30T23:00:00.000Z', 'geo_id': 8741, 'geo_name': 'Península'}, {'value': 144.20375, 'datetime': '2024-02-01T00:00:00.000+01:00', 'datetime_utc': '2024-01-31T23:00:00Z', 'tz_time': '2024-01-31T23:00:00.000Z', 'geo_id': 8741, 'geo_name': 'Península'}, {'value': 139.12875, 'datetime': '2024-02-02T00:00:00.000+01:00', 'datetime_utc': '2024-02-01T23:00:00Z', 'tz_time': '2024-02-01T23:00:00.000Z', 'geo_id': 8741, 'geo_name': 'Península'}, {'value': 102.39125, 'datetime': '2024-02-03T00:00:00.000+01:00', 'datetime_utc': '2024-02-02T23:00:00Z', 'tz_time': '2024-02-02T23:00:00.000Z', 'geo_id': 8741, 'geo_name': 'Península'}, {'value': 108.123333, 'datetime': '2024-02-04T00:00:00.000+01:00', 'datetime_utc': '2024-02-03T23:00:00Z', 'tz_time': '2024-02-03T23:00:00.000Z', 'geo_id': 8741, 'geo_name': 'Península'}, {'value': 153.017917, 'datetime': '2024-02-05T00:00:00.000+01:00', 'datetime_utc': '2024-02-04T23:00:00Z', 'tz_time': '2024-02-04T23:00:00.000Z', 'geo_id': 8741, 'geo_name': 'Península'}, {'value': 146.77875, 'datetime': '2024-02-06T00:00:00.000+01:00', 'datetime_utc': '2024-02-05T23:00:00Z', 'tz_time': '2024-02-05T23:00:00.000Z', 'geo_id': 8741, 'geo_name': 'Península'}, {'value': 125.31375, 'datetime': '2024-02-07T00:00:00.000+01:00', 'datetime_utc': '2024-02-06T23:00:00Z', 'tz_time': '2024-02-06T23:00:00.000Z', 'geo_id': 8741, 'geo_name': 'Península'}, {'value': 113.86375, 'datetime': '2024-02-08T00:00:00.000+01:00', 'datetime_utc': '2024-02-07T23:00:00Z', 'tz_time': '2024-02-07T23:00:00.000Z', 'geo_id': 8741, 'geo_name': 'Península'}, {'value': 114.4825, 'datetime': '2024-02-09T00:00:00.000+01:00', 'datetime_utc': '2024-02-08T23:00:00Z', 'tz_time': '2024-02-08T23:00:00.000Z', 'geo_id': 8741, 'geo_name': 'Península'}, {'value': 53.119583, 'datetime': '2024-02-10T00:00:00.000+01:00', 'datetime_utc': '2024-02-09T23:00:00Z', 'tz_time': '2024-02-09T23:00:00.000Z', 'geo_id': 8741, 'geo_name': 'Península'}, {'value': 86.92375, 'datetime': '2024-02-11T00:00:00.000+01:00', 'datetime_utc': '2024-02-10T23:00:00Z', 'tz_time': '2024-02-10T23:00:00.000Z', 'geo_id': 8741, 'geo_name': 'Península'}, {'value': 119.560833, 'datetime': '2024-02-12T00:00:00.000+01:00', 'datetime_utc': '2024-02-11T23:00:00Z', 'tz_time': '2024-02-11T23:00:00.000Z', 'geo_id': 8741, 'geo_name': 'Península'}, {'value': 136.639583, 'datetime': '2024-02-13T00:00:00.000+01:00', 'datetime_utc': '2024-02-12T23:00:00Z', 'tz_time': '2024-02-12T23:00:00.000Z', 'geo_id': 8741, 'geo_name': 'Península'}, {'value': 134.121667, 'datetime': '2024-02-14T00:00:00.000+01:00', 'datetime_utc': '2024-02-13T23:00:00Z', 'tz_time': '2024-02-13T23:00:00.000Z', 'geo_id': 8741, 'geo_name': 'Península'}, {'value': 125.898333, 'datetime': '2024-02-15T00:00:00.000+01:00', 'datetime_utc': '2024-02-14T23:00:00Z', 'tz_time': '2024-02-14T23:00:00.000Z', 'geo_id': 8741, 'geo_name': 'Península'}, {'value': 128.19625, 'datetime': '2024-02-16T00:00:00.000+01:00', 'datetime_utc': '2024-02-15T23:00:00Z', 'tz_time': '2024-02-15T23:00:00.000Z', 'geo_id': 8741, 'geo_name': 'Península'}, {'value': 91.915, 'datetime': '2024-02-17T00:00:00.000+01:00', 'datetime_utc': '2024-02-16T23:00:00Z', 'tz_time': '2024-02-16T23:00:00.000Z', 'geo_id': 8741, 'geo_name': 'Península'}, {'value': 92.56, 'datetime': '2024-02-18T00:00:00.000+01:00', 'datetime_utc': '2024-02-17T23:00:00Z', 'tz_time': '2024-02-17T23:00:00.000Z', 'geo_id': 8741, 'geo_name': 'Península'}, {'value': 122.780833, 'datetime': '2024-02-19T00:00:00.000+01:00', 'datetime_utc': '2024-02-18T23:00:00Z', 'tz_time': '2024-02-18T23:00:00.000Z', 'geo_id': 8741, 'geo_name': 'Península'}, {'value': 127.640833, 'datetime': '2024-02-20T00:00:00.000+01:00', 'datetime_utc': '2024-02-19T23:00:00Z', 'tz_time': '2024-02-19T23:00:00.000Z', 'geo_id': 8741, 'geo_name': 'Península'}, {'value': 120.27, 'datetime': '2024-02-21T00:00:00.000+01:00', 'datetime_utc': '2024-02-20T23:00:00Z', 'tz_time': '2024-02-20T23:00:00.000Z', 'geo_id': 8741, 'geo_name': 'Península'}, {'value': 88.22, 'datetime': '2024-02-22T00:00:00.000+01:00', 'datetime_utc': '2024-02-21T23:00:00Z', 'tz_time': '2024-02-21T23:00:00.000Z', 'geo_id': 8741, 'geo_name': 'Península'}, {'value': 81.877083, 'datetime': '2024-02-23T00:00:00.000+01:00', 'datetime_utc': '2024-02-22T23:00:00Z', 'tz_time': '2024-02-22T23:00:00.000Z', 'geo_id': 8741, 'geo_name': 'Península'}, {'value': 49.80125, 'datetime': '2024-02-24T00:00:00.000+01:00', 'datetime_utc': '2024-02-23T23:00:00Z', 'tz_time': '2024-02-23T23:00:00.000Z', 'geo_id': 8741, 'geo_name': 'Península'}, {'value': 49.74, 'datetime': '2024-02-25T00:00:00.000+01:00', 'datetime_utc': '2024-02-24T23:00:00Z', 'tz_time': '2024-02-24T23:00:00.000Z', 'geo_id': 8741, 'geo_name': 'Península'}, {'value': 84.405833, 'datetime': '2024-02-26T00:00:00.000+01:00', 'datetime_utc': '2024-02-25T23:00:00Z', 'tz_time': '2024-02-25T23:00:00.000Z', 'geo_id': 8741, 'geo_name': 'Península'}, {'value': 80.67375, 'datetime': '2024-02-27T00:00:00.000+01:00', 'datetime_utc': '2024-02-26T23:00:00Z', 'tz_time': '2024-02-26T23:00:00.000Z', 'geo_id': 8741, 'geo_name': 'Península'}, {'value': 88.849583, 'datetime': '2024-02-28T00:00:00.000+01:00', 'datetime_utc': '2024-02-27T23:00:00Z', 'tz_time': '2024-02-27T23:00:00.000Z', 'geo_id': 8741, 'geo_name': 'Península'}, {'value': 82.109583, 'datetime': '2024-02-29T00:00:00.000+01:00', 'datetime_utc': '2024-02-28T23:00:00Z', 'tz_time': '2024-02-28T23:00:00.000Z', 'geo_id': 8741, 'geo_name': 'Península'}, {'value': 80.045, 'datetime': '2024-03-01T00:00:00.000+01:00', 'datetime_utc': '2024-02-29T23:00:00Z', 'tz_time': '2024-02-29T23:00:00.000Z', 'geo_id': 8741, 'geo_name': 'Península'}, {'value': 47.342083, 'datetime': '2024-03-02T00:00:00.000+01:00', 'datetime_utc': '2024-03-01T23:00:00Z', 'tz_time': '2024-03-01T23:00:00.000Z', 'geo_id': 8741, 'geo_name': 'Península'}, {'value': 48.915833, 'datetime': '2024-03-03T00:00:00.000+01:00', 'datetime_utc': '2024-03-02T23:00:00Z', 'tz_time': '2024-03-02T23:00:00.000Z', 'geo_id': 8741, 'geo_name': 'Península'}, {'value': 85.7275, 'datetime': '2024-03-04T00:00:00.000+01:00', 'datetime_utc': '2024-03-03T23:00:00Z', 'tz_time': '2024-03-03T23:00:00.000Z', 'geo_id': 8741, 'geo_name': 'Península'}, {'value': 106.886667, 'datetime': '2024-03-05T00:00:00.000+01:00', 'datetime_utc': '2024-03-04T23:00:00Z', 'tz_time': '2024-03-04T23:00:00.000Z', 'geo_id': 8741, 'geo_name': 'Península'}, {'value': 117.498333, 'datetime': '2024-03-06T00:00:00.000+01:00', 'datetime_utc': '2024-03-05T23:00:00Z', 'tz_time': '2024-03-05T23:00:00.000Z', 'geo_id': 8741, 'geo_name': 'Península'}, {'value': 86.678333, 'datetime': '2024-03-07T00:00:00.000+01:00', 'datetime_utc': '2024-03-06T23:00:00Z', 'tz_time': '2024-03-06T23:00:00.000Z', 'geo_id': 8741, 'geo_name': 'Península'}, {'value': 80.802083, 'datetime': '2024-03-08T00:00:00.000+01:00', 'datetime_utc': '2024-03-07T23:00:00Z', 'tz_time': '2024-03-07T23:00:00.000Z', 'geo_id': 8741, 'geo_name': 'Península'}, {'value': 44.445417, 'datetime': '2024-03-09T00:00:00.000+01:00', 'datetime_utc': '2024-03-08T23:00:00Z', 'tz_time': '2024-03-08T23:00:00.000Z', 'geo_id': 8741, 'geo_name': 'Península'}, {'value': 47.683333, 'datetime': '2024-03-10T00:00:00.000+01:00', 'datetime_utc': '2024-03-09T23:00:00Z', 'tz_time': '2024-03-09T23:00:00.000Z', 'geo_id': 8741, 'geo_name': 'Península'}, {'value': 93.292917, 'datetime': '2024-03-11T00:00:00.000+01:00', 'datetime_utc': '2024-03-10T23:00:00Z', 'tz_time': '2024-03-10T23:00:00.000Z', 'geo_id': 8741, 'geo_name': 'Península'}, {'value': 120.071667, 'datetime': '2024-03-12T00:00:00.000+01:00', 'datetime_utc': '2024-03-11T23:00:00Z', 'tz_time': '2024-03-11T23:00:00.000Z', 'geo_id': 8741, 'geo_name': 'Península'}, {'value': 119.679167, 'datetime': '2024-03-13T00:00:00.000+01:00', 'datetime_utc': '2024-03-12T23:00:00Z', 'tz_time': '2024-03-12T23:00:00.000Z', 'geo_id': 8741, 'geo_name': 'Península'}, {'value': 114.020833, 'datetime': '2024-03-14T00:00:00.000+01:00', 'datetime_utc': '2024-03-13T23:00:00Z', 'tz_time': '2024-03-13T23:00:00.000Z', 'geo_id': 8741, 'geo_name': 'Península'}, {'value': 114.058333, 'datetime': '2024-03-15T00:00:00.000+01:00', 'datetime_utc': '2024-03-14T23:00:00Z', 'tz_time': '2024-03-14T23:00:00.000Z', 'geo_id': 8741, 'geo_name': 'Península'}, {'value': 80.756667, 'datetime': '2024-03-16T00:00:00.000+01:00', 'datetime_utc': '2024-03-15T23:00:00Z', 'tz_time': '2024-03-15T23:00:00.000Z', 'geo_id': 8741, 'geo_name': 'Península'}, {'value': 81.317083, 'datetime': '2024-03-17T00:00:00.000+01:00', 'datetime_utc': '2024-03-16T23:00:00Z', 'tz_time': '2024-03-16T23:00:00.000Z', 'geo_id': 8741, 'geo_name': 'Península'}, {'value': 137.352917, 'datetime': '2024-03-18T00:00:00.000+01:00', 'datetime_utc': '2024-03-17T23:00:00Z', 'tz_time': '2024-03-17T23:00:00.000Z', 'geo_id': 8741, 'geo_name': 'Península'}, {'value': 138.750833, 'datetime': '2024-03-19T00:00:00.000+01:00', 'datetime_utc': '2024-03-18T23:00:00Z', 'tz_time': '2024-03-18T23:00:00.000Z', 'geo_id': 8741, 'geo_name': 'Península'}, {'value': 131.967917, 'datetime': '2024-03-20T00:00:00.000+01:00', 'datetime_utc': '2024-03-19T23:00:00Z', 'tz_time': '2024-03-19T23:00:00.000Z', 'geo_id': 8741, 'geo_name': 'Península'}, {'value': 114.660833, 'datetime': '2024-03-21T00:00:00.000+01:00', 'datetime_utc': '2024-03-20T23:00:00Z', 'tz_time': '2024-03-20T23:00:00.000Z', 'geo_id': 8741, 'geo_name': 'Península'}, {'value': 104.7075, 'datetime': '2024-03-22T00:00:00.000+01:00', 'datetime_utc': '2024-03-21T23:00:00Z', 'tz_time': '2024-03-21T23:00:00.000Z', 'geo_id': 8741, 'geo_name': 'Península'}, {'value': 55.140417, 'datetime': '2024-03-23T00:00:00.000+01:00', 'datetime_utc': '2024-03-22T23:00:00Z', 'tz_time': '2024-03-22T23:00:00.000Z', 'geo_id': 8741, 'geo_name': 'Península'}, {'value': 63.141667, 'datetime': '2024-03-24T00:00:00.000+01:00', 'datetime_utc': '2024-03-23T23:00:00Z', 'tz_time': '2024-03-23T23:00:00.000Z', 'geo_id': 8741, 'geo_name': 'Península'}, {'value': 109.13, 'datetime': '2024-03-25T00:00:00.000+01:00', 'datetime_utc': '2024-03-24T23:00:00Z', 'tz_time': '2024-03-24T23:00:00.000Z', 'geo_id': 8741, 'geo_name': 'Península'}, {'value': 85.377917, 'datetime': '2024-03-26T00:00:00.000+01:00', 'datetime_utc': '2024-03-25T23:00:00Z', 'tz_time': '2024-03-25T23:00:00.000Z', 'geo_id': 8741, 'geo_name': 'Península'}, {'value': 85.755, 'datetime': '2024-03-27T00:00:00.000+01:00', 'datetime_utc': '2024-03-26T23:00:00Z', 'tz_time': '2024-03-26T23:00:00.000Z', 'geo_id': 8741, 'geo_name': 'Península'}, {'value': 84.697083, 'datetime': '2024-03-28T00:00:00.000+01:00', 'datetime_utc': '2024-03-27T23:00:00Z', 'tz_time': '2024-03-27T23:00:00.000Z', 'geo_id': 8741, 'geo_name': 'Península'}, {'value': 91.6225, 'datetime': '2024-03-29T00:00:00.000+01:00', 'datetime_utc': '2024-03-28T23:00:00Z', 'tz_time': '2024-03-28T23:00:00.000Z', 'geo_id': 8741, 'geo_name': 'Península'}, {'value': 59.715833, 'datetime': '2024-03-30T00:00:00.000+01:00', 'datetime_utc': '2024-03-29T23:00:00Z', 'tz_time': '2024-03-29T23:00:00.000Z', 'geo_id': 8741, 'geo_name': 'Península'}, {'value': 56.378696, 'datetime': '2024-03-31T00:00:00.000+01:00', 'datetime_utc': '2024-03-30T23:00:00Z', 'tz_time': '2024-03-30T23:00:00.000Z', 'geo_id': 8741, 'geo_name': 'Península'}, {'value': 84.343333, 'datetime': '2024-04-01T00:00:00.000+02:00', 'datetime_utc': '2024-03-31T22:00:00Z', 'tz_time': '2024-03-31T22:00:00.000Z', 'geo_id': 8741, 'geo_name': 'Península'}, {'value': 88.097917, 'datetime': '2024-04-02T00:00:00.000+02:00', 'datetime_utc': '2024-04-01T22:00:00Z', 'tz_time': '2024-04-01T22:00:00.000Z', 'geo_id': 8741, 'geo_name': 'Península'}, {'value': 86.062083, 'datetime': '2024-04-03T00:00:00.000+02:00', 'datetime_utc': '2024-04-02T22:00:00Z', 'tz_time': '2024-04-02T22:00:00.000Z', 'geo_id': 8741, 'geo_name': 'Península'}, {'value': 85.441667, 'datetime': '2024-04-04T00:00:00.000+02:00', 'datetime_utc': '2024-04-03T22:00:00Z', 'tz_time': '2024-04-03T22:00:00.000Z', 'geo_id': 8741, 'geo_name': 'Península'}, {'value': 80.24375, 'datetime': '2024-04-05T00:00:00.000+02:00', 'datetime_utc': '2024-04-04T22:00:00Z', 'tz_time': '2024-04-04T22:00:00.000Z', 'geo_id': 8741, 'geo_name': 'Península'}, {'value': 47.8025, 'datetime': '2024-04-06T00:00:00.000+02:00', 'datetime_utc': '2024-04-05T22:00:00Z', 'tz_time': '2024-04-05T22:00:00.000Z', 'geo_id': 8741, 'geo_name': 'Península'}, {'value': 60.3175, 'datetime': '2024-04-07T00:00:00.000+02:00', 'datetime_utc': '2024-04-06T22:00:00Z', 'tz_time': '2024-04-06T22:00:00.000Z', 'geo_id': 8741, 'geo_name': 'Península'}, {'value': 82.665417, 'datetime': '2024-04-08T00:00:00.000+02:00', 'datetime_utc': '2024-04-07T22:00:00Z', 'tz_time': '2024-04-07T22:00:00.000Z', 'geo_id': 8741, 'geo_name': 'Península'}, {'value': 79.2375, 'datetime': '2024-04-09T00:00:00.000+02:00', 'datetime_utc': '2024-04-08T22:00:00Z', 'tz_time': '2024-04-08T22:00:00.000Z', 'geo_id': 8741, 'geo_name': 'Península'}, {'value': 84.40375, 'datetime': '2024-04-10T00:00:00.000+02:00', 'datetime_utc': '2024-04-09T22:00:00Z', 'tz_time': '2024-04-09T22:00:00.000Z', 'geo_id': 8741, 'geo_name': 'Península'}, {'value': 90.139167, 'datetime': '2024-04-11T00:00:00.000+02:00', 'datetime_utc': '2024-04-10T22:00:00Z', 'tz_time': '2024-04-10T22:00:00.000Z', 'geo_id': 8741, 'geo_name': 'Península'}, {'value': 98.17875, 'datetime': '2024-04-12T00:00:00.000+02:00', 'datetime_utc': '2024-04-11T22:00:00Z', 'tz_time': '2024-04-11T22:00:00.000Z', 'geo_id': 8741, 'geo_name': 'Península'}, {'value': 58.002083, 'datetime': '2024-04-13T00:00:00.000+02:00', 'datetime_utc': '2024-04-12T22:00:00Z', 'tz_time': '2024-04-12T22:00:00.000Z', 'geo_id': 8741, 'geo_name': 'Península'}, {'value': 57.435, 'datetime': '2024-04-14T00:00:00.000+02:00', 'datetime_utc': '2024-04-13T22:00:00Z', 'tz_time': '2024-04-13T22:00:00.000Z', 'geo_id': 8741, 'geo_name': 'Península'}, {'value': 91.796667, 'datetime': '2024-04-15T00:00:00.000+02:00', 'datetime_utc': '2024-04-14T22:00:00Z', 'tz_time': '2024-04-14T22:00:00.000Z', 'geo_id': 8741, 'geo_name': 'Península'}, {'value': 86.866667, 'datetime': '2024-04-16T00:00:00.000+02:00', 'datetime_utc': '2024-04-15T22:00:00Z', 'tz_time': '2024-04-15T22:00:00.000Z', 'geo_id': 8741, 'geo_name': 'Península'}, {'value': 86.38625, 'datetime': '2024-04-17T00:00:00.000+02:00', 'datetime_utc': '2024-04-16T22:00:00Z', 'tz_time': '2024-04-16T22:00:00.000Z', 'geo_id': 8741, 'geo_name': 'Península'}, {'value': 86.539583, 'datetime': '2024-04-18T00:00:00.000+02:00', 'datetime_utc': '2024-04-17T22:00:00Z', 'tz_time': '2024-04-17T22:00:00.000Z', 'geo_id': 8741, 'geo_name': 'Península'}, {'value': 95.097917, 'datetime': '2024-04-19T00:00:00.000+02:00', 'datetime_utc': '2024-04-18T22:00:00Z', 'tz_time': '2024-04-18T22:00:00.000Z', 'geo_id': 8741, 'geo_name': 'Península'}, {'value': 56.49875, 'datetime': '2024-04-20T00:00:00.000+02:00', 'datetime_utc': '2024-04-19T22:00:00Z', 'tz_time': '2024-04-19T22:00:00.000Z', 'geo_id': 8741, 'geo_name': 'Península'}, {'value': 60.983333, 'datetime': '2024-04-21T00:00:00.000+02:00', 'datetime_utc': '2024-04-20T22:00:00Z', 'tz_time': '2024-04-20T22:00:00.000Z', 'geo_id': 8741, 'geo_name': 'Península'}, {'value': 89.1125, 'datetime': '2024-04-22T00:00:00.000+02:00', 'datetime_utc': '2024-04-21T22:00:00Z', 'tz_time': '2024-04-21T22:00:00.000Z', 'geo_id': 8741, 'geo_name': 'Península'}, {'value': 88.377083, 'datetime': '2024-04-23T00:00:00.000+02:00', 'datetime_utc': '2024-04-22T22:00:00Z', 'tz_time': '2024-04-22T22:00:00.000Z', 'geo_id': 8741, 'geo_name': 'Península'}, {'value': 98.32625, 'datetime': '2024-04-24T00:00:00.000+02:00', 'datetime_utc': '2024-04-23T22:00:00Z', 'tz_time': '2024-04-23T22:00:00.000Z', 'geo_id': 8741, 'geo_name': 'Península'}, {'value': 116.420833, 'datetime': '2024-04-25T00:00:00.000+02:00', 'datetime_utc': '2024-04-24T22:00:00Z', 'tz_time': '2024-04-24T22:00:00.000Z', 'geo_id': 8741, 'geo_name': 'Península'}, {'value': 128.14625, 'datetime': '2024-04-26T00:00:00.000+02:00', 'datetime_utc': '2024-04-25T22:00:00Z', 'tz_time': '2024-04-25T22:00:00.000Z', 'geo_id': 8741, 'geo_name': 'Península'}, {'value': 69.671667, 'datetime': '2024-04-27T00:00:00.000+02:00', 'datetime_utc': '2024-04-26T22:00:00Z', 'tz_time': '2024-04-26T22:00:00.000Z', 'geo_id': 8741, 'geo_name': 'Península'}, {'value': 78.590417, 'datetime': '2024-04-28T00:00:00.000+02:00', 'datetime_utc': '2024-04-27T22:00:00Z', 'tz_time': '2024-04-27T22:00:00.000Z', 'geo_id': 8741, 'geo_name': 'Península'}, {'value': 129.026667, 'datetime': '2024-04-29T00:00:00.000+02:00', 'datetime_utc': '2024-04-28T22:00:00Z', 'tz_time': '2024-04-28T22:00:00.000Z', 'geo_id': 8741, 'geo_name': 'Península'}, {'value': 123.19875, 'datetime': '2024-04-30T00:00:00.000+02:00', 'datetime_utc': '2024-04-29T22:00:00Z', 'tz_time': '2024-04-29T22:00:00.000Z', 'geo_id': 8741, 'geo_name': 'Península'}, {'value': 61.57875, 'datetime': '2024-05-01T00:00:00.000+02:00', 'datetime_utc': '2024-04-30T22:00:00Z', 'tz_time': '2024-04-30T22:00:00.000Z', 'geo_id': 8741, 'geo_name': 'Península'}, {'value': 96.36375, 'datetime': '2024-05-02T00:00:00.000+02:00', 'datetime_utc': '2024-05-01T22:00:00Z', 'tz_time': '2024-05-01T22:00:00.000Z', 'geo_id': 8741, 'geo_name': 'Península'}, {'value': 102.009167, 'datetime': '2024-05-03T00:00:00.000+02:00', 'datetime_utc': '2024-05-02T22:00:00Z', 'tz_time': '2024-05-02T22:00:00.000Z', 'geo_id': 8741, 'geo_name': 'Península'}, {'value': 63.055417, 'datetime': '2024-05-04T00:00:00.000+02:00', 'datetime_utc': '2024-05-03T22:00:00Z', 'tz_time': '2024-05-03T22:00:00.000Z', 'geo_id': 8741, 'geo_name': 'Península'}, {'value': 68.6625, 'datetime': '2024-05-05T00:00:00.000+02:00', 'datetime_utc': '2024-05-04T22:00:00Z', 'tz_time': '2024-05-04T22:00:00.000Z', 'geo_id': 8741, 'geo_name': 'Península'}, {'value': 123.090833, 'datetime': '2024-05-06T00:00:00.000+02:00', 'datetime_utc': '2024-05-05T22:00:00Z', 'tz_time': '2024-05-05T22:00:00.000Z', 'geo_id': 8741, 'geo_name': 'Península'}, {'value': 117.517917, 'datetime': '2024-05-07T00:00:00.000+02:00', 'datetime_utc': '2024-05-06T22:00:00Z', 'tz_time': '2024-05-06T22:00:00.000Z', 'geo_id': 8741, 'geo_name': 'Península'}, {'value': 101.509583, 'datetime': '2024-05-08T00:00:00.000+02:00', 'datetime_utc': '2024-05-07T22:00:00Z', 'tz_time': '2024-05-07T22:00:00.000Z', 'geo_id': 8741, 'geo_name': 'Península'}, {'value': 108.0675, 'datetime': '2024-05-09T00:00:00.000+02:00', 'datetime_utc': '2024-05-08T22:00:00Z', 'tz_time': '2024-05-08T22:00:00.000Z', 'geo_id': 8741, 'geo_name': 'Península'}, {'value': 105.705, 'datetime': '2024-05-10T00:00:00.000+02:00', 'datetime_utc': '2024-05-09T22:00:00Z', 'tz_time': '2024-05-09T22:00:00.000Z', 'geo_id': 8741, 'geo_name': 'Península'}, {'value': 68.840833, 'datetime': '2024-05-11T00:00:00.000+02:00', 'datetime_utc': '2024-05-10T22:00:00Z', 'tz_time': '2024-05-10T22:00:00.000Z', 'geo_id': 8741, 'geo_name': 'Península'}, {'value': 73.03375, 'datetime': '2024-05-12T00:00:00.000+02:00', 'datetime_utc': '2024-05-11T22:00:00Z', 'tz_time': '2024-05-11T22:00:00.000Z', 'geo_id': 8741, 'geo_name': 'Península'}, {'value': 105.033333, 'datetime': '2024-05-13T00:00:00.000+02:00', 'datetime_utc': '2024-05-12T22:00:00Z', 'tz_time': '2024-05-12T22:00:00.000Z', 'geo_id': 8741, 'geo_name': 'Península'}, {'value': 89.19875, 'datetime': '2024-05-14T00:00:00.000+02:00', 'datetime_utc': '2024-05-13T22:00:00Z', 'tz_time': '2024-05-13T22:00:00.000Z', 'geo_id': 8741, 'geo_name': 'Península'}, {'value': 94.6775, 'datetime': '2024-05-15T00:00:00.000+02:00', 'datetime_utc': '2024-05-14T22:00:00Z', 'tz_time': '2024-05-14T22:00:00.000Z', 'geo_id': 8741, 'geo_name': 'Península'}, {'value': 110.307083, 'datetime': '2024-05-16T00:00:00.000+02:00', 'datetime_utc': '2024-05-15T22:00:00Z', 'tz_time': '2024-05-15T22:00:00.000Z', 'geo_id': 8741, 'geo_name': 'Península'}, {'value': 124.24125, 'datetime': '2024-05-17T00:00:00.000+02:00', 'datetime_utc': '2024-05-16T22:00:00Z', 'tz_time': '2024-05-16T22:00:00.000Z', 'geo_id': 8741, 'geo_name': 'Península'}, {'value': 78.795417, 'datetime': '2024-05-18T00:00:00.000+02:00', 'datetime_utc': '2024-05-17T22:00:00Z', 'tz_time': '2024-05-17T22:00:00.000Z', 'geo_id': 8741, 'geo_name': 'Península'}, {'value': 79.967083, 'datetime': '2024-05-19T00:00:00.000+02:00', 'datetime_utc': '2024-05-18T22:00:00Z', 'tz_time': '2024-05-18T22:00:00.000Z', 'geo_id': 8741, 'geo_name': 'Península'}, {'value': 112.500417, 'datetime': '2024-05-20T00:00:00.000+02:00', 'datetime_utc': '2024-05-19T22:00:00Z', 'tz_time': '2024-05-19T22:00:00.000Z', 'geo_id': 8741, 'geo_name': 'Península'}, {'value': 119.59125, 'datetime': '2024-05-21T00:00:00.000+02:00', 'datetime_utc': '2024-05-20T22:00:00Z', 'tz_time': '2024-05-20T22:00:00.000Z', 'geo_id': 8741, 'geo_name': 'Península'}, {'value': 116.56625, 'datetime': '2024-05-22T00:00:00.000+02:00', 'datetime_utc': '2024-05-21T22:00:00Z', 'tz_time': '2024-05-21T22:00:00.000Z', 'geo_id': 8741, 'geo_name': 'Península'}, {'value': 130.619167, 'datetime': '2024-05-23T00:00:00.000+02:00', 'datetime_utc': '2024-05-22T22:00:00Z', 'tz_time': '2024-05-22T22:00:00.000Z', 'geo_id': 8741, 'geo_name': 'Península'}, {'value': 139.741667, 'datetime': '2024-05-24T00:00:00.000+02:00', 'datetime_utc': '2024-05-23T22:00:00Z', 'tz_time': '2024-05-23T22:00:00.000Z', 'geo_id': 8741, 'geo_name': 'Península'}, {'value': 90.229583, 'datetime': '2024-05-25T00:00:00.000+02:00', 'datetime_utc': '2024-05-24T22:00:00Z', 'tz_time': '2024-05-24T22:00:00.000Z', 'geo_id': 8741, 'geo_name': 'Península'}, {'value': 78.31875, 'datetime': '2024-05-26T00:00:00.000+02:00', 'datetime_utc': '2024-05-25T22:00:00Z', 'tz_time': '2024-05-25T22:00:00.000Z', 'geo_id': 8741, 'geo_name': 'Península'}, {'value': 113.266667, 'datetime': '2024-05-27T00:00:00.000+02:00', 'datetime_utc': '2024-05-26T22:00:00Z', 'tz_time': '2024-05-26T22:00:00.000Z', 'geo_id': 8741, 'geo_name': 'Península'}, {'value': 106.507917, 'datetime': '2024-05-28T00:00:00.000+02:00', 'datetime_utc': '2024-05-27T22:00:00Z', 'tz_time': '2024-05-27T22:00:00.000Z', 'geo_id': 8741, 'geo_name': 'Península'}, {'value': 114.899583, 'datetime': '2024-05-29T00:00:00.000+02:00', 'datetime_utc': '2024-05-28T22:00:00Z', 'tz_time': '2024-05-28T22:00:00.000Z', 'geo_id': 8741, 'geo_name': 'Península'}, {'value': 106.378333, 'datetime': '2024-05-30T00:00:00.000+02:00', 'datetime_utc': '2024-05-29T22:00:00Z', 'tz_time': '2024-05-29T22:00:00.000Z', 'geo_id': 8741, 'geo_name': 'Península'}, {'value': 89.46375, 'datetime': '2024-05-31T00:00:00.000+02:00', 'datetime_utc': '2024-05-30T22:00:00Z', 'tz_time': '2024-05-30T22:00:00.000Z', 'geo_id': 8741, 'geo_name': 'Península'}, {'value': 54.129583, 'datetime': '2024-06-01T00:00:00.000+02:00', 'datetime_utc': '2024-05-31T22:00:00Z', 'tz_time': '2024-05-31T22:00:00.000Z', 'geo_id': 8741, 'geo_name': 'Península'}, {'value': 56.130417, 'datetime': '2024-06-02T00:00:00.000+02:00', 'datetime_utc': '2024-06-01T22:00:00Z', 'tz_time': '2024-06-01T22:00:00.000Z', 'geo_id': 8741, 'geo_name': 'Península'}, {'value': 106.832083, 'datetime': '2024-06-03T00:00:00.000+02:00', 'datetime_utc': '2024-06-02T22:00:00Z', 'tz_time': '2024-06-02T22:00:00.000Z', 'geo_id': 8741, 'geo_name': 'Península'}, {'value': 150.261667, 'datetime': '2024-06-04T00:00:00.000+02:00', 'datetime_utc': '2024-06-03T22:00:00Z', 'tz_time': '2024-06-03T22:00:00.000Z', 'geo_id': 8741, 'geo_name': 'Península'}, {'value': 163.967083, 'datetime': '2024-06-05T00:00:00.000+02:00', 'datetime_utc': '2024-06-04T22:00:00Z', 'tz_time': '2024-06-04T22:00:00.000Z', 'geo_id': 8741, 'geo_name': 'Península'}, {'value': 154.740417, 'datetime': '2024-06-06T00:00:00.000+02:00', 'datetime_utc': '2024-06-05T22:00:00Z', 'tz_time': '2024-06-05T22:00:00.000Z', 'geo_id': 8741, 'geo_name': 'Península'}, {'value': 142.2075, 'datetime': '2024-06-07T00:00:00.000+02:00', 'datetime_utc': '2024-06-06T22:00:00Z', 'tz_time': '2024-06-06T22:00:00.000Z', 'geo_id': 8741, 'geo_name': 'Península'}, {'value': 105.547083, 'datetime': '2024-06-08T00:00:00.000+02:00', 'datetime_utc': '2024-06-07T22:00:00Z', 'tz_time': '2024-06-07T22:00:00.000Z', 'geo_id': 8741, 'geo_name': 'Península'}, {'value': 69.433333, 'datetime': '2024-06-09T00:00:00.000+02:00', 'datetime_utc': '2024-06-08T22:00:00Z', 'tz_time': '2024-06-08T22:00:00.000Z', 'geo_id': 8741, 'geo_name': 'Península'}, {'value': 119.852917, 'datetime': '2024-06-10T00:00:00.000+02:00', 'datetime_utc': '2024-06-09T22:00:00Z', 'tz_time': '2024-06-09T22:00:00.000Z', 'geo_id': 8741, 'geo_name': 'Península'}, {'value': 136.575833, 'datetime': '2024-06-11T00:00:00.000+02:00', 'datetime_utc': '2024-06-10T22:00:00Z', 'tz_time': '2024-06-10T22:00:00.000Z', 'geo_id': 8741, 'geo_name': 'Península'}, {'value': 126.573333, 'datetime': '2024-06-12T00:00:00.000+02:00', 'datetime_utc': '2024-06-11T22:00:00Z', 'tz_time': '2024-06-11T22:00:00.000Z', 'geo_id': 8741, 'geo_name': 'Península'}, {'value': 135.636667, 'datetime': '2024-06-13T00:00:00.000+02:00', 'datetime_utc': '2024-06-12T22:00:00Z', 'tz_time': '2024-06-12T22:00:00.000Z', 'geo_id': 8741, 'geo_name': 'Península'}, {'value': 117.715, 'datetime': '2024-06-14T00:00:00.000+02:00', 'datetime_utc': '2024-06-13T22:00:00Z', 'tz_time': '2024-06-13T22:00:00.000Z', 'geo_id': 8741, 'geo_name': 'Península'}, {'value': 67.0675, 'datetime': '2024-06-15T00:00:00.000+02:00', 'datetime_utc': '2024-06-14T22:00:00Z', 'tz_time': '2024-06-14T22:00:00.000Z', 'geo_id': 8741, 'geo_name': 'Península'}, {'value': 66.385833, 'datetime': '2024-06-16T00:00:00.000+02:00', 'datetime_utc': '2024-06-15T22:00:00Z', 'tz_time': '2024-06-15T22:00:00.000Z', 'geo_id': 8741, 'geo_name': 'Península'}, {'value': 106.71625, 'datetime': '2024-06-17T00:00:00.000+02:00', 'datetime_utc': '2024-06-16T22:00:00Z', 'tz_time': '2024-06-16T22:00:00.000Z', 'geo_id': 8741, 'geo_name': 'Península'}, {'value': 127.04875, 'datetime': '2024-06-18T00:00:00.000+02:00', 'datetime_utc': '2024-06-17T22:00:00Z', 'tz_time': '2024-06-17T22:00:00.000Z', 'geo_id': 8741, 'geo_name': 'Península'}, {'value': 148.273333, 'datetime': '2024-06-19T00:00:00.000+02:00', 'datetime_utc': '2024-06-18T22:00:00Z', 'tz_time': '2024-06-18T22:00:00.000Z', 'geo_id': 8741, 'geo_name': 'Península'}, {'value': 151.880833, 'datetime': '2024-06-20T00:00:00.000+02:00', 'datetime_utc': '2024-06-19T22:00:00Z', 'tz_time': '2024-06-19T22:00:00.000Z', 'geo_id': 8741, 'geo_name': 'Península'}, {'value': 148.912083, 'datetime': '2024-06-21T00:00:00.000+02:00', 'datetime_utc': '2024-06-20T22:00:00Z', 'tz_time': '2024-06-20T22:00:00.000Z', 'geo_id': 8741, 'geo_name': 'Península'}, {'value': 84.753333, 'datetime': '2024-06-22T00:00:00.000+02:00', 'datetime_utc': '2024-06-21T22:00:00Z', 'tz_time': '2024-06-21T22:00:00.000Z', 'geo_id': 8741, 'geo_name': 'Península'}, {'value': 77.20125, 'datetime': '2024-06-23T00:00:00.000+02:00', 'datetime_utc': '2024-06-22T22:00:00Z', 'tz_time': '2024-06-22T22:00:00.000Z', 'geo_id': 8741, 'geo_name': 'Península'}, {'value': 114.67375, 'datetime': '2024-06-24T00:00:00.000+02:00', 'datetime_utc': '2024-06-23T22:00:00Z', 'tz_time': '2024-06-23T22:00:00.000Z', 'geo_id': 8741, 'geo_name': 'Península'}, {'value': 135.29375, 'datetime': '2024-06-25T00:00:00.000+02:00', 'datetime_utc': '2024-06-24T22:00:00Z', 'tz_time': '2024-06-24T22:00:00.000Z', 'geo_id': 8741, 'geo_name': 'Península'}, {'value': 157.5875, 'datetime': '2024-06-26T00:00:00.000+02:00', 'datetime_utc': '2024-06-25T22:00:00Z', 'tz_time': '2024-06-25T22:00:00.000Z', 'geo_id': 8741, 'geo_name': 'Península'}, {'value': 150.603333, 'datetime': '2024-06-27T00:00:00.000+02:00', 'datetime_utc': '2024-06-26T22:00:00Z', 'tz_time': '2024-06-26T22:00:00.000Z', 'geo_id': 8741, 'geo_name': 'Península'}, {'value': 146.835, 'datetime': '2024-06-28T00:00:00.000+02:00', 'datetime_utc': '2024-06-27T22:00:00Z', 'tz_time': '2024-06-27T22:00:00.000Z', 'geo_id': 8741, 'geo_name': 'Península'}, {'value': 90.1125, 'datetime': '2024-06-29T00:00:00.000+02:00', 'datetime_utc': '2024-06-28T22:00:00Z', 'tz_time': '2024-06-28T22:00:00.000Z', 'geo_id': 8741, 'geo_name': 'Península'}, {'value': 97.672083, 'datetime': '2024-06-30T00:00:00.000+02:00', 'datetime_utc': '2024-06-29T22:00:00Z', 'tz_time': '2024-06-29T22:00:00.000Z', 'geo_id': 8741, 'geo_name': 'Península'}, {'value': 132.187083, 'datetime': '2024-07-01T00:00:00.000+02:00', 'datetime_utc': '2024-06-30T22:00:00Z', 'tz_time': '2024-06-30T22:00:00.000Z', 'geo_id': 8741, 'geo_name': 'Península'}, {'value': 125.305, 'datetime': '2024-07-02T00:00:00.000+02:00', 'datetime_utc': '2024-07-01T22:00:00Z', 'tz_time': '2024-07-01T22:00:00.000Z', 'geo_id': 8741, 'geo_name': 'Península'}, {'value': 135.93625, 'datetime': '2024-07-03T00:00:00.000+02:00', 'datetime_utc': '2024-07-02T22:00:00Z', 'tz_time': '2024-07-02T22:00:00.000Z', 'geo_id': 8741, 'geo_name': 'Península'}, {'value': 125.499167, 'datetime': '2024-07-04T00:00:00.000+02:00', 'datetime_utc': '2024-07-03T22:00:00Z', 'tz_time': '2024-07-03T22:00:00.000Z', 'geo_id': 8741, 'geo_name': 'Península'}, {'value': 130.371667, 'datetime': '2024-07-05T00:00:00.000+02:00', 'datetime_utc': '2024-07-04T22:00:00Z', 'tz_time': '2024-07-04T22:00:00.000Z', 'geo_id': 8741, 'geo_name': 'Península'}, {'value': 80.575417, 'datetime': '2024-07-06T00:00:00.000+02:00', 'datetime_utc': '2024-07-05T22:00:00Z', 'tz_time': '2024-07-05T22:00:00.000Z', 'geo_id': 8741, 'geo_name': 'Península'}, {'value': 83.943333, 'datetime': '2024-07-07T00:00:00.000+02:00', 'datetime_utc': '2024-07-06T22:00:00Z', 'tz_time': '2024-07-06T22:00:00.000Z', 'geo_id': 8741, 'geo_name': 'Península'}, {'value': 144.599583, 'datetime': '2024-07-08T00:00:00.000+02:00', 'datetime_utc': '2024-07-07T22:00:00Z', 'tz_time': '2024-07-07T22:00:00.000Z', 'geo_id': 8741, 'geo_name': 'Península'}, {'value': 138.2575, 'datetime': '2024-07-09T00:00:00.000+02:00', 'datetime_utc': '2024-07-08T22:00:00Z', 'tz_time': '2024-07-08T22:00:00.000Z', 'geo_id': 8741, 'geo_name': 'Península'}, {'value': 150.919583, 'datetime': '2024-07-10T00:00:00.000+02:00', 'datetime_utc': '2024-07-09T22:00:00Z', 'tz_time': '2024-07-09T22:00:00.000Z', 'geo_id': 8741, 'geo_name': 'Península'}, {'value': 149.54375, 'datetime': '2024-07-11T00:00:00.000+02:00', 'datetime_utc': '2024-07-10T22:00:00Z', 'tz_time': '2024-07-10T22:00:00.000Z', 'geo_id': 8741, 'geo_name': 'Península'}]}}\n"
     ]
    }
   ],
   "source": [
    "datos_origen =download_esios_id(id,fecha_ini,fecha_fin,agrupacion)\n"
   ]
  },
  {
   "cell_type": "code",
   "execution_count": 8,
   "metadata": {},
   "outputs": [
    {
     "data": {
      "text/html": [
       "<div>\n",
       "<style scoped>\n",
       "    .dataframe tbody tr th:only-of-type {\n",
       "        vertical-align: middle;\n",
       "    }\n",
       "\n",
       "    .dataframe tbody tr th {\n",
       "        vertical-align: top;\n",
       "    }\n",
       "\n",
       "    .dataframe thead th {\n",
       "        text-align: right;\n",
       "    }\n",
       "</style>\n",
       "<table border=\"1\" class=\"dataframe\">\n",
       "  <thead>\n",
       "    <tr style=\"text-align: right;\">\n",
       "      <th></th>\n",
       "      <th>value</th>\n",
       "      <th>datetime</th>\n",
       "      <th>datetime_utc</th>\n",
       "      <th>tz_time</th>\n",
       "      <th>geo_id</th>\n",
       "      <th>geo_name</th>\n",
       "    </tr>\n",
       "  </thead>\n",
       "  <tbody>\n",
       "    <tr>\n",
       "      <th>0</th>\n",
       "      <td>90.572083</td>\n",
       "      <td>2024-01-01T00:00:00.000+01:00</td>\n",
       "      <td>2023-12-31T23:00:00Z</td>\n",
       "      <td>2023-12-31T23:00:00.000Z</td>\n",
       "      <td>8741</td>\n",
       "      <td>Península</td>\n",
       "    </tr>\n",
       "    <tr>\n",
       "      <th>1</th>\n",
       "      <td>120.480000</td>\n",
       "      <td>2024-01-02T00:00:00.000+01:00</td>\n",
       "      <td>2024-01-01T23:00:00Z</td>\n",
       "      <td>2024-01-01T23:00:00.000Z</td>\n",
       "      <td>8741</td>\n",
       "      <td>Península</td>\n",
       "    </tr>\n",
       "    <tr>\n",
       "      <th>2</th>\n",
       "      <td>130.602500</td>\n",
       "      <td>2024-01-03T00:00:00.000+01:00</td>\n",
       "      <td>2024-01-02T23:00:00Z</td>\n",
       "      <td>2024-01-02T23:00:00.000Z</td>\n",
       "      <td>8741</td>\n",
       "      <td>Península</td>\n",
       "    </tr>\n",
       "    <tr>\n",
       "      <th>3</th>\n",
       "      <td>165.828750</td>\n",
       "      <td>2024-01-04T00:00:00.000+01:00</td>\n",
       "      <td>2024-01-03T23:00:00Z</td>\n",
       "      <td>2024-01-03T23:00:00.000Z</td>\n",
       "      <td>8741</td>\n",
       "      <td>Península</td>\n",
       "    </tr>\n",
       "    <tr>\n",
       "      <th>4</th>\n",
       "      <td>143.957500</td>\n",
       "      <td>2024-01-05T00:00:00.000+01:00</td>\n",
       "      <td>2024-01-04T23:00:00Z</td>\n",
       "      <td>2024-01-04T23:00:00.000Z</td>\n",
       "      <td>8741</td>\n",
       "      <td>Península</td>\n",
       "    </tr>\n",
       "    <tr>\n",
       "      <th>...</th>\n",
       "      <td>...</td>\n",
       "      <td>...</td>\n",
       "      <td>...</td>\n",
       "      <td>...</td>\n",
       "      <td>...</td>\n",
       "      <td>...</td>\n",
       "    </tr>\n",
       "    <tr>\n",
       "      <th>188</th>\n",
       "      <td>83.943333</td>\n",
       "      <td>2024-07-07T00:00:00.000+02:00</td>\n",
       "      <td>2024-07-06T22:00:00Z</td>\n",
       "      <td>2024-07-06T22:00:00.000Z</td>\n",
       "      <td>8741</td>\n",
       "      <td>Península</td>\n",
       "    </tr>\n",
       "    <tr>\n",
       "      <th>189</th>\n",
       "      <td>144.599583</td>\n",
       "      <td>2024-07-08T00:00:00.000+02:00</td>\n",
       "      <td>2024-07-07T22:00:00Z</td>\n",
       "      <td>2024-07-07T22:00:00.000Z</td>\n",
       "      <td>8741</td>\n",
       "      <td>Península</td>\n",
       "    </tr>\n",
       "    <tr>\n",
       "      <th>190</th>\n",
       "      <td>138.257500</td>\n",
       "      <td>2024-07-09T00:00:00.000+02:00</td>\n",
       "      <td>2024-07-08T22:00:00Z</td>\n",
       "      <td>2024-07-08T22:00:00.000Z</td>\n",
       "      <td>8741</td>\n",
       "      <td>Península</td>\n",
       "    </tr>\n",
       "    <tr>\n",
       "      <th>191</th>\n",
       "      <td>150.919583</td>\n",
       "      <td>2024-07-10T00:00:00.000+02:00</td>\n",
       "      <td>2024-07-09T22:00:00Z</td>\n",
       "      <td>2024-07-09T22:00:00.000Z</td>\n",
       "      <td>8741</td>\n",
       "      <td>Península</td>\n",
       "    </tr>\n",
       "    <tr>\n",
       "      <th>192</th>\n",
       "      <td>149.543750</td>\n",
       "      <td>2024-07-11T00:00:00.000+02:00</td>\n",
       "      <td>2024-07-10T22:00:00Z</td>\n",
       "      <td>2024-07-10T22:00:00.000Z</td>\n",
       "      <td>8741</td>\n",
       "      <td>Península</td>\n",
       "    </tr>\n",
       "  </tbody>\n",
       "</table>\n",
       "<p>193 rows × 6 columns</p>\n",
       "</div>"
      ],
      "text/plain": [
       "          value                       datetime          datetime_utc  \\\n",
       "0     90.572083  2024-01-01T00:00:00.000+01:00  2023-12-31T23:00:00Z   \n",
       "1    120.480000  2024-01-02T00:00:00.000+01:00  2024-01-01T23:00:00Z   \n",
       "2    130.602500  2024-01-03T00:00:00.000+01:00  2024-01-02T23:00:00Z   \n",
       "3    165.828750  2024-01-04T00:00:00.000+01:00  2024-01-03T23:00:00Z   \n",
       "4    143.957500  2024-01-05T00:00:00.000+01:00  2024-01-04T23:00:00Z   \n",
       "..          ...                            ...                   ...   \n",
       "188   83.943333  2024-07-07T00:00:00.000+02:00  2024-07-06T22:00:00Z   \n",
       "189  144.599583  2024-07-08T00:00:00.000+02:00  2024-07-07T22:00:00Z   \n",
       "190  138.257500  2024-07-09T00:00:00.000+02:00  2024-07-08T22:00:00Z   \n",
       "191  150.919583  2024-07-10T00:00:00.000+02:00  2024-07-09T22:00:00Z   \n",
       "192  149.543750  2024-07-11T00:00:00.000+02:00  2024-07-10T22:00:00Z   \n",
       "\n",
       "                      tz_time  geo_id   geo_name  \n",
       "0    2023-12-31T23:00:00.000Z    8741  Península  \n",
       "1    2024-01-01T23:00:00.000Z    8741  Península  \n",
       "2    2024-01-02T23:00:00.000Z    8741  Península  \n",
       "3    2024-01-03T23:00:00.000Z    8741  Península  \n",
       "4    2024-01-04T23:00:00.000Z    8741  Península  \n",
       "..                        ...     ...        ...  \n",
       "188  2024-07-06T22:00:00.000Z    8741  Península  \n",
       "189  2024-07-07T22:00:00.000Z    8741  Península  \n",
       "190  2024-07-08T22:00:00.000Z    8741  Península  \n",
       "191  2024-07-09T22:00:00.000Z    8741  Península  \n",
       "192  2024-07-10T22:00:00.000Z    8741  Península  \n",
       "\n",
       "[193 rows x 6 columns]"
      ]
     },
     "execution_count": 8,
     "metadata": {},
     "output_type": "execute_result"
    }
   ],
   "source": [
    "datos=pd.DataFrame(datos_origen['indicator']['values'])\n",
    "datos"
   ]
  },
  {
   "cell_type": "code",
   "execution_count": 9,
   "metadata": {},
   "outputs": [],
   "source": [
    "#datos=datos[datos['geo_name'].str.contains('Península')]"
   ]
  },
  {
   "cell_type": "code",
   "execution_count": 10,
   "metadata": {},
   "outputs": [
    {
     "data": {
      "text/html": [
       "<div>\n",
       "<style scoped>\n",
       "    .dataframe tbody tr th:only-of-type {\n",
       "        vertical-align: middle;\n",
       "    }\n",
       "\n",
       "    .dataframe tbody tr th {\n",
       "        vertical-align: top;\n",
       "    }\n",
       "\n",
       "    .dataframe thead th {\n",
       "        text-align: right;\n",
       "    }\n",
       "</style>\n",
       "<table border=\"1\" class=\"dataframe\">\n",
       "  <thead>\n",
       "    <tr style=\"text-align: right;\">\n",
       "      <th></th>\n",
       "      <th>datetime</th>\n",
       "      <th>value</th>\n",
       "    </tr>\n",
       "  </thead>\n",
       "  <tbody>\n",
       "    <tr>\n",
       "      <th>0</th>\n",
       "      <td>2024-01-01</td>\n",
       "      <td>90.572083</td>\n",
       "    </tr>\n",
       "    <tr>\n",
       "      <th>1</th>\n",
       "      <td>2024-01-02</td>\n",
       "      <td>120.480000</td>\n",
       "    </tr>\n",
       "    <tr>\n",
       "      <th>2</th>\n",
       "      <td>2024-01-03</td>\n",
       "      <td>130.602500</td>\n",
       "    </tr>\n",
       "    <tr>\n",
       "      <th>3</th>\n",
       "      <td>2024-01-04</td>\n",
       "      <td>165.828750</td>\n",
       "    </tr>\n",
       "    <tr>\n",
       "      <th>4</th>\n",
       "      <td>2024-01-05</td>\n",
       "      <td>143.957500</td>\n",
       "    </tr>\n",
       "    <tr>\n",
       "      <th>...</th>\n",
       "      <td>...</td>\n",
       "      <td>...</td>\n",
       "    </tr>\n",
       "    <tr>\n",
       "      <th>188</th>\n",
       "      <td>2024-07-07</td>\n",
       "      <td>83.943333</td>\n",
       "    </tr>\n",
       "    <tr>\n",
       "      <th>189</th>\n",
       "      <td>2024-07-08</td>\n",
       "      <td>144.599583</td>\n",
       "    </tr>\n",
       "    <tr>\n",
       "      <th>190</th>\n",
       "      <td>2024-07-09</td>\n",
       "      <td>138.257500</td>\n",
       "    </tr>\n",
       "    <tr>\n",
       "      <th>191</th>\n",
       "      <td>2024-07-10</td>\n",
       "      <td>150.919583</td>\n",
       "    </tr>\n",
       "    <tr>\n",
       "      <th>192</th>\n",
       "      <td>2024-07-11</td>\n",
       "      <td>149.543750</td>\n",
       "    </tr>\n",
       "  </tbody>\n",
       "</table>\n",
       "<p>193 rows × 2 columns</p>\n",
       "</div>"
      ],
      "text/plain": [
       "      datetime       value\n",
       "0   2024-01-01   90.572083\n",
       "1   2024-01-02  120.480000\n",
       "2   2024-01-03  130.602500\n",
       "3   2024-01-04  165.828750\n",
       "4   2024-01-05  143.957500\n",
       "..         ...         ...\n",
       "188 2024-07-07   83.943333\n",
       "189 2024-07-08  144.599583\n",
       "190 2024-07-09  138.257500\n",
       "191 2024-07-10  150.919583\n",
       "192 2024-07-11  149.543750\n",
       "\n",
       "[193 rows x 2 columns]"
      ]
     },
     "execution_count": 10,
     "metadata": {},
     "output_type": "execute_result"
    }
   ],
   "source": [
    "datos = (datos\n",
    "         .assign(datetime=lambda vh_: pd #formateamos campo fecha, desde un str con diferencia horaria a un naive\n",
    "                      .to_datetime(vh_['datetime'],utc=True)  # con la fecha local\n",
    "                      .dt\n",
    "                      .tz_convert('Europe/Madrid')\n",
    "                      .dt\n",
    "                      .tz_localize(None)\n",
    "                ) \n",
    "             #.drop(['datetime','datetime_utc','tz_time','geo_id','geo_name'],\n",
    "             #      axis=1) #eliminamos campos\n",
    "             \n",
    "             .loc[:,['datetime','value']]\n",
    "             )\n",
    "\n",
    "datos"
   ]
  },
  {
   "cell_type": "code",
   "execution_count": 11,
   "metadata": {},
   "outputs": [],
   "source": [
    "meses = {\n",
    "    'January': 'Enero',\n",
    "    'February': 'Febrero',\n",
    "    'March': 'Marzo',\n",
    "    'April': 'Abril',\n",
    "    'May': 'Mayo',\n",
    "    'June': 'Junio',\n",
    "    'July': 'Julio',\n",
    "    'August': 'Agosto',\n",
    "    'September': 'Septiembre',\n",
    "    'October': 'Octubre',\n",
    "    'November': 'Noviembre',\n",
    "    'December': 'Diciembre'\n",
    "}"
   ]
  },
  {
   "cell_type": "markdown",
   "metadata": {},
   "source": [
    "### Esta es la tabla de valores horarios tratada"
   ]
  },
  {
   "cell_type": "code",
   "execution_count": 12,
   "metadata": {},
   "outputs": [
    {
     "data": {
      "text/html": [
       "<div>\n",
       "<style scoped>\n",
       "    .dataframe tbody tr th:only-of-type {\n",
       "        vertical-align: middle;\n",
       "    }\n",
       "\n",
       "    .dataframe tbody tr th {\n",
       "        vertical-align: top;\n",
       "    }\n",
       "\n",
       "    .dataframe thead th {\n",
       "        text-align: right;\n",
       "    }\n",
       "</style>\n",
       "<table border=\"1\" class=\"dataframe\">\n",
       "  <thead>\n",
       "    <tr style=\"text-align: right;\">\n",
       "      <th></th>\n",
       "      <th>value</th>\n",
       "      <th>fecha</th>\n",
       "      <th>hora</th>\n",
       "      <th>dia</th>\n",
       "      <th>mes</th>\n",
       "      <th>año</th>\n",
       "    </tr>\n",
       "    <tr>\n",
       "      <th>datetime</th>\n",
       "      <th></th>\n",
       "      <th></th>\n",
       "      <th></th>\n",
       "      <th></th>\n",
       "      <th></th>\n",
       "      <th></th>\n",
       "    </tr>\n",
       "  </thead>\n",
       "  <tbody>\n",
       "    <tr>\n",
       "      <th>2024-01-01</th>\n",
       "      <td>90.572083</td>\n",
       "      <td>2024-01-01</td>\n",
       "      <td>0</td>\n",
       "      <td>1</td>\n",
       "      <td>1</td>\n",
       "      <td>2024</td>\n",
       "    </tr>\n",
       "    <tr>\n",
       "      <th>2024-01-02</th>\n",
       "      <td>120.480000</td>\n",
       "      <td>2024-01-02</td>\n",
       "      <td>0</td>\n",
       "      <td>2</td>\n",
       "      <td>1</td>\n",
       "      <td>2024</td>\n",
       "    </tr>\n",
       "    <tr>\n",
       "      <th>2024-01-03</th>\n",
       "      <td>130.602500</td>\n",
       "      <td>2024-01-03</td>\n",
       "      <td>0</td>\n",
       "      <td>3</td>\n",
       "      <td>1</td>\n",
       "      <td>2024</td>\n",
       "    </tr>\n",
       "    <tr>\n",
       "      <th>2024-01-04</th>\n",
       "      <td>165.828750</td>\n",
       "      <td>2024-01-04</td>\n",
       "      <td>0</td>\n",
       "      <td>4</td>\n",
       "      <td>1</td>\n",
       "      <td>2024</td>\n",
       "    </tr>\n",
       "    <tr>\n",
       "      <th>2024-01-05</th>\n",
       "      <td>143.957500</td>\n",
       "      <td>2024-01-05</td>\n",
       "      <td>0</td>\n",
       "      <td>5</td>\n",
       "      <td>1</td>\n",
       "      <td>2024</td>\n",
       "    </tr>\n",
       "    <tr>\n",
       "      <th>...</th>\n",
       "      <td>...</td>\n",
       "      <td>...</td>\n",
       "      <td>...</td>\n",
       "      <td>...</td>\n",
       "      <td>...</td>\n",
       "      <td>...</td>\n",
       "    </tr>\n",
       "    <tr>\n",
       "      <th>2024-07-07</th>\n",
       "      <td>83.943333</td>\n",
       "      <td>2024-07-07</td>\n",
       "      <td>0</td>\n",
       "      <td>7</td>\n",
       "      <td>7</td>\n",
       "      <td>2024</td>\n",
       "    </tr>\n",
       "    <tr>\n",
       "      <th>2024-07-08</th>\n",
       "      <td>144.599583</td>\n",
       "      <td>2024-07-08</td>\n",
       "      <td>0</td>\n",
       "      <td>8</td>\n",
       "      <td>7</td>\n",
       "      <td>2024</td>\n",
       "    </tr>\n",
       "    <tr>\n",
       "      <th>2024-07-09</th>\n",
       "      <td>138.257500</td>\n",
       "      <td>2024-07-09</td>\n",
       "      <td>0</td>\n",
       "      <td>9</td>\n",
       "      <td>7</td>\n",
       "      <td>2024</td>\n",
       "    </tr>\n",
       "    <tr>\n",
       "      <th>2024-07-10</th>\n",
       "      <td>150.919583</td>\n",
       "      <td>2024-07-10</td>\n",
       "      <td>0</td>\n",
       "      <td>10</td>\n",
       "      <td>7</td>\n",
       "      <td>2024</td>\n",
       "    </tr>\n",
       "    <tr>\n",
       "      <th>2024-07-11</th>\n",
       "      <td>149.543750</td>\n",
       "      <td>2024-07-11</td>\n",
       "      <td>0</td>\n",
       "      <td>11</td>\n",
       "      <td>7</td>\n",
       "      <td>2024</td>\n",
       "    </tr>\n",
       "  </tbody>\n",
       "</table>\n",
       "<p>193 rows × 6 columns</p>\n",
       "</div>"
      ],
      "text/plain": [
       "                 value       fecha  hora  dia  mes   año\n",
       "datetime                                                \n",
       "2024-01-01   90.572083  2024-01-01     0    1    1  2024\n",
       "2024-01-02  120.480000  2024-01-02     0    2    1  2024\n",
       "2024-01-03  130.602500  2024-01-03     0    3    1  2024\n",
       "2024-01-04  165.828750  2024-01-04     0    4    1  2024\n",
       "2024-01-05  143.957500  2024-01-05     0    5    1  2024\n",
       "...                ...         ...   ...  ...  ...   ...\n",
       "2024-07-07   83.943333  2024-07-07     0    7    7  2024\n",
       "2024-07-08  144.599583  2024-07-08     0    8    7  2024\n",
       "2024-07-09  138.257500  2024-07-09     0    9    7  2024\n",
       "2024-07-10  150.919583  2024-07-10     0   10    7  2024\n",
       "2024-07-11  149.543750  2024-07-11     0   11    7  2024\n",
       "\n",
       "[193 rows x 6 columns]"
      ]
     },
     "execution_count": 12,
     "metadata": {},
     "output_type": "execute_result"
    }
   ],
   "source": [
    "#datos['fecha']=datos['datetime'].dt.strftime('%d/%m/%Y')\n",
    "#datos['fecha']=pd.to_datetime(datos['fecha'],format='%d/%m/%Y')\n",
    "datos['fecha']=datos['datetime'].dt.date\n",
    "#datos['fecha']=pd.to_datetime(datos['fecha']).dt.date\n",
    "datos['hora']=datos['datetime'].dt.hour\n",
    "datos['dia']=datos['datetime'].dt.day\n",
    "datos['mes']=datos['datetime'].dt.month\n",
    "datos['año']=datos['datetime'].dt.year\n",
    "datos.set_index('datetime', inplace=True)\n",
    "datos"
   ]
  },
  {
   "cell_type": "code",
   "execution_count": 13,
   "metadata": {},
   "outputs": [
    {
     "data": {
      "text/plain": [
       "value    float64\n",
       "fecha     object\n",
       "hora       int32\n",
       "dia        int32\n",
       "mes        int32\n",
       "año        int32\n",
       "dtype: object"
      ]
     },
     "execution_count": 13,
     "metadata": {},
     "output_type": "execute_result"
    }
   ],
   "source": [
    "datos.dtypes"
   ]
  },
  {
   "cell_type": "code",
   "execution_count": 14,
   "metadata": {},
   "outputs": [],
   "source": [
    "def obtener_fecha_reg_max():\n",
    "    \n",
    "    ultimo_registro= datos['fecha'].max()\n",
    "    \n",
    "    return ultimo_registro"
   ]
  },
  {
   "cell_type": "code",
   "execution_count": 56,
   "metadata": {},
   "outputs": [
    {
     "data": {
      "text/plain": [
       "datetime.date(2024, 7, 11)"
      ]
     },
     "execution_count": 56,
     "metadata": {},
     "output_type": "execute_result"
    }
   ],
   "source": [
    "ultimo_registro=obtener_fecha_reg_max()\n",
    "ultimo_registro"
   ]
  },
  {
   "cell_type": "code",
   "execution_count": 16,
   "metadata": {},
   "outputs": [],
   "source": [
    "primer_registro=datos['fecha'].min()"
   ]
  },
  {
   "cell_type": "code",
   "execution_count": 17,
   "metadata": {},
   "outputs": [],
   "source": [
    "def obtener_dias():\n",
    "    dias=(ultimo_registro-primer_registro).days\n",
    "    \n",
    "    return dias"
   ]
  },
  {
   "cell_type": "code",
   "execution_count": 55,
   "metadata": {},
   "outputs": [
    {
     "data": {
      "text/plain": [
       "datetime.date(2024, 7, 11)"
      ]
     },
     "execution_count": 55,
     "metadata": {},
     "output_type": "execute_result"
    }
   ],
   "source": [
    "fecha_hoy=datetime.today().date()\n",
    "fecha_hoy"
   ]
  },
  {
   "cell_type": "code",
   "execution_count": 19,
   "metadata": {},
   "outputs": [
    {
     "data": {
      "text/plain": [
       "8"
      ]
     },
     "execution_count": 19,
     "metadata": {},
     "output_type": "execute_result"
    }
   ],
   "source": [
    "hora=datetime.now().hour\n",
    "hora"
   ]
  },
  {
   "cell_type": "markdown",
   "metadata": {},
   "source": [
    "\n",
    "if hora>14:\n",
    "    st.rerun()\n",
    "    flag=False"
   ]
  },
  {
   "cell_type": "code",
   "execution_count": 20,
   "metadata": {},
   "outputs": [
    {
     "data": {
      "text/plain": [
       "(44.445417, 183.964167)"
      ]
     },
     "execution_count": 20,
     "metadata": {},
     "output_type": "execute_result"
    }
   ],
   "source": [
    "valor_minimo_horario=datos['value'].min()\n",
    "valor_maximo_diario=datos['value'].max()\n",
    "valor_minimo_horario,valor_maximo_diario"
   ]
  },
  {
   "cell_type": "markdown",
   "metadata": {},
   "source": [
    "### Copia para escala de colores"
   ]
  },
  {
   "cell_type": "markdown",
   "metadata": {},
   "source": [
    "datos_horarios=datos\n",
    "datos_horarios\n"
   ]
  },
  {
   "cell_type": "markdown",
   "metadata": {},
   "source": [
    "### Agrupación por días"
   ]
  },
  {
   "cell_type": "code",
   "execution_count": 21,
   "metadata": {},
   "outputs": [
    {
     "data": {
      "text/html": [
       "<div>\n",
       "<style scoped>\n",
       "    .dataframe tbody tr th:only-of-type {\n",
       "        vertical-align: middle;\n",
       "    }\n",
       "\n",
       "    .dataframe tbody tr th {\n",
       "        vertical-align: top;\n",
       "    }\n",
       "\n",
       "    .dataframe thead th {\n",
       "        text-align: right;\n",
       "    }\n",
       "</style>\n",
       "<table border=\"1\" class=\"dataframe\">\n",
       "  <thead>\n",
       "    <tr style=\"text-align: right;\">\n",
       "      <th></th>\n",
       "      <th>datetime</th>\n",
       "      <th>value</th>\n",
       "      <th>fecha</th>\n",
       "      <th>hora</th>\n",
       "      <th>dia</th>\n",
       "      <th>mes</th>\n",
       "      <th>año</th>\n",
       "    </tr>\n",
       "  </thead>\n",
       "  <tbody>\n",
       "    <tr>\n",
       "      <th>0</th>\n",
       "      <td>2024-01-01</td>\n",
       "      <td>90.572083</td>\n",
       "      <td>2024-01-01</td>\n",
       "      <td>0</td>\n",
       "      <td>1</td>\n",
       "      <td>1</td>\n",
       "      <td>2024</td>\n",
       "    </tr>\n",
       "    <tr>\n",
       "      <th>1</th>\n",
       "      <td>2024-01-02</td>\n",
       "      <td>120.480000</td>\n",
       "      <td>2024-01-02</td>\n",
       "      <td>0</td>\n",
       "      <td>2</td>\n",
       "      <td>1</td>\n",
       "      <td>2024</td>\n",
       "    </tr>\n",
       "    <tr>\n",
       "      <th>2</th>\n",
       "      <td>2024-01-03</td>\n",
       "      <td>130.602500</td>\n",
       "      <td>2024-01-03</td>\n",
       "      <td>0</td>\n",
       "      <td>3</td>\n",
       "      <td>1</td>\n",
       "      <td>2024</td>\n",
       "    </tr>\n",
       "    <tr>\n",
       "      <th>3</th>\n",
       "      <td>2024-01-04</td>\n",
       "      <td>165.828750</td>\n",
       "      <td>2024-01-04</td>\n",
       "      <td>0</td>\n",
       "      <td>4</td>\n",
       "      <td>1</td>\n",
       "      <td>2024</td>\n",
       "    </tr>\n",
       "    <tr>\n",
       "      <th>4</th>\n",
       "      <td>2024-01-05</td>\n",
       "      <td>143.957500</td>\n",
       "      <td>2024-01-05</td>\n",
       "      <td>0</td>\n",
       "      <td>5</td>\n",
       "      <td>1</td>\n",
       "      <td>2024</td>\n",
       "    </tr>\n",
       "    <tr>\n",
       "      <th>...</th>\n",
       "      <td>...</td>\n",
       "      <td>...</td>\n",
       "      <td>...</td>\n",
       "      <td>...</td>\n",
       "      <td>...</td>\n",
       "      <td>...</td>\n",
       "      <td>...</td>\n",
       "    </tr>\n",
       "    <tr>\n",
       "      <th>188</th>\n",
       "      <td>2024-07-07</td>\n",
       "      <td>83.943333</td>\n",
       "      <td>2024-07-07</td>\n",
       "      <td>0</td>\n",
       "      <td>7</td>\n",
       "      <td>7</td>\n",
       "      <td>2024</td>\n",
       "    </tr>\n",
       "    <tr>\n",
       "      <th>189</th>\n",
       "      <td>2024-07-08</td>\n",
       "      <td>144.599583</td>\n",
       "      <td>2024-07-08</td>\n",
       "      <td>0</td>\n",
       "      <td>8</td>\n",
       "      <td>7</td>\n",
       "      <td>2024</td>\n",
       "    </tr>\n",
       "    <tr>\n",
       "      <th>190</th>\n",
       "      <td>2024-07-09</td>\n",
       "      <td>138.257500</td>\n",
       "      <td>2024-07-09</td>\n",
       "      <td>0</td>\n",
       "      <td>9</td>\n",
       "      <td>7</td>\n",
       "      <td>2024</td>\n",
       "    </tr>\n",
       "    <tr>\n",
       "      <th>191</th>\n",
       "      <td>2024-07-10</td>\n",
       "      <td>150.919583</td>\n",
       "      <td>2024-07-10</td>\n",
       "      <td>0</td>\n",
       "      <td>10</td>\n",
       "      <td>7</td>\n",
       "      <td>2024</td>\n",
       "    </tr>\n",
       "    <tr>\n",
       "      <th>192</th>\n",
       "      <td>2024-07-11</td>\n",
       "      <td>149.543750</td>\n",
       "      <td>2024-07-11</td>\n",
       "      <td>0</td>\n",
       "      <td>11</td>\n",
       "      <td>7</td>\n",
       "      <td>2024</td>\n",
       "    </tr>\n",
       "  </tbody>\n",
       "</table>\n",
       "<p>193 rows × 7 columns</p>\n",
       "</div>"
      ],
      "text/plain": [
       "      datetime       value       fecha  hora  dia  mes   año\n",
       "0   2024-01-01   90.572083  2024-01-01     0    1    1  2024\n",
       "1   2024-01-02  120.480000  2024-01-02     0    2    1  2024\n",
       "2   2024-01-03  130.602500  2024-01-03     0    3    1  2024\n",
       "3   2024-01-04  165.828750  2024-01-04     0    4    1  2024\n",
       "4   2024-01-05  143.957500  2024-01-05     0    5    1  2024\n",
       "..         ...         ...         ...   ...  ...  ...   ...\n",
       "188 2024-07-07   83.943333  2024-07-07     0    7    7  2024\n",
       "189 2024-07-08  144.599583  2024-07-08     0    8    7  2024\n",
       "190 2024-07-09  138.257500  2024-07-09     0    9    7  2024\n",
       "191 2024-07-10  150.919583  2024-07-10     0   10    7  2024\n",
       "192 2024-07-11  149.543750  2024-07-11     0   11    7  2024\n",
       "\n",
       "[193 rows x 7 columns]"
      ]
     },
     "execution_count": 21,
     "metadata": {},
     "output_type": "execute_result"
    }
   ],
   "source": [
    "datos_dias=datos.reset_index()\n",
    "datos_dias"
   ]
  },
  {
   "cell_type": "code",
   "execution_count": 22,
   "metadata": {},
   "outputs": [],
   "source": [
    "datos_dia=datos.drop(columns=['hora'])\n",
    "datos_dia['fecha']=pd.to_datetime(datos['fecha'],format='%d/%m/%Y')\n",
    "#datos_dia['fecha']=datos_dia['fecha'].dt.strftime('%d/%m/%Y')\n",
    "\n",
    "\n",
    "datos_dia=datos_dia.resample('D').mean()\n",
    "datos_dia['value']=datos_dia['value'].round(2)\n",
    "\n",
    "datos_dia[['dia','mes','año']]=datos_dia[['dia','mes','año']].astype(int)\n"
   ]
  },
  {
   "cell_type": "code",
   "execution_count": 23,
   "metadata": {},
   "outputs": [
    {
     "data": {
      "text/html": [
       "<div>\n",
       "<style scoped>\n",
       "    .dataframe tbody tr th:only-of-type {\n",
       "        vertical-align: middle;\n",
       "    }\n",
       "\n",
       "    .dataframe tbody tr th {\n",
       "        vertical-align: top;\n",
       "    }\n",
       "\n",
       "    .dataframe thead th {\n",
       "        text-align: right;\n",
       "    }\n",
       "</style>\n",
       "<table border=\"1\" class=\"dataframe\">\n",
       "  <thead>\n",
       "    <tr style=\"text-align: right;\">\n",
       "      <th></th>\n",
       "      <th>value</th>\n",
       "      <th>fecha</th>\n",
       "      <th>dia</th>\n",
       "      <th>mes</th>\n",
       "      <th>año</th>\n",
       "    </tr>\n",
       "    <tr>\n",
       "      <th>datetime</th>\n",
       "      <th></th>\n",
       "      <th></th>\n",
       "      <th></th>\n",
       "      <th></th>\n",
       "      <th></th>\n",
       "    </tr>\n",
       "  </thead>\n",
       "  <tbody>\n",
       "    <tr>\n",
       "      <th>2024-01-01</th>\n",
       "      <td>90.57</td>\n",
       "      <td>2024-01-01</td>\n",
       "      <td>1</td>\n",
       "      <td>1</td>\n",
       "      <td>2024</td>\n",
       "    </tr>\n",
       "    <tr>\n",
       "      <th>2024-01-02</th>\n",
       "      <td>120.48</td>\n",
       "      <td>2024-01-02</td>\n",
       "      <td>2</td>\n",
       "      <td>1</td>\n",
       "      <td>2024</td>\n",
       "    </tr>\n",
       "    <tr>\n",
       "      <th>2024-01-03</th>\n",
       "      <td>130.60</td>\n",
       "      <td>2024-01-03</td>\n",
       "      <td>3</td>\n",
       "      <td>1</td>\n",
       "      <td>2024</td>\n",
       "    </tr>\n",
       "    <tr>\n",
       "      <th>2024-01-04</th>\n",
       "      <td>165.83</td>\n",
       "      <td>2024-01-04</td>\n",
       "      <td>4</td>\n",
       "      <td>1</td>\n",
       "      <td>2024</td>\n",
       "    </tr>\n",
       "    <tr>\n",
       "      <th>2024-01-05</th>\n",
       "      <td>143.96</td>\n",
       "      <td>2024-01-05</td>\n",
       "      <td>5</td>\n",
       "      <td>1</td>\n",
       "      <td>2024</td>\n",
       "    </tr>\n",
       "    <tr>\n",
       "      <th>...</th>\n",
       "      <td>...</td>\n",
       "      <td>...</td>\n",
       "      <td>...</td>\n",
       "      <td>...</td>\n",
       "      <td>...</td>\n",
       "    </tr>\n",
       "    <tr>\n",
       "      <th>2024-07-07</th>\n",
       "      <td>83.94</td>\n",
       "      <td>2024-07-07</td>\n",
       "      <td>7</td>\n",
       "      <td>7</td>\n",
       "      <td>2024</td>\n",
       "    </tr>\n",
       "    <tr>\n",
       "      <th>2024-07-08</th>\n",
       "      <td>144.60</td>\n",
       "      <td>2024-07-08</td>\n",
       "      <td>8</td>\n",
       "      <td>7</td>\n",
       "      <td>2024</td>\n",
       "    </tr>\n",
       "    <tr>\n",
       "      <th>2024-07-09</th>\n",
       "      <td>138.26</td>\n",
       "      <td>2024-07-09</td>\n",
       "      <td>9</td>\n",
       "      <td>7</td>\n",
       "      <td>2024</td>\n",
       "    </tr>\n",
       "    <tr>\n",
       "      <th>2024-07-10</th>\n",
       "      <td>150.92</td>\n",
       "      <td>2024-07-10</td>\n",
       "      <td>10</td>\n",
       "      <td>7</td>\n",
       "      <td>2024</td>\n",
       "    </tr>\n",
       "    <tr>\n",
       "      <th>2024-07-11</th>\n",
       "      <td>149.54</td>\n",
       "      <td>2024-07-11</td>\n",
       "      <td>11</td>\n",
       "      <td>7</td>\n",
       "      <td>2024</td>\n",
       "    </tr>\n",
       "  </tbody>\n",
       "</table>\n",
       "<p>193 rows × 5 columns</p>\n",
       "</div>"
      ],
      "text/plain": [
       "             value      fecha  dia  mes   año\n",
       "datetime                                     \n",
       "2024-01-01   90.57 2024-01-01    1    1  2024\n",
       "2024-01-02  120.48 2024-01-02    2    1  2024\n",
       "2024-01-03  130.60 2024-01-03    3    1  2024\n",
       "2024-01-04  165.83 2024-01-04    4    1  2024\n",
       "2024-01-05  143.96 2024-01-05    5    1  2024\n",
       "...            ...        ...  ...  ...   ...\n",
       "2024-07-07   83.94 2024-07-07    7    7  2024\n",
       "2024-07-08  144.60 2024-07-08    8    7  2024\n",
       "2024-07-09  138.26 2024-07-09    9    7  2024\n",
       "2024-07-10  150.92 2024-07-10   10    7  2024\n",
       "2024-07-11  149.54 2024-07-11   11    7  2024\n",
       "\n",
       "[193 rows x 5 columns]"
      ]
     },
     "execution_count": 23,
     "metadata": {},
     "output_type": "execute_result"
    }
   ],
   "source": [
    "datos_dia"
   ]
  },
  {
   "cell_type": "code",
   "execution_count": 24,
   "metadata": {},
   "outputs": [
    {
     "data": {
      "text/plain": [
       "(44.45, 183.96)"
      ]
     },
     "execution_count": 24,
     "metadata": {},
     "output_type": "execute_result"
    }
   ],
   "source": [
    "valor_minimo_diario=datos_dia['value'].min()\n",
    "valor_maximo_diario=datos_dia['value'].max()\n",
    "valor_minimo_diario,valor_maximo_diario"
   ]
  },
  {
   "cell_type": "markdown",
   "metadata": {},
   "source": [
    "### Agrupación por meses"
   ]
  },
  {
   "cell_type": "code",
   "execution_count": 25,
   "metadata": {},
   "outputs": [
    {
     "data": {
      "text/html": [
       "<div>\n",
       "<style scoped>\n",
       "    .dataframe tbody tr th:only-of-type {\n",
       "        vertical-align: middle;\n",
       "    }\n",
       "\n",
       "    .dataframe tbody tr th {\n",
       "        vertical-align: top;\n",
       "    }\n",
       "\n",
       "    .dataframe thead th {\n",
       "        text-align: right;\n",
       "    }\n",
       "</style>\n",
       "<table border=\"1\" class=\"dataframe\">\n",
       "  <thead>\n",
       "    <tr style=\"text-align: right;\">\n",
       "      <th></th>\n",
       "      <th>value</th>\n",
       "      <th>fecha</th>\n",
       "      <th>hora</th>\n",
       "      <th>dia</th>\n",
       "      <th>mes</th>\n",
       "      <th>año</th>\n",
       "    </tr>\n",
       "    <tr>\n",
       "      <th>datetime</th>\n",
       "      <th></th>\n",
       "      <th></th>\n",
       "      <th></th>\n",
       "      <th></th>\n",
       "      <th></th>\n",
       "      <th></th>\n",
       "    </tr>\n",
       "  </thead>\n",
       "  <tbody>\n",
       "    <tr>\n",
       "      <th>2024-01-01</th>\n",
       "      <td>90.572083</td>\n",
       "      <td>2024-01-01</td>\n",
       "      <td>0</td>\n",
       "      <td>1</td>\n",
       "      <td>1</td>\n",
       "      <td>2024</td>\n",
       "    </tr>\n",
       "    <tr>\n",
       "      <th>2024-01-02</th>\n",
       "      <td>120.480000</td>\n",
       "      <td>2024-01-02</td>\n",
       "      <td>0</td>\n",
       "      <td>2</td>\n",
       "      <td>1</td>\n",
       "      <td>2024</td>\n",
       "    </tr>\n",
       "    <tr>\n",
       "      <th>2024-01-03</th>\n",
       "      <td>130.602500</td>\n",
       "      <td>2024-01-03</td>\n",
       "      <td>0</td>\n",
       "      <td>3</td>\n",
       "      <td>1</td>\n",
       "      <td>2024</td>\n",
       "    </tr>\n",
       "    <tr>\n",
       "      <th>2024-01-04</th>\n",
       "      <td>165.828750</td>\n",
       "      <td>2024-01-04</td>\n",
       "      <td>0</td>\n",
       "      <td>4</td>\n",
       "      <td>1</td>\n",
       "      <td>2024</td>\n",
       "    </tr>\n",
       "    <tr>\n",
       "      <th>2024-01-05</th>\n",
       "      <td>143.957500</td>\n",
       "      <td>2024-01-05</td>\n",
       "      <td>0</td>\n",
       "      <td>5</td>\n",
       "      <td>1</td>\n",
       "      <td>2024</td>\n",
       "    </tr>\n",
       "    <tr>\n",
       "      <th>...</th>\n",
       "      <td>...</td>\n",
       "      <td>...</td>\n",
       "      <td>...</td>\n",
       "      <td>...</td>\n",
       "      <td>...</td>\n",
       "      <td>...</td>\n",
       "    </tr>\n",
       "    <tr>\n",
       "      <th>2024-07-07</th>\n",
       "      <td>83.943333</td>\n",
       "      <td>2024-07-07</td>\n",
       "      <td>0</td>\n",
       "      <td>7</td>\n",
       "      <td>7</td>\n",
       "      <td>2024</td>\n",
       "    </tr>\n",
       "    <tr>\n",
       "      <th>2024-07-08</th>\n",
       "      <td>144.599583</td>\n",
       "      <td>2024-07-08</td>\n",
       "      <td>0</td>\n",
       "      <td>8</td>\n",
       "      <td>7</td>\n",
       "      <td>2024</td>\n",
       "    </tr>\n",
       "    <tr>\n",
       "      <th>2024-07-09</th>\n",
       "      <td>138.257500</td>\n",
       "      <td>2024-07-09</td>\n",
       "      <td>0</td>\n",
       "      <td>9</td>\n",
       "      <td>7</td>\n",
       "      <td>2024</td>\n",
       "    </tr>\n",
       "    <tr>\n",
       "      <th>2024-07-10</th>\n",
       "      <td>150.919583</td>\n",
       "      <td>2024-07-10</td>\n",
       "      <td>0</td>\n",
       "      <td>10</td>\n",
       "      <td>7</td>\n",
       "      <td>2024</td>\n",
       "    </tr>\n",
       "    <tr>\n",
       "      <th>2024-07-11</th>\n",
       "      <td>149.543750</td>\n",
       "      <td>2024-07-11</td>\n",
       "      <td>0</td>\n",
       "      <td>11</td>\n",
       "      <td>7</td>\n",
       "      <td>2024</td>\n",
       "    </tr>\n",
       "  </tbody>\n",
       "</table>\n",
       "<p>193 rows × 6 columns</p>\n",
       "</div>"
      ],
      "text/plain": [
       "                 value       fecha  hora  dia  mes   año\n",
       "datetime                                                \n",
       "2024-01-01   90.572083  2024-01-01     0    1    1  2024\n",
       "2024-01-02  120.480000  2024-01-02     0    2    1  2024\n",
       "2024-01-03  130.602500  2024-01-03     0    3    1  2024\n",
       "2024-01-04  165.828750  2024-01-04     0    4    1  2024\n",
       "2024-01-05  143.957500  2024-01-05     0    5    1  2024\n",
       "...                ...         ...   ...  ...  ...   ...\n",
       "2024-07-07   83.943333  2024-07-07     0    7    7  2024\n",
       "2024-07-08  144.599583  2024-07-08     0    8    7  2024\n",
       "2024-07-09  138.257500  2024-07-09     0    9    7  2024\n",
       "2024-07-10  150.919583  2024-07-10     0   10    7  2024\n",
       "2024-07-11  149.543750  2024-07-11     0   11    7  2024\n",
       "\n",
       "[193 rows x 6 columns]"
      ]
     },
     "execution_count": 25,
     "metadata": {},
     "output_type": "execute_result"
    }
   ],
   "source": [
    "datos"
   ]
  },
  {
   "cell_type": "code",
   "execution_count": 26,
   "metadata": {},
   "outputs": [
    {
     "data": {
      "text/html": [
       "<div>\n",
       "<style scoped>\n",
       "    .dataframe tbody tr th:only-of-type {\n",
       "        vertical-align: middle;\n",
       "    }\n",
       "\n",
       "    .dataframe tbody tr th {\n",
       "        vertical-align: top;\n",
       "    }\n",
       "\n",
       "    .dataframe thead th {\n",
       "        text-align: right;\n",
       "    }\n",
       "</style>\n",
       "<table border=\"1\" class=\"dataframe\">\n",
       "  <thead>\n",
       "    <tr style=\"text-align: right;\">\n",
       "      <th></th>\n",
       "      <th>value</th>\n",
       "      <th>mes</th>\n",
       "      <th>año</th>\n",
       "    </tr>\n",
       "    <tr>\n",
       "      <th>datetime</th>\n",
       "      <th></th>\n",
       "      <th></th>\n",
       "      <th></th>\n",
       "    </tr>\n",
       "  </thead>\n",
       "  <tbody>\n",
       "    <tr>\n",
       "      <th>2024-01-31</th>\n",
       "      <td>139.50</td>\n",
       "      <td>1</td>\n",
       "      <td>2024</td>\n",
       "    </tr>\n",
       "    <tr>\n",
       "      <th>2024-02-29</th>\n",
       "      <td>106.64</td>\n",
       "      <td>2</td>\n",
       "      <td>2024</td>\n",
       "    </tr>\n",
       "    <tr>\n",
       "      <th>2024-03-31</th>\n",
       "      <td>89.92</td>\n",
       "      <td>3</td>\n",
       "      <td>2024</td>\n",
       "    </tr>\n",
       "    <tr>\n",
       "      <th>2024-04-30</th>\n",
       "      <td>85.58</td>\n",
       "      <td>4</td>\n",
       "      <td>2024</td>\n",
       "    </tr>\n",
       "    <tr>\n",
       "      <th>2024-05-31</th>\n",
       "      <td>99.67</td>\n",
       "      <td>5</td>\n",
       "      <td>2024</td>\n",
       "    </tr>\n",
       "    <tr>\n",
       "      <th>2024-06-30</th>\n",
       "      <td>117.02</td>\n",
       "      <td>6</td>\n",
       "      <td>2024</td>\n",
       "    </tr>\n",
       "    <tr>\n",
       "      <th>2024-07-31</th>\n",
       "      <td>127.01</td>\n",
       "      <td>7</td>\n",
       "      <td>2024</td>\n",
       "    </tr>\n",
       "  </tbody>\n",
       "</table>\n",
       "</div>"
      ],
      "text/plain": [
       "             value  mes   año\n",
       "datetime                     \n",
       "2024-01-31  139.50    1  2024\n",
       "2024-02-29  106.64    2  2024\n",
       "2024-03-31   89.92    3  2024\n",
       "2024-04-30   85.58    4  2024\n",
       "2024-05-31   99.67    5  2024\n",
       "2024-06-30  117.02    6  2024\n",
       "2024-07-31  127.01    7  2024"
      ]
     },
     "execution_count": 26,
     "metadata": {},
     "output_type": "execute_result"
    }
   ],
   "source": [
    "datos_mes=datos.drop(columns=['fecha','hora', 'dia'])\n",
    "datos_mes=datos_mes.resample('M').mean()\n",
    "datos_mes['value']=datos_mes['value'].round(2)\n",
    "\n",
    "datos_mes[['mes','año']]=datos_mes[['mes','año']].astype(int)\n",
    "datos_mes"
   ]
  },
  {
   "cell_type": "markdown",
   "metadata": {},
   "source": [
    "### Definimos la escala y sus límites"
   ]
  },
  {
   "cell_type": "code",
   "execution_count": 27,
   "metadata": {},
   "outputs": [],
   "source": [
    "datos_limites = {\n",
    "    'rango': [-10,20.01,40.01,60.01,80.01,100.01,10000],\n",
    "    'valor_asignado': ['muy bajo', 'bajo','medio','alto','muy alto','chungo','xtrem'],\n",
    "}"
   ]
  },
  {
   "cell_type": "code",
   "execution_count": 28,
   "metadata": {},
   "outputs": [
    {
     "data": {
      "text/html": [
       "<div>\n",
       "<style scoped>\n",
       "    .dataframe tbody tr th:only-of-type {\n",
       "        vertical-align: middle;\n",
       "    }\n",
       "\n",
       "    .dataframe tbody tr th {\n",
       "        vertical-align: top;\n",
       "    }\n",
       "\n",
       "    .dataframe thead th {\n",
       "        text-align: right;\n",
       "    }\n",
       "</style>\n",
       "<table border=\"1\" class=\"dataframe\">\n",
       "  <thead>\n",
       "    <tr style=\"text-align: right;\">\n",
       "      <th></th>\n",
       "      <th>rango</th>\n",
       "      <th>valor_asignado</th>\n",
       "    </tr>\n",
       "  </thead>\n",
       "  <tbody>\n",
       "    <tr>\n",
       "      <th>0</th>\n",
       "      <td>-10.00</td>\n",
       "      <td>muy bajo</td>\n",
       "    </tr>\n",
       "    <tr>\n",
       "      <th>1</th>\n",
       "      <td>20.01</td>\n",
       "      <td>bajo</td>\n",
       "    </tr>\n",
       "    <tr>\n",
       "      <th>2</th>\n",
       "      <td>40.01</td>\n",
       "      <td>medio</td>\n",
       "    </tr>\n",
       "    <tr>\n",
       "      <th>3</th>\n",
       "      <td>60.01</td>\n",
       "      <td>alto</td>\n",
       "    </tr>\n",
       "    <tr>\n",
       "      <th>4</th>\n",
       "      <td>80.01</td>\n",
       "      <td>muy alto</td>\n",
       "    </tr>\n",
       "    <tr>\n",
       "      <th>5</th>\n",
       "      <td>100.01</td>\n",
       "      <td>chungo</td>\n",
       "    </tr>\n",
       "    <tr>\n",
       "      <th>6</th>\n",
       "      <td>10000.00</td>\n",
       "      <td>xtrem</td>\n",
       "    </tr>\n",
       "  </tbody>\n",
       "</table>\n",
       "</div>"
      ],
      "text/plain": [
       "      rango valor_asignado\n",
       "0    -10.00       muy bajo\n",
       "1     20.01           bajo\n",
       "2     40.01          medio\n",
       "3     60.01           alto\n",
       "4     80.01       muy alto\n",
       "5    100.01         chungo\n",
       "6  10000.00          xtrem"
      ]
     },
     "execution_count": 28,
     "metadata": {},
     "output_type": "execute_result"
    }
   ],
   "source": [
    "df_limites=pd.DataFrame(datos_limites)\n",
    "df_limites"
   ]
  },
  {
   "cell_type": "code",
   "execution_count": 29,
   "metadata": {},
   "outputs": [
    {
     "data": {
      "text/plain": [
       "0    muy bajo\n",
       "1        bajo\n",
       "2       medio\n",
       "3        alto\n",
       "4    muy alto\n",
       "5      chungo\n",
       "Name: valor_asignado, dtype: object"
      ]
     },
     "execution_count": 29,
     "metadata": {},
     "output_type": "execute_result"
    }
   ],
   "source": [
    "#etiquetas = df_limites['valor_asignado'][:-1]\n",
    "etiquetas = df_limites['valor_asignado'][:-1]\n",
    "etiquetas"
   ]
  },
  {
   "cell_type": "markdown",
   "metadata": {},
   "source": [
    "### Añadimos la columna escala a todas las tablas"
   ]
  },
  {
   "cell_type": "markdown",
   "metadata": {},
   "source": [
    "datos_horarios['escala']=pd.cut(datos_horarios['value'],bins=df_limites['rango'],labels=etiquetas,right=True)\n",
    "#datos_horarios['escala']=pd.cut(datos_horarios['value'],bins=df_limites['rango'],labels=etiquetas)\n",
    "#datos_horarios['escala']=pd.cut(datos_horarios['value'],bins=df_limites['rango'],labels=df_limites['valor_asignado'],right=False)\n",
    "datos_horarios"
   ]
  },
  {
   "cell_type": "markdown",
   "metadata": {},
   "source": [
    "lista_escala=datos_horarios['escala'].unique()\n",
    "lista_escala"
   ]
  },
  {
   "cell_type": "code",
   "execution_count": 30,
   "metadata": {},
   "outputs": [
    {
     "data": {
      "text/html": [
       "<div>\n",
       "<style scoped>\n",
       "    .dataframe tbody tr th:only-of-type {\n",
       "        vertical-align: middle;\n",
       "    }\n",
       "\n",
       "    .dataframe tbody tr th {\n",
       "        vertical-align: top;\n",
       "    }\n",
       "\n",
       "    .dataframe thead th {\n",
       "        text-align: right;\n",
       "    }\n",
       "</style>\n",
       "<table border=\"1\" class=\"dataframe\">\n",
       "  <thead>\n",
       "    <tr style=\"text-align: right;\">\n",
       "      <th></th>\n",
       "      <th>value</th>\n",
       "      <th>fecha</th>\n",
       "      <th>dia</th>\n",
       "      <th>mes</th>\n",
       "      <th>año</th>\n",
       "      <th>escala</th>\n",
       "    </tr>\n",
       "    <tr>\n",
       "      <th>datetime</th>\n",
       "      <th></th>\n",
       "      <th></th>\n",
       "      <th></th>\n",
       "      <th></th>\n",
       "      <th></th>\n",
       "      <th></th>\n",
       "    </tr>\n",
       "  </thead>\n",
       "  <tbody>\n",
       "    <tr>\n",
       "      <th>2024-01-01</th>\n",
       "      <td>90.57</td>\n",
       "      <td>2024-01-01</td>\n",
       "      <td>1</td>\n",
       "      <td>1</td>\n",
       "      <td>2024</td>\n",
       "      <td>muy alto</td>\n",
       "    </tr>\n",
       "    <tr>\n",
       "      <th>2024-01-02</th>\n",
       "      <td>120.48</td>\n",
       "      <td>2024-01-02</td>\n",
       "      <td>2</td>\n",
       "      <td>1</td>\n",
       "      <td>2024</td>\n",
       "      <td>chungo</td>\n",
       "    </tr>\n",
       "    <tr>\n",
       "      <th>2024-01-03</th>\n",
       "      <td>130.60</td>\n",
       "      <td>2024-01-03</td>\n",
       "      <td>3</td>\n",
       "      <td>1</td>\n",
       "      <td>2024</td>\n",
       "      <td>chungo</td>\n",
       "    </tr>\n",
       "    <tr>\n",
       "      <th>2024-01-04</th>\n",
       "      <td>165.83</td>\n",
       "      <td>2024-01-04</td>\n",
       "      <td>4</td>\n",
       "      <td>1</td>\n",
       "      <td>2024</td>\n",
       "      <td>chungo</td>\n",
       "    </tr>\n",
       "    <tr>\n",
       "      <th>2024-01-05</th>\n",
       "      <td>143.96</td>\n",
       "      <td>2024-01-05</td>\n",
       "      <td>5</td>\n",
       "      <td>1</td>\n",
       "      <td>2024</td>\n",
       "      <td>chungo</td>\n",
       "    </tr>\n",
       "    <tr>\n",
       "      <th>...</th>\n",
       "      <td>...</td>\n",
       "      <td>...</td>\n",
       "      <td>...</td>\n",
       "      <td>...</td>\n",
       "      <td>...</td>\n",
       "      <td>...</td>\n",
       "    </tr>\n",
       "    <tr>\n",
       "      <th>2024-07-07</th>\n",
       "      <td>83.94</td>\n",
       "      <td>2024-07-07</td>\n",
       "      <td>7</td>\n",
       "      <td>7</td>\n",
       "      <td>2024</td>\n",
       "      <td>muy alto</td>\n",
       "    </tr>\n",
       "    <tr>\n",
       "      <th>2024-07-08</th>\n",
       "      <td>144.60</td>\n",
       "      <td>2024-07-08</td>\n",
       "      <td>8</td>\n",
       "      <td>7</td>\n",
       "      <td>2024</td>\n",
       "      <td>chungo</td>\n",
       "    </tr>\n",
       "    <tr>\n",
       "      <th>2024-07-09</th>\n",
       "      <td>138.26</td>\n",
       "      <td>2024-07-09</td>\n",
       "      <td>9</td>\n",
       "      <td>7</td>\n",
       "      <td>2024</td>\n",
       "      <td>chungo</td>\n",
       "    </tr>\n",
       "    <tr>\n",
       "      <th>2024-07-10</th>\n",
       "      <td>150.92</td>\n",
       "      <td>2024-07-10</td>\n",
       "      <td>10</td>\n",
       "      <td>7</td>\n",
       "      <td>2024</td>\n",
       "      <td>chungo</td>\n",
       "    </tr>\n",
       "    <tr>\n",
       "      <th>2024-07-11</th>\n",
       "      <td>149.54</td>\n",
       "      <td>2024-07-11</td>\n",
       "      <td>11</td>\n",
       "      <td>7</td>\n",
       "      <td>2024</td>\n",
       "      <td>chungo</td>\n",
       "    </tr>\n",
       "  </tbody>\n",
       "</table>\n",
       "<p>193 rows × 6 columns</p>\n",
       "</div>"
      ],
      "text/plain": [
       "             value      fecha  dia  mes   año    escala\n",
       "datetime                                               \n",
       "2024-01-01   90.57 2024-01-01    1    1  2024  muy alto\n",
       "2024-01-02  120.48 2024-01-02    2    1  2024    chungo\n",
       "2024-01-03  130.60 2024-01-03    3    1  2024    chungo\n",
       "2024-01-04  165.83 2024-01-04    4    1  2024    chungo\n",
       "2024-01-05  143.96 2024-01-05    5    1  2024    chungo\n",
       "...            ...        ...  ...  ...   ...       ...\n",
       "2024-07-07   83.94 2024-07-07    7    7  2024  muy alto\n",
       "2024-07-08  144.60 2024-07-08    8    7  2024    chungo\n",
       "2024-07-09  138.26 2024-07-09    9    7  2024    chungo\n",
       "2024-07-10  150.92 2024-07-10   10    7  2024    chungo\n",
       "2024-07-11  149.54 2024-07-11   11    7  2024    chungo\n",
       "\n",
       "[193 rows x 6 columns]"
      ]
     },
     "execution_count": 30,
     "metadata": {},
     "output_type": "execute_result"
    }
   ],
   "source": [
    "datos_dia['escala']=pd.cut(datos_dia['value'],bins=df_limites['rango'],labels=etiquetas,right=False)\n",
    "datos_dia"
   ]
  },
  {
   "cell_type": "code",
   "execution_count": 31,
   "metadata": {},
   "outputs": [
    {
     "data": {
      "text/html": [
       "<div>\n",
       "<style scoped>\n",
       "    .dataframe tbody tr th:only-of-type {\n",
       "        vertical-align: middle;\n",
       "    }\n",
       "\n",
       "    .dataframe tbody tr th {\n",
       "        vertical-align: top;\n",
       "    }\n",
       "\n",
       "    .dataframe thead th {\n",
       "        text-align: right;\n",
       "    }\n",
       "</style>\n",
       "<table border=\"1\" class=\"dataframe\">\n",
       "  <thead>\n",
       "    <tr style=\"text-align: right;\">\n",
       "      <th></th>\n",
       "      <th>value</th>\n",
       "      <th>mes</th>\n",
       "      <th>año</th>\n",
       "      <th>escala</th>\n",
       "    </tr>\n",
       "    <tr>\n",
       "      <th>datetime</th>\n",
       "      <th></th>\n",
       "      <th></th>\n",
       "      <th></th>\n",
       "      <th></th>\n",
       "    </tr>\n",
       "  </thead>\n",
       "  <tbody>\n",
       "    <tr>\n",
       "      <th>2024-01-31</th>\n",
       "      <td>139.50</td>\n",
       "      <td>1</td>\n",
       "      <td>2024</td>\n",
       "      <td>chungo</td>\n",
       "    </tr>\n",
       "    <tr>\n",
       "      <th>2024-02-29</th>\n",
       "      <td>106.64</td>\n",
       "      <td>2</td>\n",
       "      <td>2024</td>\n",
       "      <td>chungo</td>\n",
       "    </tr>\n",
       "    <tr>\n",
       "      <th>2024-03-31</th>\n",
       "      <td>89.92</td>\n",
       "      <td>3</td>\n",
       "      <td>2024</td>\n",
       "      <td>muy alto</td>\n",
       "    </tr>\n",
       "    <tr>\n",
       "      <th>2024-04-30</th>\n",
       "      <td>85.58</td>\n",
       "      <td>4</td>\n",
       "      <td>2024</td>\n",
       "      <td>muy alto</td>\n",
       "    </tr>\n",
       "    <tr>\n",
       "      <th>2024-05-31</th>\n",
       "      <td>99.67</td>\n",
       "      <td>5</td>\n",
       "      <td>2024</td>\n",
       "      <td>muy alto</td>\n",
       "    </tr>\n",
       "    <tr>\n",
       "      <th>2024-06-30</th>\n",
       "      <td>117.02</td>\n",
       "      <td>6</td>\n",
       "      <td>2024</td>\n",
       "      <td>chungo</td>\n",
       "    </tr>\n",
       "    <tr>\n",
       "      <th>2024-07-31</th>\n",
       "      <td>127.01</td>\n",
       "      <td>7</td>\n",
       "      <td>2024</td>\n",
       "      <td>chungo</td>\n",
       "    </tr>\n",
       "  </tbody>\n",
       "</table>\n",
       "</div>"
      ],
      "text/plain": [
       "             value  mes   año    escala\n",
       "datetime                               \n",
       "2024-01-31  139.50    1  2024    chungo\n",
       "2024-02-29  106.64    2  2024    chungo\n",
       "2024-03-31   89.92    3  2024  muy alto\n",
       "2024-04-30   85.58    4  2024  muy alto\n",
       "2024-05-31   99.67    5  2024  muy alto\n",
       "2024-06-30  117.02    6  2024    chungo\n",
       "2024-07-31  127.01    7  2024    chungo"
      ]
     },
     "execution_count": 31,
     "metadata": {},
     "output_type": "execute_result"
    }
   ],
   "source": [
    "datos_mes['escala']=pd.cut(datos_mes['value'],bins=df_limites['rango'],labels=etiquetas,right=False)\n",
    "datos_mes"
   ]
  },
  {
   "cell_type": "markdown",
   "metadata": {},
   "source": [
    "### Definimos los colores según la escala"
   ]
  },
  {
   "cell_type": "code",
   "execution_count": 32,
   "metadata": {},
   "outputs": [],
   "source": [
    "colores = {\n",
    "    'muy bajo': 'lightgreen',\n",
    "    'bajo': 'green',\n",
    "    'medio': 'blue',\n",
    "    'alto': 'orange',\n",
    "    'muy alto': 'red',\n",
    "    'chungo': 'purple',\n",
    "    'xtrem':'black'\n",
    "}"
   ]
  },
  {
   "cell_type": "markdown",
   "metadata": {},
   "source": [
    "datos_horarios['color']=datos_horarios['escala'].map(colores)\n",
    "datos_horarios"
   ]
  },
  {
   "cell_type": "code",
   "execution_count": 33,
   "metadata": {},
   "outputs": [
    {
     "data": {
      "text/html": [
       "<div>\n",
       "<style scoped>\n",
       "    .dataframe tbody tr th:only-of-type {\n",
       "        vertical-align: middle;\n",
       "    }\n",
       "\n",
       "    .dataframe tbody tr th {\n",
       "        vertical-align: top;\n",
       "    }\n",
       "\n",
       "    .dataframe thead th {\n",
       "        text-align: right;\n",
       "    }\n",
       "</style>\n",
       "<table border=\"1\" class=\"dataframe\">\n",
       "  <thead>\n",
       "    <tr style=\"text-align: right;\">\n",
       "      <th></th>\n",
       "      <th>value</th>\n",
       "      <th>fecha</th>\n",
       "      <th>dia</th>\n",
       "      <th>mes</th>\n",
       "      <th>año</th>\n",
       "      <th>escala</th>\n",
       "      <th>color</th>\n",
       "    </tr>\n",
       "    <tr>\n",
       "      <th>datetime</th>\n",
       "      <th></th>\n",
       "      <th></th>\n",
       "      <th></th>\n",
       "      <th></th>\n",
       "      <th></th>\n",
       "      <th></th>\n",
       "      <th></th>\n",
       "    </tr>\n",
       "  </thead>\n",
       "  <tbody>\n",
       "    <tr>\n",
       "      <th>2024-01-01</th>\n",
       "      <td>90.57</td>\n",
       "      <td>2024-01-01</td>\n",
       "      <td>1</td>\n",
       "      <td>1</td>\n",
       "      <td>2024</td>\n",
       "      <td>muy alto</td>\n",
       "      <td>red</td>\n",
       "    </tr>\n",
       "    <tr>\n",
       "      <th>2024-01-02</th>\n",
       "      <td>120.48</td>\n",
       "      <td>2024-01-02</td>\n",
       "      <td>2</td>\n",
       "      <td>1</td>\n",
       "      <td>2024</td>\n",
       "      <td>chungo</td>\n",
       "      <td>purple</td>\n",
       "    </tr>\n",
       "    <tr>\n",
       "      <th>2024-01-03</th>\n",
       "      <td>130.60</td>\n",
       "      <td>2024-01-03</td>\n",
       "      <td>3</td>\n",
       "      <td>1</td>\n",
       "      <td>2024</td>\n",
       "      <td>chungo</td>\n",
       "      <td>purple</td>\n",
       "    </tr>\n",
       "    <tr>\n",
       "      <th>2024-01-04</th>\n",
       "      <td>165.83</td>\n",
       "      <td>2024-01-04</td>\n",
       "      <td>4</td>\n",
       "      <td>1</td>\n",
       "      <td>2024</td>\n",
       "      <td>chungo</td>\n",
       "      <td>purple</td>\n",
       "    </tr>\n",
       "    <tr>\n",
       "      <th>2024-01-05</th>\n",
       "      <td>143.96</td>\n",
       "      <td>2024-01-05</td>\n",
       "      <td>5</td>\n",
       "      <td>1</td>\n",
       "      <td>2024</td>\n",
       "      <td>chungo</td>\n",
       "      <td>purple</td>\n",
       "    </tr>\n",
       "    <tr>\n",
       "      <th>...</th>\n",
       "      <td>...</td>\n",
       "      <td>...</td>\n",
       "      <td>...</td>\n",
       "      <td>...</td>\n",
       "      <td>...</td>\n",
       "      <td>...</td>\n",
       "      <td>...</td>\n",
       "    </tr>\n",
       "    <tr>\n",
       "      <th>2024-07-07</th>\n",
       "      <td>83.94</td>\n",
       "      <td>2024-07-07</td>\n",
       "      <td>7</td>\n",
       "      <td>7</td>\n",
       "      <td>2024</td>\n",
       "      <td>muy alto</td>\n",
       "      <td>red</td>\n",
       "    </tr>\n",
       "    <tr>\n",
       "      <th>2024-07-08</th>\n",
       "      <td>144.60</td>\n",
       "      <td>2024-07-08</td>\n",
       "      <td>8</td>\n",
       "      <td>7</td>\n",
       "      <td>2024</td>\n",
       "      <td>chungo</td>\n",
       "      <td>purple</td>\n",
       "    </tr>\n",
       "    <tr>\n",
       "      <th>2024-07-09</th>\n",
       "      <td>138.26</td>\n",
       "      <td>2024-07-09</td>\n",
       "      <td>9</td>\n",
       "      <td>7</td>\n",
       "      <td>2024</td>\n",
       "      <td>chungo</td>\n",
       "      <td>purple</td>\n",
       "    </tr>\n",
       "    <tr>\n",
       "      <th>2024-07-10</th>\n",
       "      <td>150.92</td>\n",
       "      <td>2024-07-10</td>\n",
       "      <td>10</td>\n",
       "      <td>7</td>\n",
       "      <td>2024</td>\n",
       "      <td>chungo</td>\n",
       "      <td>purple</td>\n",
       "    </tr>\n",
       "    <tr>\n",
       "      <th>2024-07-11</th>\n",
       "      <td>149.54</td>\n",
       "      <td>2024-07-11</td>\n",
       "      <td>11</td>\n",
       "      <td>7</td>\n",
       "      <td>2024</td>\n",
       "      <td>chungo</td>\n",
       "      <td>purple</td>\n",
       "    </tr>\n",
       "  </tbody>\n",
       "</table>\n",
       "<p>193 rows × 7 columns</p>\n",
       "</div>"
      ],
      "text/plain": [
       "             value      fecha  dia  mes   año    escala   color\n",
       "datetime                                                       \n",
       "2024-01-01   90.57 2024-01-01    1    1  2024  muy alto     red\n",
       "2024-01-02  120.48 2024-01-02    2    1  2024    chungo  purple\n",
       "2024-01-03  130.60 2024-01-03    3    1  2024    chungo  purple\n",
       "2024-01-04  165.83 2024-01-04    4    1  2024    chungo  purple\n",
       "2024-01-05  143.96 2024-01-05    5    1  2024    chungo  purple\n",
       "...            ...        ...  ...  ...   ...       ...     ...\n",
       "2024-07-07   83.94 2024-07-07    7    7  2024  muy alto     red\n",
       "2024-07-08  144.60 2024-07-08    8    7  2024    chungo  purple\n",
       "2024-07-09  138.26 2024-07-09    9    7  2024    chungo  purple\n",
       "2024-07-10  150.92 2024-07-10   10    7  2024    chungo  purple\n",
       "2024-07-11  149.54 2024-07-11   11    7  2024    chungo  purple\n",
       "\n",
       "[193 rows x 7 columns]"
      ]
     },
     "execution_count": 33,
     "metadata": {},
     "output_type": "execute_result"
    }
   ],
   "source": [
    "datos_dia['color']=datos_dia['escala'].map(colores)\n",
    "datos_dia"
   ]
  },
  {
   "cell_type": "markdown",
   "metadata": {},
   "source": [
    "### Obtenemos la escala ordenada al revés para el gráfico horario"
   ]
  },
  {
   "cell_type": "code",
   "execution_count": 34,
   "metadata": {},
   "outputs": [],
   "source": [
    "valor_asignado_a_rango = {row['valor_asignado']: row['rango'] for _, row in df_limites.iterrows()}"
   ]
  },
  {
   "cell_type": "markdown",
   "metadata": {},
   "source": [
    "escala_horaria=['alto', 'medio', 'bajo', 'muy bajo', 'muy alto', 'chungo']\n",
    "escala_horaria"
   ]
  },
  {
   "cell_type": "markdown",
   "metadata": {},
   "source": [
    "escala_ordenada_hora = sorted(escala_horaria, key=lambda x: valor_asignado_a_rango[x], reverse=True)\n",
    "escala_ordenada_hora"
   ]
  },
  {
   "cell_type": "markdown",
   "metadata": {},
   "source": [
    "datos_horarios['color']=datos_horarios['escala'].map(colores)\n",
    "datos_horarios"
   ]
  },
  {
   "cell_type": "markdown",
   "metadata": {},
   "source": [
    "datos_horarios['escala']=pd.Categorical(datos_horarios['escala'],categories=escala_ordenada_hora, ordered=True)\n",
    "datos_horarios"
   ]
  },
  {
   "cell_type": "markdown",
   "metadata": {},
   "source": [
    "### Obtenemos la escala ordenada al reves para el gráfico diario"
   ]
  },
  {
   "cell_type": "code",
   "execution_count": 35,
   "metadata": {},
   "outputs": [
    {
     "data": {
      "text/plain": [
       "['muy alto', 'chungo', 'medio', 'alto']\n",
       "Categories (6, object): ['muy bajo' < 'bajo' < 'medio' < 'alto' < 'muy alto' < 'chungo']"
      ]
     },
     "execution_count": 35,
     "metadata": {},
     "output_type": "execute_result"
    }
   ],
   "source": [
    "escala_dia=datos_dia['escala'].unique()\n",
    "escala_dia"
   ]
  },
  {
   "cell_type": "code",
   "execution_count": 36,
   "metadata": {},
   "outputs": [
    {
     "data": {
      "text/plain": [
       "['chungo', 'muy alto', 'alto', 'medio']"
      ]
     },
     "execution_count": 36,
     "metadata": {},
     "output_type": "execute_result"
    }
   ],
   "source": [
    "escala_ordenada_dia = sorted(escala_dia, key=lambda x: valor_asignado_a_rango[x], reverse=True)\n",
    "escala_ordenada_dia"
   ]
  },
  {
   "cell_type": "code",
   "execution_count": 37,
   "metadata": {},
   "outputs": [
    {
     "data": {
      "text/html": [
       "<div>\n",
       "<style scoped>\n",
       "    .dataframe tbody tr th:only-of-type {\n",
       "        vertical-align: middle;\n",
       "    }\n",
       "\n",
       "    .dataframe tbody tr th {\n",
       "        vertical-align: top;\n",
       "    }\n",
       "\n",
       "    .dataframe thead th {\n",
       "        text-align: right;\n",
       "    }\n",
       "</style>\n",
       "<table border=\"1\" class=\"dataframe\">\n",
       "  <thead>\n",
       "    <tr style=\"text-align: right;\">\n",
       "      <th></th>\n",
       "      <th>value</th>\n",
       "      <th>mes</th>\n",
       "      <th>año</th>\n",
       "      <th>escala</th>\n",
       "      <th>color</th>\n",
       "    </tr>\n",
       "    <tr>\n",
       "      <th>datetime</th>\n",
       "      <th></th>\n",
       "      <th></th>\n",
       "      <th></th>\n",
       "      <th></th>\n",
       "      <th></th>\n",
       "    </tr>\n",
       "  </thead>\n",
       "  <tbody>\n",
       "    <tr>\n",
       "      <th>2024-01-31</th>\n",
       "      <td>139.50</td>\n",
       "      <td>1</td>\n",
       "      <td>2024</td>\n",
       "      <td>chungo</td>\n",
       "      <td>purple</td>\n",
       "    </tr>\n",
       "    <tr>\n",
       "      <th>2024-02-29</th>\n",
       "      <td>106.64</td>\n",
       "      <td>2</td>\n",
       "      <td>2024</td>\n",
       "      <td>chungo</td>\n",
       "      <td>purple</td>\n",
       "    </tr>\n",
       "    <tr>\n",
       "      <th>2024-03-31</th>\n",
       "      <td>89.92</td>\n",
       "      <td>3</td>\n",
       "      <td>2024</td>\n",
       "      <td>muy alto</td>\n",
       "      <td>red</td>\n",
       "    </tr>\n",
       "    <tr>\n",
       "      <th>2024-04-30</th>\n",
       "      <td>85.58</td>\n",
       "      <td>4</td>\n",
       "      <td>2024</td>\n",
       "      <td>muy alto</td>\n",
       "      <td>red</td>\n",
       "    </tr>\n",
       "    <tr>\n",
       "      <th>2024-05-31</th>\n",
       "      <td>99.67</td>\n",
       "      <td>5</td>\n",
       "      <td>2024</td>\n",
       "      <td>muy alto</td>\n",
       "      <td>red</td>\n",
       "    </tr>\n",
       "    <tr>\n",
       "      <th>2024-06-30</th>\n",
       "      <td>117.02</td>\n",
       "      <td>6</td>\n",
       "      <td>2024</td>\n",
       "      <td>chungo</td>\n",
       "      <td>purple</td>\n",
       "    </tr>\n",
       "    <tr>\n",
       "      <th>2024-07-31</th>\n",
       "      <td>127.01</td>\n",
       "      <td>7</td>\n",
       "      <td>2024</td>\n",
       "      <td>chungo</td>\n",
       "      <td>purple</td>\n",
       "    </tr>\n",
       "  </tbody>\n",
       "</table>\n",
       "</div>"
      ],
      "text/plain": [
       "             value  mes   año    escala   color\n",
       "datetime                                       \n",
       "2024-01-31  139.50    1  2024    chungo  purple\n",
       "2024-02-29  106.64    2  2024    chungo  purple\n",
       "2024-03-31   89.92    3  2024  muy alto     red\n",
       "2024-04-30   85.58    4  2024  muy alto     red\n",
       "2024-05-31   99.67    5  2024  muy alto     red\n",
       "2024-06-30  117.02    6  2024    chungo  purple\n",
       "2024-07-31  127.01    7  2024    chungo  purple"
      ]
     },
     "execution_count": 37,
     "metadata": {},
     "output_type": "execute_result"
    }
   ],
   "source": [
    "datos_mes['color']=datos_mes['escala'].map(colores)\n",
    "datos_mes"
   ]
  },
  {
   "cell_type": "markdown",
   "metadata": {},
   "source": [
    "### Obtenemos la escala ordenada al reves para el gráfico mensual"
   ]
  },
  {
   "cell_type": "code",
   "execution_count": 38,
   "metadata": {},
   "outputs": [
    {
     "data": {
      "text/plain": [
       "['chungo', 'muy alto']\n",
       "Categories (6, object): ['muy bajo' < 'bajo' < 'medio' < 'alto' < 'muy alto' < 'chungo']"
      ]
     },
     "execution_count": 38,
     "metadata": {},
     "output_type": "execute_result"
    }
   ],
   "source": [
    "escala_mes= datos_mes['escala'].unique()\n",
    "escala_mes"
   ]
  },
  {
   "cell_type": "code",
   "execution_count": 39,
   "metadata": {},
   "outputs": [
    {
     "data": {
      "text/plain": [
       "['chungo', 'muy alto']"
      ]
     },
     "execution_count": 39,
     "metadata": {},
     "output_type": "execute_result"
    }
   ],
   "source": [
    "escala_ordenada_mes = sorted(escala_mes, key=lambda x: valor_asignado_a_rango[x], reverse=True)\n",
    "escala_ordenada_mes"
   ]
  },
  {
   "cell_type": "markdown",
   "metadata": {},
   "source": [
    "### Esta tabla se usa para el gráfico grande de barras diario"
   ]
  },
  {
   "cell_type": "code",
   "execution_count": 40,
   "metadata": {},
   "outputs": [
    {
     "data": {
      "text/html": [
       "<div>\n",
       "<style scoped>\n",
       "    .dataframe tbody tr th:only-of-type {\n",
       "        vertical-align: middle;\n",
       "    }\n",
       "\n",
       "    .dataframe tbody tr th {\n",
       "        vertical-align: top;\n",
       "    }\n",
       "\n",
       "    .dataframe thead th {\n",
       "        text-align: right;\n",
       "    }\n",
       "</style>\n",
       "<table border=\"1\" class=\"dataframe\">\n",
       "  <thead>\n",
       "    <tr style=\"text-align: right;\">\n",
       "      <th></th>\n",
       "      <th>value</th>\n",
       "      <th>fecha</th>\n",
       "      <th>dia</th>\n",
       "      <th>mes</th>\n",
       "      <th>año</th>\n",
       "      <th>escala</th>\n",
       "      <th>color</th>\n",
       "    </tr>\n",
       "    <tr>\n",
       "      <th>datetime</th>\n",
       "      <th></th>\n",
       "      <th></th>\n",
       "      <th></th>\n",
       "      <th></th>\n",
       "      <th></th>\n",
       "      <th></th>\n",
       "      <th></th>\n",
       "    </tr>\n",
       "  </thead>\n",
       "  <tbody>\n",
       "    <tr>\n",
       "      <th>2024-01-01</th>\n",
       "      <td>90.57</td>\n",
       "      <td>2024-01-01</td>\n",
       "      <td>1</td>\n",
       "      <td>1</td>\n",
       "      <td>2024</td>\n",
       "      <td>muy alto</td>\n",
       "      <td>red</td>\n",
       "    </tr>\n",
       "    <tr>\n",
       "      <th>2024-01-02</th>\n",
       "      <td>120.48</td>\n",
       "      <td>2024-01-02</td>\n",
       "      <td>2</td>\n",
       "      <td>1</td>\n",
       "      <td>2024</td>\n",
       "      <td>chungo</td>\n",
       "      <td>purple</td>\n",
       "    </tr>\n",
       "    <tr>\n",
       "      <th>2024-01-03</th>\n",
       "      <td>130.60</td>\n",
       "      <td>2024-01-03</td>\n",
       "      <td>3</td>\n",
       "      <td>1</td>\n",
       "      <td>2024</td>\n",
       "      <td>chungo</td>\n",
       "      <td>purple</td>\n",
       "    </tr>\n",
       "    <tr>\n",
       "      <th>2024-01-04</th>\n",
       "      <td>165.83</td>\n",
       "      <td>2024-01-04</td>\n",
       "      <td>4</td>\n",
       "      <td>1</td>\n",
       "      <td>2024</td>\n",
       "      <td>chungo</td>\n",
       "      <td>purple</td>\n",
       "    </tr>\n",
       "    <tr>\n",
       "      <th>2024-01-05</th>\n",
       "      <td>143.96</td>\n",
       "      <td>2024-01-05</td>\n",
       "      <td>5</td>\n",
       "      <td>1</td>\n",
       "      <td>2024</td>\n",
       "      <td>chungo</td>\n",
       "      <td>purple</td>\n",
       "    </tr>\n",
       "    <tr>\n",
       "      <th>...</th>\n",
       "      <td>...</td>\n",
       "      <td>...</td>\n",
       "      <td>...</td>\n",
       "      <td>...</td>\n",
       "      <td>...</td>\n",
       "      <td>...</td>\n",
       "      <td>...</td>\n",
       "    </tr>\n",
       "    <tr>\n",
       "      <th>2024-07-07</th>\n",
       "      <td>83.94</td>\n",
       "      <td>2024-07-07</td>\n",
       "      <td>7</td>\n",
       "      <td>7</td>\n",
       "      <td>2024</td>\n",
       "      <td>muy alto</td>\n",
       "      <td>red</td>\n",
       "    </tr>\n",
       "    <tr>\n",
       "      <th>2024-07-08</th>\n",
       "      <td>144.60</td>\n",
       "      <td>2024-07-08</td>\n",
       "      <td>8</td>\n",
       "      <td>7</td>\n",
       "      <td>2024</td>\n",
       "      <td>chungo</td>\n",
       "      <td>purple</td>\n",
       "    </tr>\n",
       "    <tr>\n",
       "      <th>2024-07-09</th>\n",
       "      <td>138.26</td>\n",
       "      <td>2024-07-09</td>\n",
       "      <td>9</td>\n",
       "      <td>7</td>\n",
       "      <td>2024</td>\n",
       "      <td>chungo</td>\n",
       "      <td>purple</td>\n",
       "    </tr>\n",
       "    <tr>\n",
       "      <th>2024-07-10</th>\n",
       "      <td>150.92</td>\n",
       "      <td>2024-07-10</td>\n",
       "      <td>10</td>\n",
       "      <td>7</td>\n",
       "      <td>2024</td>\n",
       "      <td>chungo</td>\n",
       "      <td>purple</td>\n",
       "    </tr>\n",
       "    <tr>\n",
       "      <th>2024-07-11</th>\n",
       "      <td>149.54</td>\n",
       "      <td>2024-07-11</td>\n",
       "      <td>11</td>\n",
       "      <td>7</td>\n",
       "      <td>2024</td>\n",
       "      <td>chungo</td>\n",
       "      <td>purple</td>\n",
       "    </tr>\n",
       "  </tbody>\n",
       "</table>\n",
       "<p>193 rows × 7 columns</p>\n",
       "</div>"
      ],
      "text/plain": [
       "             value      fecha  dia  mes   año    escala   color\n",
       "datetime                                                       \n",
       "2024-01-01   90.57 2024-01-01    1    1  2024  muy alto     red\n",
       "2024-01-02  120.48 2024-01-02    2    1  2024    chungo  purple\n",
       "2024-01-03  130.60 2024-01-03    3    1  2024    chungo  purple\n",
       "2024-01-04  165.83 2024-01-04    4    1  2024    chungo  purple\n",
       "2024-01-05  143.96 2024-01-05    5    1  2024    chungo  purple\n",
       "...            ...        ...  ...  ...   ...       ...     ...\n",
       "2024-07-07   83.94 2024-07-07    7    7  2024  muy alto     red\n",
       "2024-07-08  144.60 2024-07-08    8    7  2024    chungo  purple\n",
       "2024-07-09  138.26 2024-07-09    9    7  2024    chungo  purple\n",
       "2024-07-10  150.92 2024-07-10   10    7  2024    chungo  purple\n",
       "2024-07-11  149.54 2024-07-11   11    7  2024    chungo  purple\n",
       "\n",
       "[193 rows x 7 columns]"
      ]
     },
     "execution_count": 40,
     "metadata": {},
     "output_type": "execute_result"
    }
   ],
   "source": [
    "\n",
    "datos_dia['escala']=pd.Categorical(datos_dia['escala'],categories=escala_ordenada_dia, ordered=True)\n",
    "datos_dia"
   ]
  },
  {
   "cell_type": "markdown",
   "metadata": {},
   "source": [
    "### Estos datos se usan para el grafico de barras mensual"
   ]
  },
  {
   "cell_type": "code",
   "execution_count": 41,
   "metadata": {},
   "outputs": [
    {
     "data": {
      "text/html": [
       "<div>\n",
       "<style scoped>\n",
       "    .dataframe tbody tr th:only-of-type {\n",
       "        vertical-align: middle;\n",
       "    }\n",
       "\n",
       "    .dataframe tbody tr th {\n",
       "        vertical-align: top;\n",
       "    }\n",
       "\n",
       "    .dataframe thead th {\n",
       "        text-align: right;\n",
       "    }\n",
       "</style>\n",
       "<table border=\"1\" class=\"dataframe\">\n",
       "  <thead>\n",
       "    <tr style=\"text-align: right;\">\n",
       "      <th></th>\n",
       "      <th>value</th>\n",
       "      <th>mes</th>\n",
       "      <th>año</th>\n",
       "      <th>escala</th>\n",
       "      <th>color</th>\n",
       "    </tr>\n",
       "    <tr>\n",
       "      <th>datetime</th>\n",
       "      <th></th>\n",
       "      <th></th>\n",
       "      <th></th>\n",
       "      <th></th>\n",
       "      <th></th>\n",
       "    </tr>\n",
       "  </thead>\n",
       "  <tbody>\n",
       "    <tr>\n",
       "      <th>2024-01-31</th>\n",
       "      <td>139.50</td>\n",
       "      <td>1</td>\n",
       "      <td>2024</td>\n",
       "      <td>chungo</td>\n",
       "      <td>purple</td>\n",
       "    </tr>\n",
       "    <tr>\n",
       "      <th>2024-02-29</th>\n",
       "      <td>106.64</td>\n",
       "      <td>2</td>\n",
       "      <td>2024</td>\n",
       "      <td>chungo</td>\n",
       "      <td>purple</td>\n",
       "    </tr>\n",
       "    <tr>\n",
       "      <th>2024-03-31</th>\n",
       "      <td>89.92</td>\n",
       "      <td>3</td>\n",
       "      <td>2024</td>\n",
       "      <td>muy alto</td>\n",
       "      <td>red</td>\n",
       "    </tr>\n",
       "    <tr>\n",
       "      <th>2024-04-30</th>\n",
       "      <td>85.58</td>\n",
       "      <td>4</td>\n",
       "      <td>2024</td>\n",
       "      <td>muy alto</td>\n",
       "      <td>red</td>\n",
       "    </tr>\n",
       "    <tr>\n",
       "      <th>2024-05-31</th>\n",
       "      <td>99.67</td>\n",
       "      <td>5</td>\n",
       "      <td>2024</td>\n",
       "      <td>muy alto</td>\n",
       "      <td>red</td>\n",
       "    </tr>\n",
       "    <tr>\n",
       "      <th>2024-06-30</th>\n",
       "      <td>117.02</td>\n",
       "      <td>6</td>\n",
       "      <td>2024</td>\n",
       "      <td>chungo</td>\n",
       "      <td>purple</td>\n",
       "    </tr>\n",
       "    <tr>\n",
       "      <th>2024-07-31</th>\n",
       "      <td>127.01</td>\n",
       "      <td>7</td>\n",
       "      <td>2024</td>\n",
       "      <td>chungo</td>\n",
       "      <td>purple</td>\n",
       "    </tr>\n",
       "  </tbody>\n",
       "</table>\n",
       "</div>"
      ],
      "text/plain": [
       "             value  mes   año    escala   color\n",
       "datetime                                       \n",
       "2024-01-31  139.50    1  2024    chungo  purple\n",
       "2024-02-29  106.64    2  2024    chungo  purple\n",
       "2024-03-31   89.92    3  2024  muy alto     red\n",
       "2024-04-30   85.58    4  2024  muy alto     red\n",
       "2024-05-31   99.67    5  2024  muy alto     red\n",
       "2024-06-30  117.02    6  2024    chungo  purple\n",
       "2024-07-31  127.01    7  2024    chungo  purple"
      ]
     },
     "execution_count": 41,
     "metadata": {},
     "output_type": "execute_result"
    }
   ],
   "source": [
    "datos_mes['escala']=pd.Categorical(datos_mes['escala'],categories=escala_ordenada_mes, ordered=True)\n",
    "datos_mes"
   ]
  },
  {
   "cell_type": "markdown",
   "metadata": {},
   "source": [
    "### Estos datos se usan para el quesito"
   ]
  },
  {
   "cell_type": "code",
   "execution_count": 42,
   "metadata": {},
   "outputs": [
    {
     "data": {
      "text/html": [
       "<div>\n",
       "<style scoped>\n",
       "    .dataframe tbody tr th:only-of-type {\n",
       "        vertical-align: middle;\n",
       "    }\n",
       "\n",
       "    .dataframe tbody tr th {\n",
       "        vertical-align: top;\n",
       "    }\n",
       "\n",
       "    .dataframe thead th {\n",
       "        text-align: right;\n",
       "    }\n",
       "</style>\n",
       "<table border=\"1\" class=\"dataframe\">\n",
       "  <thead>\n",
       "    <tr style=\"text-align: right;\">\n",
       "      <th></th>\n",
       "      <th>escala</th>\n",
       "      <th>num_dias</th>\n",
       "    </tr>\n",
       "  </thead>\n",
       "  <tbody>\n",
       "    <tr>\n",
       "      <th>0</th>\n",
       "      <td>chungo</td>\n",
       "      <td>109</td>\n",
       "    </tr>\n",
       "    <tr>\n",
       "      <th>1</th>\n",
       "      <td>muy alto</td>\n",
       "      <td>50</td>\n",
       "    </tr>\n",
       "    <tr>\n",
       "      <th>2</th>\n",
       "      <td>alto</td>\n",
       "      <td>18</td>\n",
       "    </tr>\n",
       "    <tr>\n",
       "      <th>3</th>\n",
       "      <td>medio</td>\n",
       "      <td>16</td>\n",
       "    </tr>\n",
       "  </tbody>\n",
       "</table>\n",
       "</div>"
      ],
      "text/plain": [
       "     escala  num_dias\n",
       "0    chungo       109\n",
       "1  muy alto        50\n",
       "2      alto        18\n",
       "3     medio        16"
      ]
     },
     "execution_count": 42,
     "metadata": {},
     "output_type": "execute_result"
    }
   ],
   "source": [
    "datos_dia_queso=datos_dia.groupby(['escala'])['escala'].count()\n",
    "datos_dia_queso=datos_dia_queso.reset_index(name='num_dias')\n",
    "datos_dia_queso\n"
   ]
  },
  {
   "cell_type": "markdown",
   "metadata": {},
   "source": [
    "### Gráfico de barras principal"
   ]
  },
  {
   "cell_type": "code",
   "execution_count": 43,
   "metadata": {},
   "outputs": [
    {
     "data": {
      "text/html": [
       "<div>\n",
       "<style scoped>\n",
       "    .dataframe tbody tr th:only-of-type {\n",
       "        vertical-align: middle;\n",
       "    }\n",
       "\n",
       "    .dataframe tbody tr th {\n",
       "        vertical-align: top;\n",
       "    }\n",
       "\n",
       "    .dataframe thead th {\n",
       "        text-align: right;\n",
       "    }\n",
       "</style>\n",
       "<table border=\"1\" class=\"dataframe\">\n",
       "  <thead>\n",
       "    <tr style=\"text-align: right;\">\n",
       "      <th></th>\n",
       "      <th>value</th>\n",
       "      <th>fecha</th>\n",
       "      <th>dia</th>\n",
       "      <th>mes</th>\n",
       "      <th>año</th>\n",
       "      <th>escala</th>\n",
       "      <th>color</th>\n",
       "    </tr>\n",
       "    <tr>\n",
       "      <th>datetime</th>\n",
       "      <th></th>\n",
       "      <th></th>\n",
       "      <th></th>\n",
       "      <th></th>\n",
       "      <th></th>\n",
       "      <th></th>\n",
       "      <th></th>\n",
       "    </tr>\n",
       "  </thead>\n",
       "  <tbody>\n",
       "    <tr>\n",
       "      <th>2024-01-01</th>\n",
       "      <td>90.57</td>\n",
       "      <td>2024-01-01</td>\n",
       "      <td>1</td>\n",
       "      <td>1</td>\n",
       "      <td>2024</td>\n",
       "      <td>muy alto</td>\n",
       "      <td>red</td>\n",
       "    </tr>\n",
       "    <tr>\n",
       "      <th>2024-01-02</th>\n",
       "      <td>120.48</td>\n",
       "      <td>2024-01-02</td>\n",
       "      <td>2</td>\n",
       "      <td>1</td>\n",
       "      <td>2024</td>\n",
       "      <td>chungo</td>\n",
       "      <td>purple</td>\n",
       "    </tr>\n",
       "    <tr>\n",
       "      <th>2024-01-03</th>\n",
       "      <td>130.60</td>\n",
       "      <td>2024-01-03</td>\n",
       "      <td>3</td>\n",
       "      <td>1</td>\n",
       "      <td>2024</td>\n",
       "      <td>chungo</td>\n",
       "      <td>purple</td>\n",
       "    </tr>\n",
       "    <tr>\n",
       "      <th>2024-01-04</th>\n",
       "      <td>165.83</td>\n",
       "      <td>2024-01-04</td>\n",
       "      <td>4</td>\n",
       "      <td>1</td>\n",
       "      <td>2024</td>\n",
       "      <td>chungo</td>\n",
       "      <td>purple</td>\n",
       "    </tr>\n",
       "    <tr>\n",
       "      <th>2024-01-05</th>\n",
       "      <td>143.96</td>\n",
       "      <td>2024-01-05</td>\n",
       "      <td>5</td>\n",
       "      <td>1</td>\n",
       "      <td>2024</td>\n",
       "      <td>chungo</td>\n",
       "      <td>purple</td>\n",
       "    </tr>\n",
       "    <tr>\n",
       "      <th>...</th>\n",
       "      <td>...</td>\n",
       "      <td>...</td>\n",
       "      <td>...</td>\n",
       "      <td>...</td>\n",
       "      <td>...</td>\n",
       "      <td>...</td>\n",
       "      <td>...</td>\n",
       "    </tr>\n",
       "    <tr>\n",
       "      <th>2024-07-07</th>\n",
       "      <td>83.94</td>\n",
       "      <td>2024-07-07</td>\n",
       "      <td>7</td>\n",
       "      <td>7</td>\n",
       "      <td>2024</td>\n",
       "      <td>muy alto</td>\n",
       "      <td>red</td>\n",
       "    </tr>\n",
       "    <tr>\n",
       "      <th>2024-07-08</th>\n",
       "      <td>144.60</td>\n",
       "      <td>2024-07-08</td>\n",
       "      <td>8</td>\n",
       "      <td>7</td>\n",
       "      <td>2024</td>\n",
       "      <td>chungo</td>\n",
       "      <td>purple</td>\n",
       "    </tr>\n",
       "    <tr>\n",
       "      <th>2024-07-09</th>\n",
       "      <td>138.26</td>\n",
       "      <td>2024-07-09</td>\n",
       "      <td>9</td>\n",
       "      <td>7</td>\n",
       "      <td>2024</td>\n",
       "      <td>chungo</td>\n",
       "      <td>purple</td>\n",
       "    </tr>\n",
       "    <tr>\n",
       "      <th>2024-07-10</th>\n",
       "      <td>150.92</td>\n",
       "      <td>2024-07-10</td>\n",
       "      <td>10</td>\n",
       "      <td>7</td>\n",
       "      <td>2024</td>\n",
       "      <td>chungo</td>\n",
       "      <td>purple</td>\n",
       "    </tr>\n",
       "    <tr>\n",
       "      <th>2024-07-11</th>\n",
       "      <td>149.54</td>\n",
       "      <td>2024-07-11</td>\n",
       "      <td>11</td>\n",
       "      <td>7</td>\n",
       "      <td>2024</td>\n",
       "      <td>chungo</td>\n",
       "      <td>purple</td>\n",
       "    </tr>\n",
       "  </tbody>\n",
       "</table>\n",
       "<p>193 rows × 7 columns</p>\n",
       "</div>"
      ],
      "text/plain": [
       "             value      fecha  dia  mes   año    escala   color\n",
       "datetime                                                       \n",
       "2024-01-01   90.57 2024-01-01    1    1  2024  muy alto     red\n",
       "2024-01-02  120.48 2024-01-02    2    1  2024    chungo  purple\n",
       "2024-01-03  130.60 2024-01-03    3    1  2024    chungo  purple\n",
       "2024-01-04  165.83 2024-01-04    4    1  2024    chungo  purple\n",
       "2024-01-05  143.96 2024-01-05    5    1  2024    chungo  purple\n",
       "...            ...        ...  ...  ...   ...       ...     ...\n",
       "2024-07-07   83.94 2024-07-07    7    7  2024  muy alto     red\n",
       "2024-07-08  144.60 2024-07-08    8    7  2024    chungo  purple\n",
       "2024-07-09  138.26 2024-07-09    9    7  2024    chungo  purple\n",
       "2024-07-10  150.92 2024-07-10   10    7  2024    chungo  purple\n",
       "2024-07-11  149.54 2024-07-11   11    7  2024    chungo  purple\n",
       "\n",
       "[193 rows x 7 columns]"
      ]
     },
     "execution_count": 43,
     "metadata": {},
     "output_type": "execute_result"
    }
   ],
   "source": [
    "#datos_dia.reset_index()\n",
    "#datos_dia.rename(columns={'datetime','fecha'},inplace=True)\n",
    "datos_dia\n",
    "#datos_dia['datetime'].rename['fecha']"
   ]
  },
  {
   "cell_type": "code",
   "execution_count": 44,
   "metadata": {},
   "outputs": [
    {
     "data": {
      "text/plain": [
       "value            float64\n",
       "fecha     datetime64[ns]\n",
       "dia                int32\n",
       "mes                int32\n",
       "año                int32\n",
       "escala          category\n",
       "color           category\n",
       "dtype: object"
      ]
     },
     "execution_count": 44,
     "metadata": {},
     "output_type": "execute_result"
    }
   ],
   "source": [
    "datos_dia.dtypes"
   ]
  },
  {
   "cell_type": "code",
   "execution_count": 45,
   "metadata": {},
   "outputs": [],
   "source": [
    "def graf_ecv_anual():\n",
    "    graf_ecv_anual=px.bar(datos_dia, x='fecha', y='value', \n",
    "        color='escala',\n",
    "        color_discrete_map=colores,\n",
    "        category_orders={'escala':escala_ordenada_dia},\n",
    "        labels={'value':'precio medio diario €/MWh', 'escala':'escala_cv'},\n",
    "        title=\"Precios medios del mercado diario OMIE. Año 2024\")\n",
    "    graf_ecv_anual.update_xaxes(\n",
    "        showgrid=True\n",
    "    )\n",
    "    graf_ecv_anual.update_traces(\n",
    "        marker_line_width=0\n",
    "    )\n",
    "\n",
    "    return graf_ecv_anual"
   ]
  },
  {
   "cell_type": "code",
   "execution_count": 46,
   "metadata": {},
   "outputs": [
    {
     "data": {
      "application/vnd.plotly.v1+json": {
       "config": {
        "plotlyServerURL": "https://plot.ly"
       },
       "data": [
        {
         "alignmentgroup": "True",
         "hovertemplate": "escala_cv=chungo<br>fecha=%{x}<br>precio medio diario €/MWh=%{y}<extra></extra>",
         "legendgroup": "chungo",
         "marker": {
          "color": "purple",
          "line": {
           "width": 0
          },
          "pattern": {
           "shape": ""
          }
         },
         "name": "chungo",
         "offsetgroup": "chungo",
         "orientation": "v",
         "showlegend": true,
         "textposition": "auto",
         "type": "bar",
         "x": [
          "2024-01-02T00:00:00",
          "2024-01-03T00:00:00",
          "2024-01-04T00:00:00",
          "2024-01-05T00:00:00",
          "2024-01-07T00:00:00",
          "2024-01-08T00:00:00",
          "2024-01-09T00:00:00",
          "2024-01-10T00:00:00",
          "2024-01-11T00:00:00",
          "2024-01-12T00:00:00",
          "2024-01-13T00:00:00",
          "2024-01-14T00:00:00",
          "2024-01-15T00:00:00",
          "2024-01-16T00:00:00",
          "2024-01-17T00:00:00",
          "2024-01-18T00:00:00",
          "2024-01-19T00:00:00",
          "2024-01-20T00:00:00",
          "2024-01-21T00:00:00",
          "2024-01-22T00:00:00",
          "2024-01-23T00:00:00",
          "2024-01-24T00:00:00",
          "2024-01-25T00:00:00",
          "2024-01-26T00:00:00",
          "2024-01-27T00:00:00",
          "2024-01-29T00:00:00",
          "2024-01-30T00:00:00",
          "2024-01-31T00:00:00",
          "2024-02-01T00:00:00",
          "2024-02-02T00:00:00",
          "2024-02-03T00:00:00",
          "2024-02-04T00:00:00",
          "2024-02-05T00:00:00",
          "2024-02-06T00:00:00",
          "2024-02-07T00:00:00",
          "2024-02-08T00:00:00",
          "2024-02-09T00:00:00",
          "2024-02-12T00:00:00",
          "2024-02-13T00:00:00",
          "2024-02-14T00:00:00",
          "2024-02-15T00:00:00",
          "2024-02-16T00:00:00",
          "2024-02-19T00:00:00",
          "2024-02-20T00:00:00",
          "2024-02-21T00:00:00",
          "2024-03-05T00:00:00",
          "2024-03-06T00:00:00",
          "2024-03-12T00:00:00",
          "2024-03-13T00:00:00",
          "2024-03-14T00:00:00",
          "2024-03-15T00:00:00",
          "2024-03-18T00:00:00",
          "2024-03-19T00:00:00",
          "2024-03-20T00:00:00",
          "2024-03-21T00:00:00",
          "2024-03-22T00:00:00",
          "2024-03-25T00:00:00",
          "2024-04-25T00:00:00",
          "2024-04-26T00:00:00",
          "2024-04-29T00:00:00",
          "2024-04-30T00:00:00",
          "2024-05-03T00:00:00",
          "2024-05-06T00:00:00",
          "2024-05-07T00:00:00",
          "2024-05-08T00:00:00",
          "2024-05-09T00:00:00",
          "2024-05-10T00:00:00",
          "2024-05-13T00:00:00",
          "2024-05-16T00:00:00",
          "2024-05-17T00:00:00",
          "2024-05-20T00:00:00",
          "2024-05-21T00:00:00",
          "2024-05-22T00:00:00",
          "2024-05-23T00:00:00",
          "2024-05-24T00:00:00",
          "2024-05-27T00:00:00",
          "2024-05-28T00:00:00",
          "2024-05-29T00:00:00",
          "2024-05-30T00:00:00",
          "2024-06-03T00:00:00",
          "2024-06-04T00:00:00",
          "2024-06-05T00:00:00",
          "2024-06-06T00:00:00",
          "2024-06-07T00:00:00",
          "2024-06-08T00:00:00",
          "2024-06-10T00:00:00",
          "2024-06-11T00:00:00",
          "2024-06-12T00:00:00",
          "2024-06-13T00:00:00",
          "2024-06-14T00:00:00",
          "2024-06-17T00:00:00",
          "2024-06-18T00:00:00",
          "2024-06-19T00:00:00",
          "2024-06-20T00:00:00",
          "2024-06-21T00:00:00",
          "2024-06-24T00:00:00",
          "2024-06-25T00:00:00",
          "2024-06-26T00:00:00",
          "2024-06-27T00:00:00",
          "2024-06-28T00:00:00",
          "2024-07-01T00:00:00",
          "2024-07-02T00:00:00",
          "2024-07-03T00:00:00",
          "2024-07-04T00:00:00",
          "2024-07-05T00:00:00",
          "2024-07-08T00:00:00",
          "2024-07-09T00:00:00",
          "2024-07-10T00:00:00",
          "2024-07-11T00:00:00"
         ],
         "xaxis": "x",
         "y": [
          120.48,
          130.6,
          165.83,
          143.96,
          120.92,
          178.2,
          183.96,
          169.9,
          167.15,
          167.06,
          129.28,
          119.78,
          162.66,
          162.36,
          102.07,
          123.26,
          145.77,
          124.72,
          108.12,
          143.64,
          151.08,
          154.77,
          149.82,
          147.64,
          110.64,
          152.74,
          154.61,
          156.1,
          144.2,
          139.13,
          102.39,
          108.12,
          153.02,
          146.78,
          125.31,
          113.86,
          114.48,
          119.56,
          136.64,
          134.12,
          125.9,
          128.2,
          122.78,
          127.64,
          120.27,
          106.89,
          117.5,
          120.07,
          119.68,
          114.02,
          114.06,
          137.35,
          138.75,
          131.97,
          114.66,
          104.71,
          109.13,
          116.42,
          128.15,
          129.03,
          123.2,
          102.01,
          123.09,
          117.52,
          101.51,
          108.07,
          105.7,
          105.03,
          110.31,
          124.24,
          112.5,
          119.59,
          116.57,
          130.62,
          139.74,
          113.27,
          106.51,
          114.9,
          106.38,
          106.83,
          150.26,
          163.97,
          154.74,
          142.21,
          105.55,
          119.85,
          136.58,
          126.57,
          135.64,
          117.72,
          106.72,
          127.05,
          148.27,
          151.88,
          148.91,
          114.67,
          135.29,
          157.59,
          150.6,
          146.84,
          132.19,
          125.3,
          135.94,
          125.5,
          130.37,
          144.6,
          138.26,
          150.92,
          149.54
         ],
         "yaxis": "y"
        },
        {
         "alignmentgroup": "True",
         "hovertemplate": "escala_cv=muy alto<br>fecha=%{x}<br>precio medio diario €/MWh=%{y}<extra></extra>",
         "legendgroup": "muy alto",
         "marker": {
          "color": "red",
          "line": {
           "width": 0
          },
          "pattern": {
           "shape": ""
          }
         },
         "name": "muy alto",
         "offsetgroup": "muy alto",
         "orientation": "v",
         "showlegend": true,
         "textposition": "auto",
         "type": "bar",
         "x": [
          "2024-01-01T00:00:00",
          "2024-01-06T00:00:00",
          "2024-01-28T00:00:00",
          "2024-02-11T00:00:00",
          "2024-02-17T00:00:00",
          "2024-02-18T00:00:00",
          "2024-02-22T00:00:00",
          "2024-02-23T00:00:00",
          "2024-02-26T00:00:00",
          "2024-02-27T00:00:00",
          "2024-02-28T00:00:00",
          "2024-02-29T00:00:00",
          "2024-03-01T00:00:00",
          "2024-03-04T00:00:00",
          "2024-03-07T00:00:00",
          "2024-03-08T00:00:00",
          "2024-03-11T00:00:00",
          "2024-03-16T00:00:00",
          "2024-03-17T00:00:00",
          "2024-03-26T00:00:00",
          "2024-03-27T00:00:00",
          "2024-03-28T00:00:00",
          "2024-03-29T00:00:00",
          "2024-04-01T00:00:00",
          "2024-04-02T00:00:00",
          "2024-04-03T00:00:00",
          "2024-04-04T00:00:00",
          "2024-04-05T00:00:00",
          "2024-04-08T00:00:00",
          "2024-04-10T00:00:00",
          "2024-04-11T00:00:00",
          "2024-04-12T00:00:00",
          "2024-04-15T00:00:00",
          "2024-04-16T00:00:00",
          "2024-04-17T00:00:00",
          "2024-04-18T00:00:00",
          "2024-04-19T00:00:00",
          "2024-04-22T00:00:00",
          "2024-04-23T00:00:00",
          "2024-04-24T00:00:00",
          "2024-05-02T00:00:00",
          "2024-05-14T00:00:00",
          "2024-05-15T00:00:00",
          "2024-05-25T00:00:00",
          "2024-05-31T00:00:00",
          "2024-06-22T00:00:00",
          "2024-06-29T00:00:00",
          "2024-06-30T00:00:00",
          "2024-07-06T00:00:00",
          "2024-07-07T00:00:00"
         ],
         "xaxis": "x",
         "y": [
          90.57,
          88.5,
          98.44,
          86.92,
          91.92,
          92.56,
          88.22,
          81.88,
          84.41,
          80.67,
          88.85,
          82.11,
          80.04,
          85.73,
          86.68,
          80.8,
          93.29,
          80.76,
          81.32,
          85.38,
          85.76,
          84.7,
          91.62,
          84.34,
          88.1,
          86.06,
          85.44,
          80.24,
          82.67,
          84.4,
          90.14,
          98.18,
          91.8,
          86.87,
          86.39,
          86.54,
          95.1,
          89.11,
          88.38,
          98.33,
          96.36,
          89.2,
          94.68,
          90.23,
          89.46,
          84.75,
          90.11,
          97.67,
          80.58,
          83.94
         ],
         "yaxis": "y"
        },
        {
         "alignmentgroup": "True",
         "hovertemplate": "escala_cv=alto<br>fecha=%{x}<br>precio medio diario €/MWh=%{y}<extra></extra>",
         "legendgroup": "alto",
         "marker": {
          "color": "orange",
          "line": {
           "width": 0
          },
          "pattern": {
           "shape": ""
          }
         },
         "name": "alto",
         "offsetgroup": "alto",
         "orientation": "v",
         "showlegend": true,
         "textposition": "auto",
         "type": "bar",
         "x": [
          "2024-03-24T00:00:00",
          "2024-04-07T00:00:00",
          "2024-04-09T00:00:00",
          "2024-04-21T00:00:00",
          "2024-04-27T00:00:00",
          "2024-04-28T00:00:00",
          "2024-05-01T00:00:00",
          "2024-05-04T00:00:00",
          "2024-05-05T00:00:00",
          "2024-05-11T00:00:00",
          "2024-05-12T00:00:00",
          "2024-05-18T00:00:00",
          "2024-05-19T00:00:00",
          "2024-05-26T00:00:00",
          "2024-06-09T00:00:00",
          "2024-06-15T00:00:00",
          "2024-06-16T00:00:00",
          "2024-06-23T00:00:00"
         ],
         "xaxis": "x",
         "y": [
          63.14,
          60.32,
          79.24,
          60.98,
          69.67,
          78.59,
          61.58,
          63.06,
          68.66,
          68.84,
          73.03,
          78.8,
          79.97,
          78.32,
          69.43,
          67.07,
          66.39,
          77.2
         ],
         "yaxis": "y"
        },
        {
         "alignmentgroup": "True",
         "hovertemplate": "escala_cv=medio<br>fecha=%{x}<br>precio medio diario €/MWh=%{y}<extra></extra>",
         "legendgroup": "medio",
         "marker": {
          "color": "blue",
          "line": {
           "width": 0
          },
          "pattern": {
           "shape": ""
          }
         },
         "name": "medio",
         "offsetgroup": "medio",
         "orientation": "v",
         "showlegend": true,
         "textposition": "auto",
         "type": "bar",
         "x": [
          "2024-02-10T00:00:00",
          "2024-02-24T00:00:00",
          "2024-02-25T00:00:00",
          "2024-03-02T00:00:00",
          "2024-03-03T00:00:00",
          "2024-03-09T00:00:00",
          "2024-03-10T00:00:00",
          "2024-03-23T00:00:00",
          "2024-03-30T00:00:00",
          "2024-03-31T00:00:00",
          "2024-04-06T00:00:00",
          "2024-04-13T00:00:00",
          "2024-04-14T00:00:00",
          "2024-04-20T00:00:00",
          "2024-06-01T00:00:00",
          "2024-06-02T00:00:00"
         ],
         "xaxis": "x",
         "y": [
          53.12,
          49.8,
          49.74,
          47.34,
          48.92,
          44.45,
          47.68,
          55.14,
          59.72,
          56.38,
          47.8,
          58,
          57.44,
          56.5,
          54.13,
          56.13
         ],
         "yaxis": "y"
        }
       ],
       "layout": {
        "barmode": "relative",
        "legend": {
         "title": {
          "text": "escala_cv"
         },
         "tracegroupgap": 0
        },
        "template": {
         "data": {
          "candlestick": [
           {
            "decreasing": {
             "line": {
              "color": "#000033"
             }
            },
            "increasing": {
             "line": {
              "color": "#000032"
             }
            },
            "type": "candlestick"
           }
          ],
          "contour": [
           {
            "colorscale": [
             [
              0,
              "#000011"
             ],
             [
              0.1111111111111111,
              "#000012"
             ],
             [
              0.2222222222222222,
              "#000013"
             ],
             [
              0.3333333333333333,
              "#000014"
             ],
             [
              0.4444444444444444,
              "#000015"
             ],
             [
              0.5555555555555556,
              "#000016"
             ],
             [
              0.6666666666666666,
              "#000017"
             ],
             [
              0.7777777777777778,
              "#000018"
             ],
             [
              0.8888888888888888,
              "#000019"
             ],
             [
              1,
              "#000020"
             ]
            ],
            "type": "contour"
           }
          ],
          "contourcarpet": [
           {
            "colorscale": [
             [
              0,
              "#000011"
             ],
             [
              0.1111111111111111,
              "#000012"
             ],
             [
              0.2222222222222222,
              "#000013"
             ],
             [
              0.3333333333333333,
              "#000014"
             ],
             [
              0.4444444444444444,
              "#000015"
             ],
             [
              0.5555555555555556,
              "#000016"
             ],
             [
              0.6666666666666666,
              "#000017"
             ],
             [
              0.7777777777777778,
              "#000018"
             ],
             [
              0.8888888888888888,
              "#000019"
             ],
             [
              1,
              "#000020"
             ]
            ],
            "type": "contourcarpet"
           }
          ],
          "heatmap": [
           {
            "colorscale": [
             [
              0,
              "#000011"
             ],
             [
              0.1111111111111111,
              "#000012"
             ],
             [
              0.2222222222222222,
              "#000013"
             ],
             [
              0.3333333333333333,
              "#000014"
             ],
             [
              0.4444444444444444,
              "#000015"
             ],
             [
              0.5555555555555556,
              "#000016"
             ],
             [
              0.6666666666666666,
              "#000017"
             ],
             [
              0.7777777777777778,
              "#000018"
             ],
             [
              0.8888888888888888,
              "#000019"
             ],
             [
              1,
              "#000020"
             ]
            ],
            "type": "heatmap"
           }
          ],
          "histogram2d": [
           {
            "colorscale": [
             [
              0,
              "#000011"
             ],
             [
              0.1111111111111111,
              "#000012"
             ],
             [
              0.2222222222222222,
              "#000013"
             ],
             [
              0.3333333333333333,
              "#000014"
             ],
             [
              0.4444444444444444,
              "#000015"
             ],
             [
              0.5555555555555556,
              "#000016"
             ],
             [
              0.6666666666666666,
              "#000017"
             ],
             [
              0.7777777777777778,
              "#000018"
             ],
             [
              0.8888888888888888,
              "#000019"
             ],
             [
              1,
              "#000020"
             ]
            ],
            "type": "histogram2d"
           }
          ],
          "icicle": [
           {
            "textfont": {
             "color": "white"
            },
            "type": "icicle"
           }
          ],
          "sankey": [
           {
            "textfont": {
             "color": "#000036"
            },
            "type": "sankey"
           }
          ],
          "scatter": [
           {
            "marker": {
             "line": {
              "width": 0
             }
            },
            "type": "scatter"
           }
          ],
          "table": [
           {
            "cells": {
             "fill": {
              "color": "#000038"
             },
             "font": {
              "color": "#000037"
             },
             "line": {
              "color": "#000039"
             }
            },
            "header": {
             "fill": {
              "color": "#000040"
             },
             "font": {
              "color": "#000036"
             },
             "line": {
              "color": "#000039"
             }
            },
            "type": "table"
           }
          ],
          "waterfall": [
           {
            "connector": {
             "line": {
              "color": "#000036",
              "width": 2
             }
            },
            "decreasing": {
             "marker": {
              "color": "#000033"
             }
            },
            "increasing": {
             "marker": {
              "color": "#000032"
             }
            },
            "totals": {
             "marker": {
              "color": "#000034"
             }
            },
            "type": "waterfall"
           }
          ]
         },
         "layout": {
          "coloraxis": {
           "colorscale": [
            [
             0,
             "#000011"
            ],
            [
             0.1111111111111111,
             "#000012"
            ],
            [
             0.2222222222222222,
             "#000013"
            ],
            [
             0.3333333333333333,
             "#000014"
            ],
            [
             0.4444444444444444,
             "#000015"
            ],
            [
             0.5555555555555556,
             "#000016"
            ],
            [
             0.6666666666666666,
             "#000017"
            ],
            [
             0.7777777777777778,
             "#000018"
            ],
            [
             0.8888888888888888,
             "#000019"
            ],
            [
             1,
             "#000020"
            ]
           ]
          },
          "colorscale": {
           "diverging": [
            [
             0,
             "#000021"
            ],
            [
             0.1,
             "#000022"
            ],
            [
             0.2,
             "#000023"
            ],
            [
             0.3,
             "#000024"
            ],
            [
             0.4,
             "#000025"
            ],
            [
             0.5,
             "#000026"
            ],
            [
             0.6,
             "#000027"
            ],
            [
             0.7,
             "#000028"
            ],
            [
             0.8,
             "#000029"
            ],
            [
             0.9,
             "#000030"
            ],
            [
             1,
             "#000031"
            ]
           ],
           "sequential": [
            [
             0,
             "#000011"
            ],
            [
             0.1111111111111111,
             "#000012"
            ],
            [
             0.2222222222222222,
             "#000013"
            ],
            [
             0.3333333333333333,
             "#000014"
            ],
            [
             0.4444444444444444,
             "#000015"
            ],
            [
             0.5555555555555556,
             "#000016"
            ],
            [
             0.6666666666666666,
             "#000017"
            ],
            [
             0.7777777777777778,
             "#000018"
            ],
            [
             0.8888888888888888,
             "#000019"
            ],
            [
             1,
             "#000020"
            ]
           ],
           "sequentialminus": [
            [
             0,
             "#000011"
            ],
            [
             0.1111111111111111,
             "#000012"
            ],
            [
             0.2222222222222222,
             "#000013"
            ],
            [
             0.3333333333333333,
             "#000014"
            ],
            [
             0.4444444444444444,
             "#000015"
            ],
            [
             0.5555555555555556,
             "#000016"
            ],
            [
             0.6666666666666666,
             "#000017"
            ],
            [
             0.7777777777777778,
             "#000018"
            ],
            [
             0.8888888888888888,
             "#000019"
            ],
            [
             1,
             "#000020"
            ]
           ]
          },
          "colorway": [
           "#000001",
           "#000002",
           "#000003",
           "#000004",
           "#000005",
           "#000006",
           "#000007",
           "#000008",
           "#000009",
           "#000010"
          ]
         }
        },
        "title": {
         "text": "Precios medios del mercado diario OMIE. Año 2024"
        },
        "xaxis": {
         "anchor": "y",
         "domain": [
          0,
          1
         ],
         "showgrid": true,
         "title": {
          "text": "fecha"
         }
        },
        "yaxis": {
         "anchor": "x",
         "domain": [
          0,
          1
         ],
         "title": {
          "text": "precio medio diario €/MWh"
         }
        }
       }
      }
     },
     "metadata": {},
     "output_type": "display_data"
    }
   ],
   "source": [
    "graf_ecv_anual()"
   ]
  },
  {
   "cell_type": "code",
   "execution_count": 47,
   "metadata": {},
   "outputs": [],
   "source": [
    "def graf_ecv_mensual():\n",
    "    graf_ecv_mensual=px.bar(datos_mes, x='mes', y='value',\n",
    "        color='escala',\n",
    "        color_discrete_map=colores,\n",
    "        category_orders={'escala':escala_ordenada_mes},\n",
    "        labels={'value':'precio medio mensual €/MWh', 'escala':'escala_cv'},\n",
    "        title=\"Precios medios mensuales. Año 2024\"\n",
    "        )\n",
    "    #graf_ecv_mensual.update_xaxes(\n",
    "    #    showgrid=True\n",
    "    \n",
    "    #graf_ecv_mensual.update_traces(\n",
    "    #   marker_line_width=0\n",
    "    #)\n",
    "\n",
    "    return graf_ecv_mensual"
   ]
  },
  {
   "cell_type": "code",
   "execution_count": 48,
   "metadata": {},
   "outputs": [
    {
     "data": {
      "application/vnd.plotly.v1+json": {
       "config": {
        "plotlyServerURL": "https://plot.ly"
       },
       "data": [
        {
         "alignmentgroup": "True",
         "hovertemplate": "escala_cv=chungo<br>mes=%{x}<br>precio medio mensual €/MWh=%{y}<extra></extra>",
         "legendgroup": "chungo",
         "marker": {
          "color": "purple",
          "pattern": {
           "shape": ""
          }
         },
         "name": "chungo",
         "offsetgroup": "chungo",
         "orientation": "v",
         "showlegend": true,
         "textposition": "auto",
         "type": "bar",
         "x": [
          1,
          2,
          6,
          7
         ],
         "xaxis": "x",
         "y": [
          139.5,
          106.64,
          117.02,
          127.01
         ],
         "yaxis": "y"
        },
        {
         "alignmentgroup": "True",
         "hovertemplate": "escala_cv=muy alto<br>mes=%{x}<br>precio medio mensual €/MWh=%{y}<extra></extra>",
         "legendgroup": "muy alto",
         "marker": {
          "color": "red",
          "pattern": {
           "shape": ""
          }
         },
         "name": "muy alto",
         "offsetgroup": "muy alto",
         "orientation": "v",
         "showlegend": true,
         "textposition": "auto",
         "type": "bar",
         "x": [
          3,
          4,
          5
         ],
         "xaxis": "x",
         "y": [
          89.92,
          85.58,
          99.67
         ],
         "yaxis": "y"
        }
       ],
       "layout": {
        "barmode": "relative",
        "legend": {
         "title": {
          "text": "escala_cv"
         },
         "tracegroupgap": 0
        },
        "template": {
         "data": {
          "candlestick": [
           {
            "decreasing": {
             "line": {
              "color": "#000033"
             }
            },
            "increasing": {
             "line": {
              "color": "#000032"
             }
            },
            "type": "candlestick"
           }
          ],
          "contour": [
           {
            "colorscale": [
             [
              0,
              "#000011"
             ],
             [
              0.1111111111111111,
              "#000012"
             ],
             [
              0.2222222222222222,
              "#000013"
             ],
             [
              0.3333333333333333,
              "#000014"
             ],
             [
              0.4444444444444444,
              "#000015"
             ],
             [
              0.5555555555555556,
              "#000016"
             ],
             [
              0.6666666666666666,
              "#000017"
             ],
             [
              0.7777777777777778,
              "#000018"
             ],
             [
              0.8888888888888888,
              "#000019"
             ],
             [
              1,
              "#000020"
             ]
            ],
            "type": "contour"
           }
          ],
          "contourcarpet": [
           {
            "colorscale": [
             [
              0,
              "#000011"
             ],
             [
              0.1111111111111111,
              "#000012"
             ],
             [
              0.2222222222222222,
              "#000013"
             ],
             [
              0.3333333333333333,
              "#000014"
             ],
             [
              0.4444444444444444,
              "#000015"
             ],
             [
              0.5555555555555556,
              "#000016"
             ],
             [
              0.6666666666666666,
              "#000017"
             ],
             [
              0.7777777777777778,
              "#000018"
             ],
             [
              0.8888888888888888,
              "#000019"
             ],
             [
              1,
              "#000020"
             ]
            ],
            "type": "contourcarpet"
           }
          ],
          "heatmap": [
           {
            "colorscale": [
             [
              0,
              "#000011"
             ],
             [
              0.1111111111111111,
              "#000012"
             ],
             [
              0.2222222222222222,
              "#000013"
             ],
             [
              0.3333333333333333,
              "#000014"
             ],
             [
              0.4444444444444444,
              "#000015"
             ],
             [
              0.5555555555555556,
              "#000016"
             ],
             [
              0.6666666666666666,
              "#000017"
             ],
             [
              0.7777777777777778,
              "#000018"
             ],
             [
              0.8888888888888888,
              "#000019"
             ],
             [
              1,
              "#000020"
             ]
            ],
            "type": "heatmap"
           }
          ],
          "histogram2d": [
           {
            "colorscale": [
             [
              0,
              "#000011"
             ],
             [
              0.1111111111111111,
              "#000012"
             ],
             [
              0.2222222222222222,
              "#000013"
             ],
             [
              0.3333333333333333,
              "#000014"
             ],
             [
              0.4444444444444444,
              "#000015"
             ],
             [
              0.5555555555555556,
              "#000016"
             ],
             [
              0.6666666666666666,
              "#000017"
             ],
             [
              0.7777777777777778,
              "#000018"
             ],
             [
              0.8888888888888888,
              "#000019"
             ],
             [
              1,
              "#000020"
             ]
            ],
            "type": "histogram2d"
           }
          ],
          "icicle": [
           {
            "textfont": {
             "color": "white"
            },
            "type": "icicle"
           }
          ],
          "sankey": [
           {
            "textfont": {
             "color": "#000036"
            },
            "type": "sankey"
           }
          ],
          "scatter": [
           {
            "marker": {
             "line": {
              "width": 0
             }
            },
            "type": "scatter"
           }
          ],
          "table": [
           {
            "cells": {
             "fill": {
              "color": "#000038"
             },
             "font": {
              "color": "#000037"
             },
             "line": {
              "color": "#000039"
             }
            },
            "header": {
             "fill": {
              "color": "#000040"
             },
             "font": {
              "color": "#000036"
             },
             "line": {
              "color": "#000039"
             }
            },
            "type": "table"
           }
          ],
          "waterfall": [
           {
            "connector": {
             "line": {
              "color": "#000036",
              "width": 2
             }
            },
            "decreasing": {
             "marker": {
              "color": "#000033"
             }
            },
            "increasing": {
             "marker": {
              "color": "#000032"
             }
            },
            "totals": {
             "marker": {
              "color": "#000034"
             }
            },
            "type": "waterfall"
           }
          ]
         },
         "layout": {
          "coloraxis": {
           "colorscale": [
            [
             0,
             "#000011"
            ],
            [
             0.1111111111111111,
             "#000012"
            ],
            [
             0.2222222222222222,
             "#000013"
            ],
            [
             0.3333333333333333,
             "#000014"
            ],
            [
             0.4444444444444444,
             "#000015"
            ],
            [
             0.5555555555555556,
             "#000016"
            ],
            [
             0.6666666666666666,
             "#000017"
            ],
            [
             0.7777777777777778,
             "#000018"
            ],
            [
             0.8888888888888888,
             "#000019"
            ],
            [
             1,
             "#000020"
            ]
           ]
          },
          "colorscale": {
           "diverging": [
            [
             0,
             "#000021"
            ],
            [
             0.1,
             "#000022"
            ],
            [
             0.2,
             "#000023"
            ],
            [
             0.3,
             "#000024"
            ],
            [
             0.4,
             "#000025"
            ],
            [
             0.5,
             "#000026"
            ],
            [
             0.6,
             "#000027"
            ],
            [
             0.7,
             "#000028"
            ],
            [
             0.8,
             "#000029"
            ],
            [
             0.9,
             "#000030"
            ],
            [
             1,
             "#000031"
            ]
           ],
           "sequential": [
            [
             0,
             "#000011"
            ],
            [
             0.1111111111111111,
             "#000012"
            ],
            [
             0.2222222222222222,
             "#000013"
            ],
            [
             0.3333333333333333,
             "#000014"
            ],
            [
             0.4444444444444444,
             "#000015"
            ],
            [
             0.5555555555555556,
             "#000016"
            ],
            [
             0.6666666666666666,
             "#000017"
            ],
            [
             0.7777777777777778,
             "#000018"
            ],
            [
             0.8888888888888888,
             "#000019"
            ],
            [
             1,
             "#000020"
            ]
           ],
           "sequentialminus": [
            [
             0,
             "#000011"
            ],
            [
             0.1111111111111111,
             "#000012"
            ],
            [
             0.2222222222222222,
             "#000013"
            ],
            [
             0.3333333333333333,
             "#000014"
            ],
            [
             0.4444444444444444,
             "#000015"
            ],
            [
             0.5555555555555556,
             "#000016"
            ],
            [
             0.6666666666666666,
             "#000017"
            ],
            [
             0.7777777777777778,
             "#000018"
            ],
            [
             0.8888888888888888,
             "#000019"
            ],
            [
             1,
             "#000020"
            ]
           ]
          },
          "colorway": [
           "#000001",
           "#000002",
           "#000003",
           "#000004",
           "#000005",
           "#000006",
           "#000007",
           "#000008",
           "#000009",
           "#000010"
          ]
         }
        },
        "title": {
         "text": "Precios medios mensuales. Año 2024"
        },
        "xaxis": {
         "anchor": "y",
         "domain": [
          0,
          1
         ],
         "title": {
          "text": "mes"
         }
        },
        "yaxis": {
         "anchor": "x",
         "domain": [
          0,
          1
         ],
         "title": {
          "text": "precio medio mensual €/MWh"
         }
        }
       }
      }
     },
     "metadata": {},
     "output_type": "display_data"
    }
   ],
   "source": [
    "graf_ecv_mensual()"
   ]
  },
  {
   "cell_type": "markdown",
   "metadata": {},
   "source": [
    "### Gráfico de queso"
   ]
  },
  {
   "cell_type": "code",
   "execution_count": 49,
   "metadata": {},
   "outputs": [],
   "source": [
    "def graf_ecv_anual_queso():\n",
    "    graf_ecv_anual_queso=px.pie(datos_dia_queso, values='num_dias', names='escala',\n",
    "        color='escala',\n",
    "        color_discrete_map=colores,\n",
    "        #marker=dict(colors=colores),\n",
    "        category_orders={'escala':escala_ordenada_dia},\n",
    "        labels={'num_dias':'num_dias', 'escala':'escala_cv'},\n",
    "        title=\"% y número de días según la Escala CV. Año 2024\",\n",
    "        width=500\n",
    "        )\n",
    "    \n",
    "    return graf_ecv_anual_queso"
   ]
  },
  {
   "cell_type": "code",
   "execution_count": 50,
   "metadata": {},
   "outputs": [
    {
     "data": {
      "application/vnd.plotly.v1+json": {
       "config": {
        "plotlyServerURL": "https://plot.ly"
       },
       "data": [
        {
         "customdata": [
          [
           "chungo"
          ],
          [
           "muy alto"
          ],
          [
           "alto"
          ],
          [
           "medio"
          ]
         ],
         "direction": "clockwise",
         "domain": {
          "x": [
           0,
           1
          ],
          "y": [
           0,
           1
          ]
         },
         "hovertemplate": "escala_cv=%{customdata[0]}<br>num_dias=%{value}<extra></extra>",
         "labels": [
          "chungo",
          "muy alto",
          "alto",
          "medio"
         ],
         "legendgroup": "",
         "marker": {
          "colors": [
           "purple",
           "red",
           "orange",
           "blue"
          ]
         },
         "name": "",
         "showlegend": true,
         "sort": false,
         "type": "pie",
         "values": [
          109,
          50,
          18,
          16
         ]
        }
       ],
       "layout": {
        "legend": {
         "tracegroupgap": 0
        },
        "template": {
         "data": {
          "candlestick": [
           {
            "decreasing": {
             "line": {
              "color": "#000033"
             }
            },
            "increasing": {
             "line": {
              "color": "#000032"
             }
            },
            "type": "candlestick"
           }
          ],
          "contour": [
           {
            "colorscale": [
             [
              0,
              "#000011"
             ],
             [
              0.1111111111111111,
              "#000012"
             ],
             [
              0.2222222222222222,
              "#000013"
             ],
             [
              0.3333333333333333,
              "#000014"
             ],
             [
              0.4444444444444444,
              "#000015"
             ],
             [
              0.5555555555555556,
              "#000016"
             ],
             [
              0.6666666666666666,
              "#000017"
             ],
             [
              0.7777777777777778,
              "#000018"
             ],
             [
              0.8888888888888888,
              "#000019"
             ],
             [
              1,
              "#000020"
             ]
            ],
            "type": "contour"
           }
          ],
          "contourcarpet": [
           {
            "colorscale": [
             [
              0,
              "#000011"
             ],
             [
              0.1111111111111111,
              "#000012"
             ],
             [
              0.2222222222222222,
              "#000013"
             ],
             [
              0.3333333333333333,
              "#000014"
             ],
             [
              0.4444444444444444,
              "#000015"
             ],
             [
              0.5555555555555556,
              "#000016"
             ],
             [
              0.6666666666666666,
              "#000017"
             ],
             [
              0.7777777777777778,
              "#000018"
             ],
             [
              0.8888888888888888,
              "#000019"
             ],
             [
              1,
              "#000020"
             ]
            ],
            "type": "contourcarpet"
           }
          ],
          "heatmap": [
           {
            "colorscale": [
             [
              0,
              "#000011"
             ],
             [
              0.1111111111111111,
              "#000012"
             ],
             [
              0.2222222222222222,
              "#000013"
             ],
             [
              0.3333333333333333,
              "#000014"
             ],
             [
              0.4444444444444444,
              "#000015"
             ],
             [
              0.5555555555555556,
              "#000016"
             ],
             [
              0.6666666666666666,
              "#000017"
             ],
             [
              0.7777777777777778,
              "#000018"
             ],
             [
              0.8888888888888888,
              "#000019"
             ],
             [
              1,
              "#000020"
             ]
            ],
            "type": "heatmap"
           }
          ],
          "histogram2d": [
           {
            "colorscale": [
             [
              0,
              "#000011"
             ],
             [
              0.1111111111111111,
              "#000012"
             ],
             [
              0.2222222222222222,
              "#000013"
             ],
             [
              0.3333333333333333,
              "#000014"
             ],
             [
              0.4444444444444444,
              "#000015"
             ],
             [
              0.5555555555555556,
              "#000016"
             ],
             [
              0.6666666666666666,
              "#000017"
             ],
             [
              0.7777777777777778,
              "#000018"
             ],
             [
              0.8888888888888888,
              "#000019"
             ],
             [
              1,
              "#000020"
             ]
            ],
            "type": "histogram2d"
           }
          ],
          "icicle": [
           {
            "textfont": {
             "color": "white"
            },
            "type": "icicle"
           }
          ],
          "sankey": [
           {
            "textfont": {
             "color": "#000036"
            },
            "type": "sankey"
           }
          ],
          "scatter": [
           {
            "marker": {
             "line": {
              "width": 0
             }
            },
            "type": "scatter"
           }
          ],
          "table": [
           {
            "cells": {
             "fill": {
              "color": "#000038"
             },
             "font": {
              "color": "#000037"
             },
             "line": {
              "color": "#000039"
             }
            },
            "header": {
             "fill": {
              "color": "#000040"
             },
             "font": {
              "color": "#000036"
             },
             "line": {
              "color": "#000039"
             }
            },
            "type": "table"
           }
          ],
          "waterfall": [
           {
            "connector": {
             "line": {
              "color": "#000036",
              "width": 2
             }
            },
            "decreasing": {
             "marker": {
              "color": "#000033"
             }
            },
            "increasing": {
             "marker": {
              "color": "#000032"
             }
            },
            "totals": {
             "marker": {
              "color": "#000034"
             }
            },
            "type": "waterfall"
           }
          ]
         },
         "layout": {
          "coloraxis": {
           "colorscale": [
            [
             0,
             "#000011"
            ],
            [
             0.1111111111111111,
             "#000012"
            ],
            [
             0.2222222222222222,
             "#000013"
            ],
            [
             0.3333333333333333,
             "#000014"
            ],
            [
             0.4444444444444444,
             "#000015"
            ],
            [
             0.5555555555555556,
             "#000016"
            ],
            [
             0.6666666666666666,
             "#000017"
            ],
            [
             0.7777777777777778,
             "#000018"
            ],
            [
             0.8888888888888888,
             "#000019"
            ],
            [
             1,
             "#000020"
            ]
           ]
          },
          "colorscale": {
           "diverging": [
            [
             0,
             "#000021"
            ],
            [
             0.1,
             "#000022"
            ],
            [
             0.2,
             "#000023"
            ],
            [
             0.3,
             "#000024"
            ],
            [
             0.4,
             "#000025"
            ],
            [
             0.5,
             "#000026"
            ],
            [
             0.6,
             "#000027"
            ],
            [
             0.7,
             "#000028"
            ],
            [
             0.8,
             "#000029"
            ],
            [
             0.9,
             "#000030"
            ],
            [
             1,
             "#000031"
            ]
           ],
           "sequential": [
            [
             0,
             "#000011"
            ],
            [
             0.1111111111111111,
             "#000012"
            ],
            [
             0.2222222222222222,
             "#000013"
            ],
            [
             0.3333333333333333,
             "#000014"
            ],
            [
             0.4444444444444444,
             "#000015"
            ],
            [
             0.5555555555555556,
             "#000016"
            ],
            [
             0.6666666666666666,
             "#000017"
            ],
            [
             0.7777777777777778,
             "#000018"
            ],
            [
             0.8888888888888888,
             "#000019"
            ],
            [
             1,
             "#000020"
            ]
           ],
           "sequentialminus": [
            [
             0,
             "#000011"
            ],
            [
             0.1111111111111111,
             "#000012"
            ],
            [
             0.2222222222222222,
             "#000013"
            ],
            [
             0.3333333333333333,
             "#000014"
            ],
            [
             0.4444444444444444,
             "#000015"
            ],
            [
             0.5555555555555556,
             "#000016"
            ],
            [
             0.6666666666666666,
             "#000017"
            ],
            [
             0.7777777777777778,
             "#000018"
            ],
            [
             0.8888888888888888,
             "#000019"
            ],
            [
             1,
             "#000020"
            ]
           ]
          },
          "colorway": [
           "#000001",
           "#000002",
           "#000003",
           "#000004",
           "#000005",
           "#000006",
           "#000007",
           "#000008",
           "#000009",
           "#000010"
          ]
         }
        },
        "title": {
         "text": "% y número de días según la Escala CV. Año 2024"
        },
        "width": 500
       }
      }
     },
     "metadata": {},
     "output_type": "display_data"
    }
   ],
   "source": [
    "graf_ecv_anual_queso()"
   ]
  },
  {
   "cell_type": "markdown",
   "metadata": {},
   "source": [
    "## Cálculo del precio medio del PVPC"
   ]
  },
  {
   "cell_type": "code",
   "execution_count": 51,
   "metadata": {},
   "outputs": [],
   "source": [
    "def filtrar_mes(mes):\n",
    "    if mes !=None:\n",
    "        filtro_mes=datos['mes']==mes\n",
    "        datos_filtrados_mes=datos[filtro_mes]\n",
    "    else:\n",
    "        datos_filtrados_mes=datos\n",
    "    \n",
    "    pvpc_media=datos_filtrados_mes['value'].mean()\n",
    "    \n",
    "    return datos_filtrados_mes\n"
   ]
  },
  {
   "cell_type": "code",
   "execution_count": 52,
   "metadata": {},
   "outputs": [],
   "source": [
    "def calcular_media_pvpc(mes):\n",
    "    if mes !=None:\n",
    "        datos_filtrados_mes=datos\n",
    "    else:\n",
    "        datos_filtrados_mes=filtrar_mes(mes)\n",
    "    \n",
    "    pvpc_media=datos_filtrados_mes['value'].mean()\n",
    "    #pvpc_media\n",
    "\n",
    "    return pvpc_media"
   ]
  },
  {
   "cell_type": "code",
   "execution_count": 53,
   "metadata": {},
   "outputs": [
    {
     "data": {
      "text/plain": [
       "107.61532784455959"
      ]
     },
     "execution_count": 53,
     "metadata": {},
     "output_type": "execute_result"
    }
   ],
   "source": [
    "calcular_media_pvpc(1)"
   ]
  },
  {
   "cell_type": "code",
   "execution_count": 54,
   "metadata": {},
   "outputs": [
    {
     "data": {
      "text/html": [
       "<div>\n",
       "<style scoped>\n",
       "    .dataframe tbody tr th:only-of-type {\n",
       "        vertical-align: middle;\n",
       "    }\n",
       "\n",
       "    .dataframe tbody tr th {\n",
       "        vertical-align: top;\n",
       "    }\n",
       "\n",
       "    .dataframe thead th {\n",
       "        text-align: right;\n",
       "    }\n",
       "</style>\n",
       "<table border=\"1\" class=\"dataframe\">\n",
       "  <thead>\n",
       "    <tr style=\"text-align: right;\">\n",
       "      <th></th>\n",
       "      <th>value</th>\n",
       "      <th>fecha</th>\n",
       "      <th>hora</th>\n",
       "      <th>dia</th>\n",
       "      <th>mes</th>\n",
       "      <th>año</th>\n",
       "    </tr>\n",
       "    <tr>\n",
       "      <th>datetime</th>\n",
       "      <th></th>\n",
       "      <th></th>\n",
       "      <th></th>\n",
       "      <th></th>\n",
       "      <th></th>\n",
       "      <th></th>\n",
       "    </tr>\n",
       "  </thead>\n",
       "  <tbody>\n",
       "    <tr>\n",
       "      <th>2024-01-01</th>\n",
       "      <td>90.572083</td>\n",
       "      <td>2024-01-01</td>\n",
       "      <td>0</td>\n",
       "      <td>1</td>\n",
       "      <td>1</td>\n",
       "      <td>2024</td>\n",
       "    </tr>\n",
       "    <tr>\n",
       "      <th>2024-01-02</th>\n",
       "      <td>120.480000</td>\n",
       "      <td>2024-01-02</td>\n",
       "      <td>0</td>\n",
       "      <td>2</td>\n",
       "      <td>1</td>\n",
       "      <td>2024</td>\n",
       "    </tr>\n",
       "    <tr>\n",
       "      <th>2024-01-03</th>\n",
       "      <td>130.602500</td>\n",
       "      <td>2024-01-03</td>\n",
       "      <td>0</td>\n",
       "      <td>3</td>\n",
       "      <td>1</td>\n",
       "      <td>2024</td>\n",
       "    </tr>\n",
       "    <tr>\n",
       "      <th>2024-01-04</th>\n",
       "      <td>165.828750</td>\n",
       "      <td>2024-01-04</td>\n",
       "      <td>0</td>\n",
       "      <td>4</td>\n",
       "      <td>1</td>\n",
       "      <td>2024</td>\n",
       "    </tr>\n",
       "    <tr>\n",
       "      <th>2024-01-05</th>\n",
       "      <td>143.957500</td>\n",
       "      <td>2024-01-05</td>\n",
       "      <td>0</td>\n",
       "      <td>5</td>\n",
       "      <td>1</td>\n",
       "      <td>2024</td>\n",
       "    </tr>\n",
       "    <tr>\n",
       "      <th>2024-01-06</th>\n",
       "      <td>88.500833</td>\n",
       "      <td>2024-01-06</td>\n",
       "      <td>0</td>\n",
       "      <td>6</td>\n",
       "      <td>1</td>\n",
       "      <td>2024</td>\n",
       "    </tr>\n",
       "    <tr>\n",
       "      <th>2024-01-07</th>\n",
       "      <td>120.919167</td>\n",
       "      <td>2024-01-07</td>\n",
       "      <td>0</td>\n",
       "      <td>7</td>\n",
       "      <td>1</td>\n",
       "      <td>2024</td>\n",
       "    </tr>\n",
       "    <tr>\n",
       "      <th>2024-01-08</th>\n",
       "      <td>178.196667</td>\n",
       "      <td>2024-01-08</td>\n",
       "      <td>0</td>\n",
       "      <td>8</td>\n",
       "      <td>1</td>\n",
       "      <td>2024</td>\n",
       "    </tr>\n",
       "    <tr>\n",
       "      <th>2024-01-09</th>\n",
       "      <td>183.964167</td>\n",
       "      <td>2024-01-09</td>\n",
       "      <td>0</td>\n",
       "      <td>9</td>\n",
       "      <td>1</td>\n",
       "      <td>2024</td>\n",
       "    </tr>\n",
       "    <tr>\n",
       "      <th>2024-01-10</th>\n",
       "      <td>169.897500</td>\n",
       "      <td>2024-01-10</td>\n",
       "      <td>0</td>\n",
       "      <td>10</td>\n",
       "      <td>1</td>\n",
       "      <td>2024</td>\n",
       "    </tr>\n",
       "    <tr>\n",
       "      <th>2024-01-11</th>\n",
       "      <td>167.151667</td>\n",
       "      <td>2024-01-11</td>\n",
       "      <td>0</td>\n",
       "      <td>11</td>\n",
       "      <td>1</td>\n",
       "      <td>2024</td>\n",
       "    </tr>\n",
       "    <tr>\n",
       "      <th>2024-01-12</th>\n",
       "      <td>167.062917</td>\n",
       "      <td>2024-01-12</td>\n",
       "      <td>0</td>\n",
       "      <td>12</td>\n",
       "      <td>1</td>\n",
       "      <td>2024</td>\n",
       "    </tr>\n",
       "    <tr>\n",
       "      <th>2024-01-13</th>\n",
       "      <td>129.280000</td>\n",
       "      <td>2024-01-13</td>\n",
       "      <td>0</td>\n",
       "      <td>13</td>\n",
       "      <td>1</td>\n",
       "      <td>2024</td>\n",
       "    </tr>\n",
       "    <tr>\n",
       "      <th>2024-01-14</th>\n",
       "      <td>119.779583</td>\n",
       "      <td>2024-01-14</td>\n",
       "      <td>0</td>\n",
       "      <td>14</td>\n",
       "      <td>1</td>\n",
       "      <td>2024</td>\n",
       "    </tr>\n",
       "    <tr>\n",
       "      <th>2024-01-15</th>\n",
       "      <td>162.664583</td>\n",
       "      <td>2024-01-15</td>\n",
       "      <td>0</td>\n",
       "      <td>15</td>\n",
       "      <td>1</td>\n",
       "      <td>2024</td>\n",
       "    </tr>\n",
       "    <tr>\n",
       "      <th>2024-01-16</th>\n",
       "      <td>162.356250</td>\n",
       "      <td>2024-01-16</td>\n",
       "      <td>0</td>\n",
       "      <td>16</td>\n",
       "      <td>1</td>\n",
       "      <td>2024</td>\n",
       "    </tr>\n",
       "    <tr>\n",
       "      <th>2024-01-17</th>\n",
       "      <td>102.068333</td>\n",
       "      <td>2024-01-17</td>\n",
       "      <td>0</td>\n",
       "      <td>17</td>\n",
       "      <td>1</td>\n",
       "      <td>2024</td>\n",
       "    </tr>\n",
       "    <tr>\n",
       "      <th>2024-01-18</th>\n",
       "      <td>123.261667</td>\n",
       "      <td>2024-01-18</td>\n",
       "      <td>0</td>\n",
       "      <td>18</td>\n",
       "      <td>1</td>\n",
       "      <td>2024</td>\n",
       "    </tr>\n",
       "    <tr>\n",
       "      <th>2024-01-19</th>\n",
       "      <td>145.768333</td>\n",
       "      <td>2024-01-19</td>\n",
       "      <td>0</td>\n",
       "      <td>19</td>\n",
       "      <td>1</td>\n",
       "      <td>2024</td>\n",
       "    </tr>\n",
       "    <tr>\n",
       "      <th>2024-01-20</th>\n",
       "      <td>124.716250</td>\n",
       "      <td>2024-01-20</td>\n",
       "      <td>0</td>\n",
       "      <td>20</td>\n",
       "      <td>1</td>\n",
       "      <td>2024</td>\n",
       "    </tr>\n",
       "    <tr>\n",
       "      <th>2024-01-21</th>\n",
       "      <td>108.119583</td>\n",
       "      <td>2024-01-21</td>\n",
       "      <td>0</td>\n",
       "      <td>21</td>\n",
       "      <td>1</td>\n",
       "      <td>2024</td>\n",
       "    </tr>\n",
       "    <tr>\n",
       "      <th>2024-01-22</th>\n",
       "      <td>143.644583</td>\n",
       "      <td>2024-01-22</td>\n",
       "      <td>0</td>\n",
       "      <td>22</td>\n",
       "      <td>1</td>\n",
       "      <td>2024</td>\n",
       "    </tr>\n",
       "    <tr>\n",
       "      <th>2024-01-23</th>\n",
       "      <td>151.076667</td>\n",
       "      <td>2024-01-23</td>\n",
       "      <td>0</td>\n",
       "      <td>23</td>\n",
       "      <td>1</td>\n",
       "      <td>2024</td>\n",
       "    </tr>\n",
       "    <tr>\n",
       "      <th>2024-01-24</th>\n",
       "      <td>154.770417</td>\n",
       "      <td>2024-01-24</td>\n",
       "      <td>0</td>\n",
       "      <td>24</td>\n",
       "      <td>1</td>\n",
       "      <td>2024</td>\n",
       "    </tr>\n",
       "    <tr>\n",
       "      <th>2024-01-25</th>\n",
       "      <td>149.817500</td>\n",
       "      <td>2024-01-25</td>\n",
       "      <td>0</td>\n",
       "      <td>25</td>\n",
       "      <td>1</td>\n",
       "      <td>2024</td>\n",
       "    </tr>\n",
       "    <tr>\n",
       "      <th>2024-01-26</th>\n",
       "      <td>147.640000</td>\n",
       "      <td>2024-01-26</td>\n",
       "      <td>0</td>\n",
       "      <td>26</td>\n",
       "      <td>1</td>\n",
       "      <td>2024</td>\n",
       "    </tr>\n",
       "    <tr>\n",
       "      <th>2024-01-27</th>\n",
       "      <td>110.635417</td>\n",
       "      <td>2024-01-27</td>\n",
       "      <td>0</td>\n",
       "      <td>27</td>\n",
       "      <td>1</td>\n",
       "      <td>2024</td>\n",
       "    </tr>\n",
       "    <tr>\n",
       "      <th>2024-01-28</th>\n",
       "      <td>98.438333</td>\n",
       "      <td>2024-01-28</td>\n",
       "      <td>0</td>\n",
       "      <td>28</td>\n",
       "      <td>1</td>\n",
       "      <td>2024</td>\n",
       "    </tr>\n",
       "    <tr>\n",
       "      <th>2024-01-29</th>\n",
       "      <td>152.742500</td>\n",
       "      <td>2024-01-29</td>\n",
       "      <td>0</td>\n",
       "      <td>29</td>\n",
       "      <td>1</td>\n",
       "      <td>2024</td>\n",
       "    </tr>\n",
       "    <tr>\n",
       "      <th>2024-01-30</th>\n",
       "      <td>154.605417</td>\n",
       "      <td>2024-01-30</td>\n",
       "      <td>0</td>\n",
       "      <td>30</td>\n",
       "      <td>1</td>\n",
       "      <td>2024</td>\n",
       "    </tr>\n",
       "    <tr>\n",
       "      <th>2024-01-31</th>\n",
       "      <td>156.104167</td>\n",
       "      <td>2024-01-31</td>\n",
       "      <td>0</td>\n",
       "      <td>31</td>\n",
       "      <td>1</td>\n",
       "      <td>2024</td>\n",
       "    </tr>\n",
       "  </tbody>\n",
       "</table>\n",
       "</div>"
      ],
      "text/plain": [
       "                 value       fecha  hora  dia  mes   año\n",
       "datetime                                                \n",
       "2024-01-01   90.572083  2024-01-01     0    1    1  2024\n",
       "2024-01-02  120.480000  2024-01-02     0    2    1  2024\n",
       "2024-01-03  130.602500  2024-01-03     0    3    1  2024\n",
       "2024-01-04  165.828750  2024-01-04     0    4    1  2024\n",
       "2024-01-05  143.957500  2024-01-05     0    5    1  2024\n",
       "2024-01-06   88.500833  2024-01-06     0    6    1  2024\n",
       "2024-01-07  120.919167  2024-01-07     0    7    1  2024\n",
       "2024-01-08  178.196667  2024-01-08     0    8    1  2024\n",
       "2024-01-09  183.964167  2024-01-09     0    9    1  2024\n",
       "2024-01-10  169.897500  2024-01-10     0   10    1  2024\n",
       "2024-01-11  167.151667  2024-01-11     0   11    1  2024\n",
       "2024-01-12  167.062917  2024-01-12     0   12    1  2024\n",
       "2024-01-13  129.280000  2024-01-13     0   13    1  2024\n",
       "2024-01-14  119.779583  2024-01-14     0   14    1  2024\n",
       "2024-01-15  162.664583  2024-01-15     0   15    1  2024\n",
       "2024-01-16  162.356250  2024-01-16     0   16    1  2024\n",
       "2024-01-17  102.068333  2024-01-17     0   17    1  2024\n",
       "2024-01-18  123.261667  2024-01-18     0   18    1  2024\n",
       "2024-01-19  145.768333  2024-01-19     0   19    1  2024\n",
       "2024-01-20  124.716250  2024-01-20     0   20    1  2024\n",
       "2024-01-21  108.119583  2024-01-21     0   21    1  2024\n",
       "2024-01-22  143.644583  2024-01-22     0   22    1  2024\n",
       "2024-01-23  151.076667  2024-01-23     0   23    1  2024\n",
       "2024-01-24  154.770417  2024-01-24     0   24    1  2024\n",
       "2024-01-25  149.817500  2024-01-25     0   25    1  2024\n",
       "2024-01-26  147.640000  2024-01-26     0   26    1  2024\n",
       "2024-01-27  110.635417  2024-01-27     0   27    1  2024\n",
       "2024-01-28   98.438333  2024-01-28     0   28    1  2024\n",
       "2024-01-29  152.742500  2024-01-29     0   29    1  2024\n",
       "2024-01-30  154.605417  2024-01-30     0   30    1  2024\n",
       "2024-01-31  156.104167  2024-01-31     0   31    1  2024"
      ]
     },
     "execution_count": 54,
     "metadata": {},
     "output_type": "execute_result"
    }
   ],
   "source": [
    "\n",
    "datos_filtrados_mes=filtrar_mes(1)\n",
    "datos_filtrados_mes\n"
   ]
  },
  {
   "cell_type": "markdown",
   "metadata": {},
   "source": [
    "datos_filtrados_dia=datos_filtrados.resample('D').mean()\n",
    "datos_filtrados_dia"
   ]
  },
  {
   "cell_type": "code",
   "execution_count": null,
   "metadata": {},
   "outputs": [],
   "source": []
  },
  {
   "cell_type": "code",
   "execution_count": null,
   "metadata": {},
   "outputs": [],
   "source": []
  },
  {
   "cell_type": "markdown",
   "metadata": {},
   "source": [
    "def graf_dia():\n",
    "    graf_dia=px.line(datos_filtrados_dia,x='fecha',y='value')\n",
    "    \n",
    "    return graf_dia"
   ]
  },
  {
   "cell_type": "markdown",
   "metadata": {},
   "source": [
    "graf_dia()"
   ]
  },
  {
   "cell_type": "code",
   "execution_count": null,
   "metadata": {},
   "outputs": [],
   "source": []
  }
 ],
 "metadata": {
  "kernelspec": {
   "display_name": "base",
   "language": "python",
   "name": "python3"
  },
  "language_info": {
   "codemirror_mode": {
    "name": "ipython",
    "version": 3
   },
   "file_extension": ".py",
   "mimetype": "text/x-python",
   "name": "python",
   "nbconvert_exporter": "python",
   "pygments_lexer": "ipython3",
   "version": "3.11.4"
  }
 },
 "nbformat": 4,
 "nbformat_minor": 2
}
